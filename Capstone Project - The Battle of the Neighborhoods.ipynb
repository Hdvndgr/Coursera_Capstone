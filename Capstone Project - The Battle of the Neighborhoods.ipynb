{
 "cells": [
  {
   "cell_type": "markdown",
   "metadata": {},
   "source": [
    "# Capstone Project - The Battle of the Neighborhoods"
   ]
  },
  {
   "cell_type": "markdown",
   "metadata": {},
   "source": [
    "## Table of contents\n",
    "* [Introduction: Business Problem](#introduction)\n",
    "* [Data](#data)\n",
    "* [Methodology](#methodology)\n",
    "* [Analysis](#analysis)\n",
    "* [Results and Discussion](#results)\n",
    "* [Conclusion](#conclusion)"
   ]
  },
  {
   "cell_type": "markdown",
   "metadata": {},
   "source": [
    "## Introduction: Business Problem <a name=\"introduction\"></a>"
   ]
  },
  {
   "cell_type": "markdown",
   "metadata": {},
   "source": [
    "**Scenario**: You are a great data scientist with a love of beating your personal bests and currently live in Istanbul, Turkey. You receive a job offer from a significant company in Amsterdam, Netherlands. If you decide to accept the offer which is indisputable well opportunity for your career, you have to move to Amsterdam city.\n",
    "<img src='images/ams-ist.jpg' alt='scenes of cities Amsterdam and Istanbul'></img>\n",
    "In order to show your best performance, you want to keep adaptation period as short as possible. That's why you're planing to move to the neighbourhood which is similiar to your home town in terms of a venues.  \n",
    "\n",
    "So in this capstone project we will try to find an optimal location for you. \n",
    "We will try to detect locations with turkish restaurants in vicinity. We will clearly state the best possible locations. Final location can be chosen by yourself based on distance to your job location.\n",
    "\n",
    "We will use our data science powers to generate a few most promising neighborhoods based on this criteria."
   ]
  },
  {
   "cell_type": "markdown",
   "metadata": {},
   "source": [
    "## Data <a name=\"data\"></a>"
   ]
  },
  {
   "cell_type": "markdown",
   "metadata": {},
   "source": [
    "Based on definition of our problem, at the end of our analysis we would have answered following questions:\n",
    "* How similar are Istanbul and Amsterdam city based on venues? \n",
    "* What is the best possible neighborhoods to be moved in?\n",
    "\n",
    "We need two datasets. Each dataset should include at least following features;\n",
    "* Districts\n",
    "* Neighbourhoods\n",
    "* Geographical coordinates (latitude, longitude)\n",
    "\n",
    "In the website of amsterdam municipality there is neighbourhoods dataset, we will use it for our analysis. You can reach this data set with this link <a href='https://maps.amsterdam.nl/open_geodata/?k=198'>City of Amsterdam neighbourhoods dataset</a>\n",
    "Unfortunately, there is no ready-to-use dataset for the city of Istanbul. We will scrape the required fetures from websites. \n",
    "\n",
    "Following data sources will be needed to extract/generate the required information:\n",
    "* Geographical coordinates of neighbourhoods in Istanbul will be obtained using **Google Maps API geocoding** \n",
    "* Number of venues and their type and location in every neighborhood will be obtained using **Foursquare API**"
   ]
  },
  {
   "cell_type": "markdown",
   "metadata": {},
   "source": [
    "### Initializing required libraries"
   ]
  },
  {
   "cell_type": "code",
   "execution_count": 1,
   "metadata": {},
   "outputs": [],
   "source": [
    "import numpy as np\n",
    "import pandas as pd\n",
    "import matplotlib as mpl\n",
    "import matplotlib.pyplot as plt\n",
    "import seaborn as sns\n",
    "import folium\n",
    "from geopy.geocoders import Nominatim\n",
    "import requests\n",
    "from bs4 import BeautifulSoup\n",
    "from tqdm import tqdm_notebook as tqdm # for progressbar\n",
    "import matplotlib.cm as cm\n",
    "import matplotlib.colors as colors\n",
    "\n",
    "%matplotlib inline"
   ]
  },
  {
   "cell_type": "markdown",
   "metadata": {},
   "source": [
    "### Amsterdam Dataset Preperation  "
   ]
  },
  {
   "cell_type": "code",
   "execution_count": 2,
   "metadata": {},
   "outputs": [
    {
     "data": {
      "text/html": [
       "<div>\n",
       "<style scoped>\n",
       "    .dataframe tbody tr th:only-of-type {\n",
       "        vertical-align: middle;\n",
       "    }\n",
       "\n",
       "    .dataframe tbody tr th {\n",
       "        vertical-align: top;\n",
       "    }\n",
       "\n",
       "    .dataframe thead th {\n",
       "        text-align: right;\n",
       "    }\n",
       "</style>\n",
       "<table border=\"1\" class=\"dataframe\">\n",
       "  <thead>\n",
       "    <tr style=\"text-align: right;\">\n",
       "      <th></th>\n",
       "      <th>OBJECTNUMMER</th>\n",
       "      <th>Buurt_code</th>\n",
       "      <th>Buurt</th>\n",
       "      <th>Buurtcombinatie_code</th>\n",
       "      <th>Stadsdeel_code</th>\n",
       "      <th>Opp_m2</th>\n",
       "      <th>WKT_LNG_LAT</th>\n",
       "      <th>WKT_LAT_LNG</th>\n",
       "      <th>LNG</th>\n",
       "      <th>LAT</th>\n",
       "      <th>Unnamed: 10</th>\n",
       "    </tr>\n",
       "  </thead>\n",
       "  <tbody>\n",
       "    <tr>\n",
       "      <th>0</th>\n",
       "      <td>1</td>\n",
       "      <td>F81d</td>\n",
       "      <td>Calandlaan/Lelylaan</td>\n",
       "      <td>F81</td>\n",
       "      <td>F</td>\n",
       "      <td>275360.0</td>\n",
       "      <td>POLYGON((4.800801 52.355175,4.809055 52.356842...</td>\n",
       "      <td>POLYGON((52.355175 4.800801,52.356842 4.809055...</td>\n",
       "      <td>4.809697</td>\n",
       "      <td>52.355708</td>\n",
       "      <td>NaN</td>\n",
       "    </tr>\n",
       "    <tr>\n",
       "      <th>1</th>\n",
       "      <td>2</td>\n",
       "      <td>F81e</td>\n",
       "      <td>Osdorp Zuidoost</td>\n",
       "      <td>F81</td>\n",
       "      <td>F</td>\n",
       "      <td>519366.0</td>\n",
       "      <td>POLYGON((4.818583 52.357519,4.818622 52.356295...</td>\n",
       "      <td>POLYGON((52.357519 4.818583,52.356295 4.818622...</td>\n",
       "      <td>4.811344</td>\n",
       "      <td>52.353736</td>\n",
       "      <td>NaN</td>\n",
       "    </tr>\n",
       "    <tr>\n",
       "      <th>2</th>\n",
       "      <td>3</td>\n",
       "      <td>F82a</td>\n",
       "      <td>Osdorp Midden Noord</td>\n",
       "      <td>F82</td>\n",
       "      <td>F</td>\n",
       "      <td>215541.0</td>\n",
       "      <td>POLYGON((4.786657 52.362712,4.795326 52.364434...</td>\n",
       "      <td>POLYGON((52.362712 4.786657,52.364434 4.795326...</td>\n",
       "      <td>4.791792</td>\n",
       "      <td>52.362078</td>\n",
       "      <td>NaN</td>\n",
       "    </tr>\n",
       "    <tr>\n",
       "      <th>3</th>\n",
       "      <td>4</td>\n",
       "      <td>F82b</td>\n",
       "      <td>Osdorp Midden Zuid</td>\n",
       "      <td>F82</td>\n",
       "      <td>F</td>\n",
       "      <td>258379.0</td>\n",
       "      <td>POLYGON((4.788293 52.359736,4.796917 52.36148,...</td>\n",
       "      <td>POLYGON((52.359736 4.788293,52.36148 4.796917,...</td>\n",
       "      <td>4.793781</td>\n",
       "      <td>52.358838</td>\n",
       "      <td>NaN</td>\n",
       "    </tr>\n",
       "    <tr>\n",
       "      <th>4</th>\n",
       "      <td>5</td>\n",
       "      <td>F82c</td>\n",
       "      <td>Zuidwestkwadrant Osdorp Noord</td>\n",
       "      <td>F82</td>\n",
       "      <td>F</td>\n",
       "      <td>240774.0</td>\n",
       "      <td>POLYGON((4.790209 52.356207,4.799258 52.358027...</td>\n",
       "      <td>POLYGON((52.356207 4.790209,52.358027 4.799258...</td>\n",
       "      <td>4.795597</td>\n",
       "      <td>52.355523</td>\n",
       "      <td>NaN</td>\n",
       "    </tr>\n",
       "  </tbody>\n",
       "</table>\n",
       "</div>"
      ],
      "text/plain": [
       "   OBJECTNUMMER Buurt_code                          Buurt  \\\n",
       "0             1       F81d            Calandlaan/Lelylaan   \n",
       "1             2       F81e                Osdorp Zuidoost   \n",
       "2             3       F82a            Osdorp Midden Noord   \n",
       "3             4       F82b             Osdorp Midden Zuid   \n",
       "4             5       F82c  Zuidwestkwadrant Osdorp Noord   \n",
       "\n",
       "  Buurtcombinatie_code Stadsdeel_code    Opp_m2  \\\n",
       "0                  F81              F  275360.0   \n",
       "1                  F81              F  519366.0   \n",
       "2                  F82              F  215541.0   \n",
       "3                  F82              F  258379.0   \n",
       "4                  F82              F  240774.0   \n",
       "\n",
       "                                         WKT_LNG_LAT  \\\n",
       "0  POLYGON((4.800801 52.355175,4.809055 52.356842...   \n",
       "1  POLYGON((4.818583 52.357519,4.818622 52.356295...   \n",
       "2  POLYGON((4.786657 52.362712,4.795326 52.364434...   \n",
       "3  POLYGON((4.788293 52.359736,4.796917 52.36148,...   \n",
       "4  POLYGON((4.790209 52.356207,4.799258 52.358027...   \n",
       "\n",
       "                                         WKT_LAT_LNG       LNG        LAT  \\\n",
       "0  POLYGON((52.355175 4.800801,52.356842 4.809055...  4.809697  52.355708   \n",
       "1  POLYGON((52.357519 4.818583,52.356295 4.818622...  4.811344  52.353736   \n",
       "2  POLYGON((52.362712 4.786657,52.364434 4.795326...  4.791792  52.362078   \n",
       "3  POLYGON((52.359736 4.788293,52.36148 4.796917,...  4.793781  52.358838   \n",
       "4  POLYGON((52.356207 4.790209,52.358027 4.799258...  4.795597  52.355523   \n",
       "\n",
       "   Unnamed: 10  \n",
       "0          NaN  \n",
       "1          NaN  \n",
       "2          NaN  \n",
       "3          NaN  \n",
       "4          NaN  "
      ]
     },
     "execution_count": 2,
     "metadata": {},
     "output_type": "execute_result"
    }
   ],
   "source": [
    "amsterdam_data = pd.read_csv('datasets/GEBIED_BUURTEN.csv', sep=';')\n",
    "amsterdam_data.head()"
   ]
  },
  {
   "cell_type": "markdown",
   "metadata": {},
   "source": [
    "City of Amsterdam has 8 districts and 481 neigbourhoods in total."
   ]
  },
  {
   "cell_type": "code",
   "execution_count": 3,
   "metadata": {},
   "outputs": [
    {
     "data": {
      "text/plain": [
       "8"
      ]
     },
     "execution_count": 3,
     "metadata": {},
     "output_type": "execute_result"
    }
   ],
   "source": [
    "len(amsterdam_data['Stadsdeel_code'].unique())"
   ]
  },
  {
   "cell_type": "code",
   "execution_count": 4,
   "metadata": {},
   "outputs": [
    {
     "data": {
      "text/plain": [
       "481"
      ]
     },
     "execution_count": 4,
     "metadata": {},
     "output_type": "execute_result"
    }
   ],
   "source": [
    "amsterdam_data['Buurt'].count().sum()"
   ]
  },
  {
   "cell_type": "markdown",
   "metadata": {},
   "source": [
    "We will get only the columns we need for our analysis."
   ]
  },
  {
   "cell_type": "code",
   "execution_count": 5,
   "metadata": {},
   "outputs": [
    {
     "data": {
      "text/html": [
       "<div>\n",
       "<style scoped>\n",
       "    .dataframe tbody tr th:only-of-type {\n",
       "        vertical-align: middle;\n",
       "    }\n",
       "\n",
       "    .dataframe tbody tr th {\n",
       "        vertical-align: top;\n",
       "    }\n",
       "\n",
       "    .dataframe thead th {\n",
       "        text-align: right;\n",
       "    }\n",
       "</style>\n",
       "<table border=\"1\" class=\"dataframe\">\n",
       "  <thead>\n",
       "    <tr style=\"text-align: right;\">\n",
       "      <th></th>\n",
       "      <th>Buurt</th>\n",
       "      <th>Stadsdeel_code</th>\n",
       "      <th>LNG</th>\n",
       "      <th>LAT</th>\n",
       "    </tr>\n",
       "  </thead>\n",
       "  <tbody>\n",
       "    <tr>\n",
       "      <th>0</th>\n",
       "      <td>Calandlaan/Lelylaan</td>\n",
       "      <td>F</td>\n",
       "      <td>4.809697</td>\n",
       "      <td>52.355708</td>\n",
       "    </tr>\n",
       "    <tr>\n",
       "      <th>1</th>\n",
       "      <td>Osdorp Zuidoost</td>\n",
       "      <td>F</td>\n",
       "      <td>4.811344</td>\n",
       "      <td>52.353736</td>\n",
       "    </tr>\n",
       "    <tr>\n",
       "      <th>2</th>\n",
       "      <td>Osdorp Midden Noord</td>\n",
       "      <td>F</td>\n",
       "      <td>4.791792</td>\n",
       "      <td>52.362078</td>\n",
       "    </tr>\n",
       "    <tr>\n",
       "      <th>3</th>\n",
       "      <td>Osdorp Midden Zuid</td>\n",
       "      <td>F</td>\n",
       "      <td>4.793781</td>\n",
       "      <td>52.358838</td>\n",
       "    </tr>\n",
       "    <tr>\n",
       "      <th>4</th>\n",
       "      <td>Zuidwestkwadrant Osdorp Noord</td>\n",
       "      <td>F</td>\n",
       "      <td>4.795597</td>\n",
       "      <td>52.355523</td>\n",
       "    </tr>\n",
       "  </tbody>\n",
       "</table>\n",
       "</div>"
      ],
      "text/plain": [
       "                           Buurt Stadsdeel_code       LNG        LAT\n",
       "0            Calandlaan/Lelylaan              F  4.809697  52.355708\n",
       "1                Osdorp Zuidoost              F  4.811344  52.353736\n",
       "2            Osdorp Midden Noord              F  4.791792  52.362078\n",
       "3             Osdorp Midden Zuid              F  4.793781  52.358838\n",
       "4  Zuidwestkwadrant Osdorp Noord              F  4.795597  52.355523"
      ]
     },
     "execution_count": 5,
     "metadata": {},
     "output_type": "execute_result"
    }
   ],
   "source": [
    "needed_columns = ['Buurt', 'Stadsdeel_code', 'LNG', 'LAT']\n",
    "amsterdam_df = amsterdam_data.loc[:, needed_columns]\n",
    "amsterdam_df.head()"
   ]
  },
  {
   "cell_type": "markdown",
   "metadata": {},
   "source": [
    "We will add names of districts. Also we will change the names of our columns. Finally, reorder columns and amsterdam dataset is ready to use.  "
   ]
  },
  {
   "cell_type": "code",
   "execution_count": 6,
   "metadata": {},
   "outputs": [
    {
     "data": {
      "text/html": [
       "<div>\n",
       "<style scoped>\n",
       "    .dataframe tbody tr th:only-of-type {\n",
       "        vertical-align: middle;\n",
       "    }\n",
       "\n",
       "    .dataframe tbody tr th {\n",
       "        vertical-align: top;\n",
       "    }\n",
       "\n",
       "    .dataframe thead th {\n",
       "        text-align: right;\n",
       "    }\n",
       "</style>\n",
       "<table border=\"1\" class=\"dataframe\">\n",
       "  <thead>\n",
       "    <tr style=\"text-align: right;\">\n",
       "      <th></th>\n",
       "      <th>District</th>\n",
       "      <th>Neighbourhood</th>\n",
       "      <th>Latitude</th>\n",
       "      <th>Longitude</th>\n",
       "    </tr>\n",
       "  </thead>\n",
       "  <tbody>\n",
       "    <tr>\n",
       "      <th>0</th>\n",
       "      <td>Nieuw-West</td>\n",
       "      <td>Calandlaan/Lelylaan</td>\n",
       "      <td>52.355708</td>\n",
       "      <td>4.809697</td>\n",
       "    </tr>\n",
       "    <tr>\n",
       "      <th>1</th>\n",
       "      <td>Nieuw-West</td>\n",
       "      <td>Osdorp Zuidoost</td>\n",
       "      <td>52.353736</td>\n",
       "      <td>4.811344</td>\n",
       "    </tr>\n",
       "    <tr>\n",
       "      <th>2</th>\n",
       "      <td>Nieuw-West</td>\n",
       "      <td>Osdorp Midden Noord</td>\n",
       "      <td>52.362078</td>\n",
       "      <td>4.791792</td>\n",
       "    </tr>\n",
       "    <tr>\n",
       "      <th>3</th>\n",
       "      <td>Nieuw-West</td>\n",
       "      <td>Osdorp Midden Zuid</td>\n",
       "      <td>52.358838</td>\n",
       "      <td>4.793781</td>\n",
       "    </tr>\n",
       "    <tr>\n",
       "      <th>4</th>\n",
       "      <td>Nieuw-West</td>\n",
       "      <td>Zuidwestkwadrant Osdorp Noord</td>\n",
       "      <td>52.355523</td>\n",
       "      <td>4.795597</td>\n",
       "    </tr>\n",
       "  </tbody>\n",
       "</table>\n",
       "</div>"
      ],
      "text/plain": [
       "     District                  Neighbourhood   Latitude  Longitude\n",
       "0  Nieuw-West            Calandlaan/Lelylaan  52.355708   4.809697\n",
       "1  Nieuw-West                Osdorp Zuidoost  52.353736   4.811344\n",
       "2  Nieuw-West            Osdorp Midden Noord  52.362078   4.791792\n",
       "3  Nieuw-West             Osdorp Midden Zuid  52.358838   4.793781\n",
       "4  Nieuw-West  Zuidwestkwadrant Osdorp Noord  52.355523   4.795597"
      ]
     },
     "execution_count": 6,
     "metadata": {},
     "output_type": "execute_result"
    }
   ],
   "source": [
    "amsterdam_districts = {'B':'Westpoort', 'T':'Zuidoost', 'M':'Oost', 'A':'Centrum', \n",
    "                       'N':'Noord', 'F':'Nieuw-West', 'E':'West', 'K':'Zuid'}\n",
    "amsterdam_df.replace({'Stadsdeel_code': amsterdam_districts}, inplace=True)\n",
    "\n",
    "proper_column_names = {'Buurt':'Neighbourhood', 'Stadsdeel_code':'District', 'LNG':'Longitude', 'LAT':'Latitude'}\n",
    "amsterdam_df.rename(columns=proper_column_names, inplace=True)\n",
    "\n",
    "column_order = ['District', 'Neighbourhood', 'Latitude', 'Longitude']\n",
    "amsterdam_df = amsterdam_df[column_order]\n",
    "amsterdam_df.head()"
   ]
  },
  {
   "cell_type": "markdown",
   "metadata": {},
   "source": [
    "### Istanbul Dataset Preperation"
   ]
  },
  {
   "cell_type": "code",
   "execution_count": 7,
   "metadata": {},
   "outputs": [],
   "source": [
    "url = \"https://en.wikipedia.org/wiki/List_of_neighbourhoods_of_Istanbul\"\n",
    "response = requests.get(url)\n",
    "document = BeautifulSoup(response.content, 'html.parser')"
   ]
  },
  {
   "cell_type": "markdown",
   "metadata": {},
   "source": [
    "We get our target div element."
   ]
  },
  {
   "cell_type": "code",
   "execution_count": 8,
   "metadata": {},
   "outputs": [],
   "source": [
    "target_div = document.select('div[class=\"mw-parser-output\"]')[0]"
   ]
  },
  {
   "cell_type": "markdown",
   "metadata": {},
   "source": [
    "Istanbul city has 39 districts and 783 neighbourhoods in total."
   ]
  },
  {
   "cell_type": "code",
   "execution_count": 9,
   "metadata": {},
   "outputs": [
    {
     "data": {
      "text/plain": [
       "39"
      ]
     },
     "execution_count": 9,
     "metadata": {},
     "output_type": "execute_result"
    }
   ],
   "source": [
    "len(target_div.select('h3'))"
   ]
  },
  {
   "cell_type": "code",
   "execution_count": 10,
   "metadata": {},
   "outputs": [
    {
     "data": {
      "text/plain": [
       "783"
      ]
     },
     "execution_count": 10,
     "metadata": {},
     "output_type": "execute_result"
    }
   ],
   "source": [
    "len(target_div.select('ol li'))"
   ]
  },
  {
   "cell_type": "markdown",
   "metadata": {},
   "source": [
    "Every h3 element involves the district name and each li element in ol tags represents neighbourhoods. We wrote a function to get values from the target."
   ]
  },
  {
   "cell_type": "code",
   "execution_count": 11,
   "metadata": {},
   "outputs": [],
   "source": [
    "def get_values(target):\n",
    "    column_names = ['District', 'Neighbourhood']\n",
    "    df = pd.DataFrame(columns=column_names)\n",
    "    ix = 0\n",
    "    for h3, ol in tqdm(zip(target.select('h3'), target.select('ol'))):\n",
    "        for li in ol.select('li'):\n",
    "            try:\n",
    "                neigh = li.a.string\n",
    "            except:\n",
    "                neigh = li.string\n",
    "            dist = h3.select('.mw-headline')[0].string\n",
    "            df.loc[ix] = [dist, neigh] \n",
    "            ix += 1\n",
    "    return df"
   ]
  },
  {
   "cell_type": "code",
   "execution_count": 12,
   "metadata": {},
   "outputs": [
    {
     "data": {
      "application/vnd.jupyter.widget-view+json": {
       "model_id": "75a94e9cf6844ece8931e05940e8a182",
       "version_major": 2,
       "version_minor": 0
      },
      "text/plain": [
       "HBox(children=(IntProgress(value=1, bar_style='info', max=1), HTML(value='')))"
      ]
     },
     "metadata": {},
     "output_type": "display_data"
    },
    {
     "name": "stdout",
     "output_type": "stream",
     "text": [
      "\n"
     ]
    },
    {
     "data": {
      "text/html": [
       "<div>\n",
       "<style scoped>\n",
       "    .dataframe tbody tr th:only-of-type {\n",
       "        vertical-align: middle;\n",
       "    }\n",
       "\n",
       "    .dataframe tbody tr th {\n",
       "        vertical-align: top;\n",
       "    }\n",
       "\n",
       "    .dataframe thead th {\n",
       "        text-align: right;\n",
       "    }\n",
       "</style>\n",
       "<table border=\"1\" class=\"dataframe\">\n",
       "  <thead>\n",
       "    <tr style=\"text-align: right;\">\n",
       "      <th></th>\n",
       "      <th>District</th>\n",
       "      <th>Neighbourhood</th>\n",
       "    </tr>\n",
       "  </thead>\n",
       "  <tbody>\n",
       "    <tr>\n",
       "      <th>0</th>\n",
       "      <td>Adalar</td>\n",
       "      <td>Burgazada</td>\n",
       "    </tr>\n",
       "    <tr>\n",
       "      <th>1</th>\n",
       "      <td>Adalar</td>\n",
       "      <td>Heybeliada</td>\n",
       "    </tr>\n",
       "    <tr>\n",
       "      <th>2</th>\n",
       "      <td>Adalar</td>\n",
       "      <td>Kınalıada</td>\n",
       "    </tr>\n",
       "    <tr>\n",
       "      <th>3</th>\n",
       "      <td>Adalar</td>\n",
       "      <td>Maden</td>\n",
       "    </tr>\n",
       "    <tr>\n",
       "      <th>4</th>\n",
       "      <td>Adalar</td>\n",
       "      <td>Nizam</td>\n",
       "    </tr>\n",
       "  </tbody>\n",
       "</table>\n",
       "</div>"
      ],
      "text/plain": [
       "  District Neighbourhood\n",
       "0   Adalar     Burgazada\n",
       "1   Adalar    Heybeliada\n",
       "2   Adalar     Kınalıada\n",
       "3   Adalar         Maden\n",
       "4   Adalar         Nizam"
      ]
     },
     "execution_count": 12,
     "metadata": {},
     "output_type": "execute_result"
    }
   ],
   "source": [
    "istanbul_data = get_values(target_div)\n",
    "istanbul_data.head()"
   ]
  },
  {
   "cell_type": "markdown",
   "metadata": {},
   "source": [
    "Is there any Nan value in the dataframe?"
   ]
  },
  {
   "cell_type": "code",
   "execution_count": 13,
   "metadata": {},
   "outputs": [
    {
     "data": {
      "text/plain": [
       "District         False\n",
       "Neighbourhood    False\n",
       "dtype: bool"
      ]
     },
     "execution_count": 13,
     "metadata": {},
     "output_type": "execute_result"
    }
   ],
   "source": [
    "istanbul_data.isna().any()"
   ]
  },
  {
   "cell_type": "markdown",
   "metadata": {},
   "source": [
    "When we look neighbourhood column, we see some of them involves both neighbourhood and district name with comma seperation.\n",
    "We will get rid of these unnecessary district names.\n",
    "Also we should remove special characters from 'District' column. Without it we may not show proper choropleth maps."
   ]
  },
  {
   "cell_type": "code",
   "execution_count": 14,
   "metadata": {},
   "outputs": [
    {
     "data": {
      "text/html": [
       "<div>\n",
       "<style scoped>\n",
       "    .dataframe tbody tr th:only-of-type {\n",
       "        vertical-align: middle;\n",
       "    }\n",
       "\n",
       "    .dataframe tbody tr th {\n",
       "        vertical-align: top;\n",
       "    }\n",
       "\n",
       "    .dataframe thead th {\n",
       "        text-align: right;\n",
       "    }\n",
       "</style>\n",
       "<table border=\"1\" class=\"dataframe\">\n",
       "  <thead>\n",
       "    <tr style=\"text-align: right;\">\n",
       "      <th></th>\n",
       "      <th>District</th>\n",
       "      <th>Neighbourhood</th>\n",
       "    </tr>\n",
       "  </thead>\n",
       "  <tbody>\n",
       "    <tr>\n",
       "      <th>395</th>\n",
       "      <td>Fatih</td>\n",
       "      <td>Yavuz Sultan Selim, Fatih</td>\n",
       "    </tr>\n",
       "    <tr>\n",
       "      <th>396</th>\n",
       "      <td>Fatih</td>\n",
       "      <td>Yedikule, Fatih</td>\n",
       "    </tr>\n",
       "    <tr>\n",
       "      <th>397</th>\n",
       "      <td>Fatih</td>\n",
       "      <td>Zeyrek, Fatih</td>\n",
       "    </tr>\n",
       "    <tr>\n",
       "      <th>398</th>\n",
       "      <td>Gaziosmanpaşa</td>\n",
       "      <td>Bağlarbaşı</td>\n",
       "    </tr>\n",
       "    <tr>\n",
       "      <th>399</th>\n",
       "      <td>Gaziosmanpaşa</td>\n",
       "      <td>Barbaros Hayrettin Paşa</td>\n",
       "    </tr>\n",
       "    <tr>\n",
       "      <th>400</th>\n",
       "      <td>Gaziosmanpaşa</td>\n",
       "      <td>Fevzi Çakmak</td>\n",
       "    </tr>\n",
       "  </tbody>\n",
       "</table>\n",
       "</div>"
      ],
      "text/plain": [
       "          District              Neighbourhood\n",
       "395          Fatih  Yavuz Sultan Selim, Fatih\n",
       "396          Fatih            Yedikule, Fatih\n",
       "397          Fatih              Zeyrek, Fatih\n",
       "398  Gaziosmanpaşa                 Bağlarbaşı\n",
       "399  Gaziosmanpaşa    Barbaros Hayrettin Paşa\n",
       "400  Gaziosmanpaşa               Fevzi Çakmak"
      ]
     },
     "execution_count": 14,
     "metadata": {},
     "output_type": "execute_result"
    }
   ],
   "source": [
    "istanbul_data.loc[395:400]"
   ]
  },
  {
   "cell_type": "code",
   "execution_count": 15,
   "metadata": {},
   "outputs": [
    {
     "data": {
      "text/plain": [
       "array(['Adalar', 'Arnavutköy', 'Ataşehir', 'Avcılar', 'Bağcılar',\n",
       "       'Bahçelievler', 'Bakırköy', 'Başakşehir', 'Bayrampaşa', 'Beşiktaş',\n",
       "       'Beykoz', 'Beylikdüzü', 'Beyoğlu', 'Büyükçekmece', 'Çatalca',\n",
       "       'Çekmeköy', 'Esenler', 'Esenyurt', 'Eyüp', 'Fatih',\n",
       "       'Gaziosmanpaşa', 'Güngören', 'Kadıköy', 'Kağıthane', 'Kartal',\n",
       "       'Küçükçekmece', 'Maltepe', 'Pendik', 'Sancaktepe', 'Sarıyer',\n",
       "       'Silivri', 'Sultanbeyli', 'Sultangazi', 'Şile', 'Şişli', 'Tuzla',\n",
       "       'Ümraniye', 'Üsküdar', 'Zeytinburnu'], dtype=object)"
      ]
     },
     "execution_count": 15,
     "metadata": {},
     "output_type": "execute_result"
    }
   ],
   "source": [
    "istanbul_data.District.unique()"
   ]
  },
  {
   "cell_type": "code",
   "execution_count": 16,
   "metadata": {},
   "outputs": [
    {
     "data": {
      "text/html": [
       "<div>\n",
       "<style scoped>\n",
       "    .dataframe tbody tr th:only-of-type {\n",
       "        vertical-align: middle;\n",
       "    }\n",
       "\n",
       "    .dataframe tbody tr th {\n",
       "        vertical-align: top;\n",
       "    }\n",
       "\n",
       "    .dataframe thead th {\n",
       "        text-align: right;\n",
       "    }\n",
       "</style>\n",
       "<table border=\"1\" class=\"dataframe\">\n",
       "  <thead>\n",
       "    <tr style=\"text-align: right;\">\n",
       "      <th></th>\n",
       "      <th>District</th>\n",
       "      <th>Neighbourhood</th>\n",
       "    </tr>\n",
       "  </thead>\n",
       "  <tbody>\n",
       "    <tr>\n",
       "      <th>395</th>\n",
       "      <td>Fatih</td>\n",
       "      <td>Yavuz Sultan Selim</td>\n",
       "    </tr>\n",
       "    <tr>\n",
       "      <th>396</th>\n",
       "      <td>Fatih</td>\n",
       "      <td>Yedikule</td>\n",
       "    </tr>\n",
       "    <tr>\n",
       "      <th>397</th>\n",
       "      <td>Fatih</td>\n",
       "      <td>Zeyrek</td>\n",
       "    </tr>\n",
       "    <tr>\n",
       "      <th>398</th>\n",
       "      <td>Gaziosmanpasa</td>\n",
       "      <td>Bağlarbaşı</td>\n",
       "    </tr>\n",
       "    <tr>\n",
       "      <th>399</th>\n",
       "      <td>Gaziosmanpasa</td>\n",
       "      <td>Barbaros Hayrettin Paşa</td>\n",
       "    </tr>\n",
       "    <tr>\n",
       "      <th>400</th>\n",
       "      <td>Gaziosmanpasa</td>\n",
       "      <td>Fevzi Çakmak</td>\n",
       "    </tr>\n",
       "  </tbody>\n",
       "</table>\n",
       "</div>"
      ],
      "text/plain": [
       "          District            Neighbourhood\n",
       "395          Fatih       Yavuz Sultan Selim\n",
       "396          Fatih                 Yedikule\n",
       "397          Fatih                   Zeyrek\n",
       "398  Gaziosmanpasa               Bağlarbaşı\n",
       "399  Gaziosmanpasa  Barbaros Hayrettin Paşa\n",
       "400  Gaziosmanpasa             Fevzi Çakmak"
      ]
     },
     "execution_count": 16,
     "metadata": {},
     "output_type": "execute_result"
    }
   ],
   "source": [
    "destination = istanbul_data.loc[istanbul_data['Neighbourhood'].str.contains(','), 'Neighbourhood']\n",
    "istanbul_data.loc[istanbul_data['Neighbourhood'].str.contains(','), 'Neighbourhood'] = destination.apply(lambda neigh: neigh.split(',')[0])\n",
    "istanbul_districts = {'Arnavutköy':'Arnavutkoy', 'Ataşehir':'Atasehir', 'Avcılar':'Avcilar', 'Bağcılar': 'Bagcilar', 'Bahçelievler':'Bahcelievler',\n",
    "                      'Bakırköy':'Bakirkoy', 'Başakşehir':'Basaksehir', 'Bayrampaşa':'Bayrampasa', 'Beşiktaş': 'Besiktas', 'Beylikdüzü':'Beylikduzu', \n",
    "                      'Beyoğlu':'Beyoglu', 'Büyükçekmece': 'Buyukcekmece', 'Çatalca':'Catalca', 'Çekmeköy':'Cekmekoy', 'Eyüp':'Eyup', \n",
    "                      'Gaziosmanpaşa':'Gaziosmanpasa', 'Güngören':'Gungoren', 'Kadıköy':'Kadikoy', 'Kağıthane':'Kagithane', 'Küçükçekmece':'Kucukcekmece', \n",
    "                      'Sarıyer':'Sariyer', 'Şile':'Sile', 'Şişli':'Sisli', 'Ümraniye':'Umraniye', 'Üsküdar':'Uskudar'}\n",
    "istanbul_data.replace({'District': istanbul_districts}, inplace=True)\n",
    "istanbul_data.loc[395:400]"
   ]
  },
  {
   "cell_type": "markdown",
   "metadata": {},
   "source": [
    "Now, we should get coordinates of each neighbourhood. To do that, we will use **Google Maps API geocoding** recursively."
   ]
  },
  {
   "cell_type": "code",
   "execution_count": 17,
   "metadata": {},
   "outputs": [],
   "source": [
    "def get_coordinates(api_key, address, verbose=False):\n",
    "    try:\n",
    "        url = 'https://maps.googleapis.com/maps/api/geocode/json?key={}&address={}'.format(api_key, address)\n",
    "        response = requests.get(url).json()\n",
    "        if verbose:\n",
    "            print('Google Maps API JSON result =>', response)\n",
    "        results = response['results']\n",
    "        geographical_data = results[0]['geometry']['location'] # get geographical coordinates\n",
    "        lat = geographical_data['lat']\n",
    "        lon = geographical_data['lng']\n",
    "        return [lat, lon]\n",
    "    except:\n",
    "        return [None, None]"
   ]
  },
  {
   "cell_type": "code",
   "execution_count": 18,
   "metadata": {},
   "outputs": [],
   "source": [
    "def get_all_coordinates(df, api_key):\n",
    "    for index, (neigh, dist) in tqdm(enumerate(zip(df.Neighbourhood, df.District))):\n",
    "        address = neigh + ', ' + dist + ', istanbul'\n",
    "        lat, long = get_coordinates(api_key, address)\n",
    "        df.loc[index, 'Latitude'] = lat\n",
    "        df.loc[index, 'Longitude'] = long\n",
    "    return df"
   ]
  },
  {
   "cell_type": "markdown",
   "metadata": {},
   "source": [
    "API_KEY value was removed after getting the locations."
   ]
  },
  {
   "cell_type": "code",
   "execution_count": 32,
   "metadata": {},
   "outputs": [],
   "source": [
    "API_KEY = \"???\""
   ]
  },
  {
   "cell_type": "code",
   "execution_count": 7,
   "metadata": {},
   "outputs": [],
   "source": [
    "istanbul_df = get_all_coordinates(istanbul_data, API_KEY)"
   ]
  },
  {
   "cell_type": "markdown",
   "metadata": {},
   "source": [
    "We will save our dataframe as csv file to make it available for later usage."
   ]
  },
  {
   "cell_type": "code",
   "execution_count": 7,
   "metadata": {},
   "outputs": [],
   "source": [
    "istanbul_df.to_csv('datasets/istanbul.csv', index=False)"
   ]
  },
  {
   "cell_type": "code",
   "execution_count": 8,
   "metadata": {},
   "outputs": [
    {
     "data": {
      "text/html": [
       "<div>\n",
       "<style scoped>\n",
       "    .dataframe tbody tr th:only-of-type {\n",
       "        vertical-align: middle;\n",
       "    }\n",
       "\n",
       "    .dataframe tbody tr th {\n",
       "        vertical-align: top;\n",
       "    }\n",
       "\n",
       "    .dataframe thead th {\n",
       "        text-align: right;\n",
       "    }\n",
       "</style>\n",
       "<table border=\"1\" class=\"dataframe\">\n",
       "  <thead>\n",
       "    <tr style=\"text-align: right;\">\n",
       "      <th></th>\n",
       "      <th>District</th>\n",
       "      <th>Neighbourhood</th>\n",
       "      <th>Latitude</th>\n",
       "      <th>Longitude</th>\n",
       "    </tr>\n",
       "  </thead>\n",
       "  <tbody>\n",
       "    <tr>\n",
       "      <th>0</th>\n",
       "      <td>Adalar</td>\n",
       "      <td>Burgazada</td>\n",
       "      <td>40.880000</td>\n",
       "      <td>29.066944</td>\n",
       "    </tr>\n",
       "    <tr>\n",
       "      <th>1</th>\n",
       "      <td>Adalar</td>\n",
       "      <td>Heybeliada</td>\n",
       "      <td>40.877974</td>\n",
       "      <td>29.095299</td>\n",
       "    </tr>\n",
       "    <tr>\n",
       "      <th>2</th>\n",
       "      <td>Adalar</td>\n",
       "      <td>Kınalıada</td>\n",
       "      <td>40.909070</td>\n",
       "      <td>29.053205</td>\n",
       "    </tr>\n",
       "    <tr>\n",
       "      <th>3</th>\n",
       "      <td>Adalar</td>\n",
       "      <td>Maden</td>\n",
       "      <td>40.858320</td>\n",
       "      <td>29.123072</td>\n",
       "    </tr>\n",
       "    <tr>\n",
       "      <th>4</th>\n",
       "      <td>Adalar</td>\n",
       "      <td>Nizam</td>\n",
       "      <td>40.863169</td>\n",
       "      <td>29.116381</td>\n",
       "    </tr>\n",
       "  </tbody>\n",
       "</table>\n",
       "</div>"
      ],
      "text/plain": [
       "  District Neighbourhood   Latitude  Longitude\n",
       "0   Adalar     Burgazada  40.880000  29.066944\n",
       "1   Adalar    Heybeliada  40.877974  29.095299\n",
       "2   Adalar     Kınalıada  40.909070  29.053205\n",
       "3   Adalar         Maden  40.858320  29.123072\n",
       "4   Adalar         Nizam  40.863169  29.116381"
      ]
     },
     "execution_count": 8,
     "metadata": {},
     "output_type": "execute_result"
    }
   ],
   "source": [
    "istanbul_df.head()"
   ]
  },
  {
   "cell_type": "markdown",
   "metadata": {},
   "source": [
    "Could we get all neighbourhood locations correctly? What is total number of Nan values for each column?"
   ]
  },
  {
   "cell_type": "code",
   "execution_count": 9,
   "metadata": {},
   "outputs": [
    {
     "name": "stdout",
     "output_type": "stream",
     "text": [
      "<class 'pandas.core.frame.DataFrame'>\n",
      "RangeIndex: 783 entries, 0 to 782\n",
      "Data columns (total 4 columns):\n",
      "District         783 non-null object\n",
      "Neighbourhood    783 non-null object\n",
      "Latitude         730 non-null float64\n",
      "Longitude        730 non-null float64\n",
      "dtypes: float64(2), object(2)\n",
      "memory usage: 24.5+ KB\n"
     ]
    }
   ],
   "source": [
    "istanbul_df.info()"
   ]
  },
  {
   "cell_type": "code",
   "execution_count": 10,
   "metadata": {},
   "outputs": [
    {
     "data": {
      "text/plain": [
       "District          0\n",
       "Neighbourhood     0\n",
       "Latitude         53\n",
       "Longitude        53\n",
       "dtype: int64"
      ]
     },
     "execution_count": 10,
     "metadata": {},
     "output_type": "execute_result"
    }
   ],
   "source": [
    "istanbul_df.isnull().sum()"
   ]
  },
  {
   "cell_type": "markdown",
   "metadata": {},
   "source": [
    "We will drop the rows of the Nan value and we will continue to analysis with rest of them."
   ]
  },
  {
   "cell_type": "code",
   "execution_count": 11,
   "metadata": {},
   "outputs": [
    {
     "name": "stdout",
     "output_type": "stream",
     "text": [
      "<class 'pandas.core.frame.DataFrame'>\n",
      "Int64Index: 730 entries, 0 to 782\n",
      "Data columns (total 4 columns):\n",
      "District         730 non-null object\n",
      "Neighbourhood    730 non-null object\n",
      "Latitude         730 non-null float64\n",
      "Longitude        730 non-null float64\n",
      "dtypes: float64(2), object(2)\n",
      "memory usage: 28.5+ KB\n"
     ]
    }
   ],
   "source": [
    "istanbul_df.dropna(axis=0, inplace=True)\n",
    "istanbul_df.info()"
   ]
  },
  {
   "cell_type": "markdown",
   "metadata": {},
   "source": [
    "Some neighbourhoods are very close each other. That's why may be some of them have the same lat and long values. Let's examine that is there any merged neighbourhood."
   ]
  },
  {
   "cell_type": "code",
   "execution_count": 12,
   "metadata": {},
   "outputs": [
    {
     "data": {
      "text/plain": [
       "(26, 4)"
      ]
     },
     "execution_count": 12,
     "metadata": {},
     "output_type": "execute_result"
    }
   ],
   "source": [
    "istanbul_df[istanbul_df.duplicated(['Latitude', 'Longitude'],keep=False)].shape"
   ]
  },
  {
   "cell_type": "code",
   "execution_count": 13,
   "metadata": {},
   "outputs": [
    {
     "data": {
      "text/plain": [
       "(713, 4)"
      ]
     },
     "execution_count": 13,
     "metadata": {},
     "output_type": "execute_result"
    }
   ],
   "source": [
    "istanbul_df.drop_duplicates(subset=['Latitude', 'Longitude'], inplace=True)\n",
    "istanbul_df.shape"
   ]
  },
  {
   "cell_type": "markdown",
   "metadata": {},
   "source": [
    "### Visualisation of Datasets"
   ]
  },
  {
   "cell_type": "code",
   "execution_count": 15,
   "metadata": {},
   "outputs": [],
   "source": [
    "lat_amsterdam, long_amsterdam = get_coordinates(API_KEY, 'Amsterdam, Netherlands')\n",
    "lat_istanbul, long_istanbul = get_coordinates(API_KEY, 'Istanbul, Turkey')"
   ]
  },
  {
   "cell_type": "code",
   "execution_count": 27,
   "metadata": {},
   "outputs": [
    {
     "name": "stdout",
     "output_type": "stream",
     "text": [
      "The geograpical coordinate of Amsterdam are 52.368, 4.9036.\n"
     ]
    }
   ],
   "source": [
    "print('The geograpical coordinate of Amsterdam are {}, {}.'.format(lat_amsterdam, long_amsterdam))"
   ]
  },
  {
   "cell_type": "code",
   "execution_count": null,
   "metadata": {},
   "outputs": [],
   "source": [
    "map_amsterdam = folium.Map(location=[lat_amsterdam, long_amsterdam], zoom_start=12)\n",
    "map_amsterdam\n",
    "for lat, lng, dist, neigh in zip(amsterdam_df['Latitude'], amsterdam_df['Longitude'], amsterdam_df['District'], amsterdam_df['Neighbourhood']):\n",
    "    label = '{}, {}'.format(neigh, dist)\n",
    "    label = folium.Popup(label, parse_html=True)\n",
    "    \n",
    "    folium.CircleMarker(\n",
    "        [lat, lng],\n",
    "        radius=5,\n",
    "        popup=label,\n",
    "        color='#5199FF',\n",
    "        fill=True,\n",
    "        fill_color='#B7D4FF',\n",
    "        fill_opacity=0.6,\n",
    "        parse_html=True\n",
    "        ).add_to(map_amsterdam)  \n",
    "    \n",
    "map_amsterdam"
   ]
  },
  {
   "cell_type": "markdown",
   "metadata": {},
   "source": [
    "<img src='images/amsterdam_neighs.jpg' alt='neighbouhoods of Amsterdam'></img>"
   ]
  },
  {
   "cell_type": "code",
   "execution_count": 29,
   "metadata": {},
   "outputs": [
    {
     "name": "stdout",
     "output_type": "stream",
     "text": [
      "The geograpical coordinate of Istanbul are 41.0082, 28.9784.\n"
     ]
    }
   ],
   "source": [
    "print('The geograpical coordinate of Istanbul are {}, {}.'.format(lat_istanbul, long_istanbul))"
   ]
  },
  {
   "cell_type": "code",
   "execution_count": null,
   "metadata": {},
   "outputs": [],
   "source": [
    "map_istanbul = folium.Map(location=[lat_istanbul, long_istanbul], zoom_start=11)\n",
    "for lat, lng, dist, neigh in zip(istanbul_df['Latitude'], istanbul_df['Longitude'], istanbul_df['District'], istanbul_df['Neighbourhood']):\n",
    "    label = '{}, {}'.format(neigh, dist)\n",
    "    label = folium.Popup(label, parse_html=True)\n",
    "    \n",
    "    folium.CircleMarker(\n",
    "        [lat, lng],\n",
    "        radius=5,\n",
    "        popup=label,\n",
    "        color='#5199FF',\n",
    "        fill=True,\n",
    "        fill_color='#B7D4FF',\n",
    "        fill_opacity=0.6,\n",
    "        parse_html=True\n",
    "        ).add_to(map_istanbul)  \n",
    "    \n",
    "map_istanbul"
   ]
  },
  {
   "cell_type": "markdown",
   "metadata": {},
   "source": [
    "<img src='images/istanbul_neighs.jpg' alt='neighbouhoods of Istanbul'></img>"
   ]
  },
  {
   "cell_type": "markdown",
   "metadata": {},
   "source": [
    "## Methodology <a name=\"methodology\"></a>"
   ]
  },
  {
   "cell_type": "markdown",
   "metadata": {},
   "source": [
    "In order to find the best solution to our business problem, we will focus on how similar the neighbourhoods are based on venues information in vicinity. \n",
    "For keeping adaptation time as short as possible, we will focus on **Turkish Restaurants** in the city of Amsterdam.\n",
    "\n",
    "Until now, we have prepared the required datasets. But for illustration purposes, we will limit our analysis by excepting the districts which are at the very edge of each cities. \n",
    "\n",
    "Second step will be getting top-30 venues of each neighbourhoods via **Foursquare API**.\n",
    "\n",
    "Next phase in our analysis will be exploration of cities individually.\n",
    "\n",
    "In final step, we will merge two datasets into one and we will apply k-means algorithm to create **clusters of neighbourhoods**. We will take into consideration venues with **within radius of 500 meters**. \n",
    "\n",
    "We will present map of all clusters (using **k-means clustering**) of neighbourhoods to identify similarity."
   ]
  },
  {
   "cell_type": "code",
   "execution_count": 18,
   "metadata": {},
   "outputs": [
    {
     "data": {
      "text/plain": [
       "Neighbourhood    425\n",
       "Latitude         425\n",
       "Longitude        425\n",
       "dtype: int64"
      ]
     },
     "execution_count": 18,
     "metadata": {},
     "output_type": "execute_result"
    }
   ],
   "source": [
    "excepted_districts_amsterdam = ['Zuidoost', 'Westpoort']\n",
    "amsterdam_df = amsterdam_df.loc[~amsterdam_df.District.isin(excepted_districts_amsterdam)]\n",
    "amsterdam_df.groupby('District').count().sum()"
   ]
  },
  {
   "cell_type": "code",
   "execution_count": 19,
   "metadata": {},
   "outputs": [
    {
     "data": {
      "text/plain": [
       "Neighbourhood    522\n",
       "Latitude         522\n",
       "Longitude        522\n",
       "dtype: int64"
      ]
     },
     "execution_count": 19,
     "metadata": {},
     "output_type": "execute_result"
    }
   ],
   "source": [
    "excepted_districts_istanbul = ['Sile', 'Silivri', 'Catalca', 'Buyukcekmece', 'Beylikduzu', 'Arnavutkoy', \n",
    "                               'Esenyurt', 'Avcilar', 'Cekmekoy', 'Tuzla', 'Pendik', 'Sultanbeyli']\n",
    "istanbul_df = istanbul_df.loc[~istanbul_df.District.isin(excepted_districts_istanbul)]\n",
    "istanbul_df.groupby('District').count().sum()"
   ]
  },
  {
   "cell_type": "markdown",
   "metadata": {},
   "source": [
    "### Foursquare\n",
    "Now that we have our coordinates of neighbourhoods, let's use Foursquare API to get top-30 venues for each.\n",
    "\n",
    "We're interested in venues in 'Turkish Restaurants' category in Amsterdam."
   ]
  },
  {
   "cell_type": "markdown",
   "metadata": {},
   "source": [
    "First definition Foursquare Credentials and version"
   ]
  },
  {
   "cell_type": "code",
   "execution_count": 33,
   "metadata": {},
   "outputs": [],
   "source": [
    "# Values was removed after getting venues information.\n",
    "CLIENT_ID = '???' \n",
    "CLIENT_SECRET = '???' \n",
    "VERSION = '20180605'"
   ]
  },
  {
   "cell_type": "markdown",
   "metadata": {},
   "source": [
    "Now, creation of the function for getting nearby venues request URL."
   ]
  },
  {
   "cell_type": "code",
   "execution_count": 33,
   "metadata": {},
   "outputs": [],
   "source": [
    "def getNearbyVenues(df, rad=500, limit=50):\n",
    "    venues_list=[]\n",
    "    \n",
    "    for dist, neigh, lat, lng in tqdm(zip(df.District, df.Neighbourhood, df.Latitude, df.Longitude)):\n",
    "        # create the API request URL\n",
    "        url = 'https://api.foursquare.com/v2/venues/explore?&client_id={}&client_secret={}&v={}&ll={},{}&radius={}&limit={}'.format(\n",
    "            CLIENT_ID, \n",
    "            CLIENT_SECRET, \n",
    "            VERSION, \n",
    "            lat, \n",
    "            lng, \n",
    "            rad, \n",
    "            limit)\n",
    "        response = None\n",
    "        \n",
    "        # make the GET request\n",
    "        while response == None:\n",
    "            try:\n",
    "                response = requests.get(url).json()\n",
    "                results = response[\"response\"]['groups'][0]['items']\n",
    "            except:\n",
    "                pass\n",
    "        \n",
    "        # return only relevant information for each nearby venue\n",
    "        venues_list.append([(\n",
    "            dist,\n",
    "            neigh,\n",
    "            lat, \n",
    "            lng, \n",
    "            v['venue']['name'], \n",
    "            v['venue']['location']['lat'], \n",
    "            v['venue']['location']['lng'],  \n",
    "            v['venue']['categories'][0]['name'],\n",
    "            v['venue']['categories'][0]['id']) for v in results])\n",
    "\n",
    "    nearby_venues = pd.DataFrame([item for venue_list in venues_list for item in venue_list])\n",
    "    nearby_venues.columns = ['District', \n",
    "                             'Neighbourhood',\n",
    "                             'Neighborhood Latitude',\n",
    "                             'Neighborhood Longitude', \n",
    "                             'Venue', \n",
    "                             'Venue Latitude', \n",
    "                             'Venue Longitude', \n",
    "                             'Venue Category',\n",
    "                             'Venue Id']\n",
    "    \n",
    "    return nearby_venues"
   ]
  },
  {
   "cell_type": "code",
   "execution_count": 34,
   "metadata": {},
   "outputs": [
    {
     "data": {
      "text/html": [
       "<div>\n",
       "<style scoped>\n",
       "    .dataframe tbody tr th:only-of-type {\n",
       "        vertical-align: middle;\n",
       "    }\n",
       "\n",
       "    .dataframe tbody tr th {\n",
       "        vertical-align: top;\n",
       "    }\n",
       "\n",
       "    .dataframe thead th {\n",
       "        text-align: right;\n",
       "    }\n",
       "</style>\n",
       "<table border=\"1\" class=\"dataframe\">\n",
       "  <thead>\n",
       "    <tr style=\"text-align: right;\">\n",
       "      <th></th>\n",
       "      <th>District</th>\n",
       "      <th>Neighbourhood</th>\n",
       "      <th>Neighborhood Latitude</th>\n",
       "      <th>Neighborhood Longitude</th>\n",
       "      <th>Venue</th>\n",
       "      <th>Venue Latitude</th>\n",
       "      <th>Venue Longitude</th>\n",
       "      <th>Venue Category</th>\n",
       "      <th>Venue Id</th>\n",
       "    </tr>\n",
       "  </thead>\n",
       "  <tbody>\n",
       "    <tr>\n",
       "      <th>0</th>\n",
       "      <td>Nieuw-West</td>\n",
       "      <td>Calandlaan/Lelylaan</td>\n",
       "      <td>52.355708</td>\n",
       "      <td>4.809697</td>\n",
       "      <td>Toko Bandung</td>\n",
       "      <td>52.354358</td>\n",
       "      <td>4.810843</td>\n",
       "      <td>Indonesian Restaurant</td>\n",
       "      <td>4deefc054765f83613cdba6f</td>\n",
       "    </tr>\n",
       "    <tr>\n",
       "      <th>1</th>\n",
       "      <td>Nieuw-West</td>\n",
       "      <td>Calandlaan/Lelylaan</td>\n",
       "      <td>52.355708</td>\n",
       "      <td>4.809697</td>\n",
       "      <td>Enfes</td>\n",
       "      <td>52.354057</td>\n",
       "      <td>4.810545</td>\n",
       "      <td>Turkish Restaurant</td>\n",
       "      <td>4f04af1f2fb6e1c99f3db0bb</td>\n",
       "    </tr>\n",
       "    <tr>\n",
       "      <th>2</th>\n",
       "      <td>Nieuw-West</td>\n",
       "      <td>Calandlaan/Lelylaan</td>\n",
       "      <td>52.355708</td>\n",
       "      <td>4.809697</td>\n",
       "      <td>Sportcentrum Caland</td>\n",
       "      <td>52.354371</td>\n",
       "      <td>4.807132</td>\n",
       "      <td>Gym / Fitness Center</td>\n",
       "      <td>4bf58dd8d48988d175941735</td>\n",
       "    </tr>\n",
       "    <tr>\n",
       "      <th>3</th>\n",
       "      <td>Nieuw-West</td>\n",
       "      <td>Calandlaan/Lelylaan</td>\n",
       "      <td>52.355708</td>\n",
       "      <td>4.809697</td>\n",
       "      <td>De Meervaart</td>\n",
       "      <td>52.358970</td>\n",
       "      <td>4.807311</td>\n",
       "      <td>Theater</td>\n",
       "      <td>4bf58dd8d48988d137941735</td>\n",
       "    </tr>\n",
       "    <tr>\n",
       "      <th>4</th>\n",
       "      <td>Nieuw-West</td>\n",
       "      <td>Calandlaan/Lelylaan</td>\n",
       "      <td>52.355708</td>\n",
       "      <td>4.809697</td>\n",
       "      <td>TK Maxx</td>\n",
       "      <td>52.359155</td>\n",
       "      <td>4.805335</td>\n",
       "      <td>Clothing Store</td>\n",
       "      <td>4bf58dd8d48988d103951735</td>\n",
       "    </tr>\n",
       "  </tbody>\n",
       "</table>\n",
       "</div>"
      ],
      "text/plain": [
       "     District        Neighbourhood  Neighborhood Latitude  \\\n",
       "0  Nieuw-West  Calandlaan/Lelylaan              52.355708   \n",
       "1  Nieuw-West  Calandlaan/Lelylaan              52.355708   \n",
       "2  Nieuw-West  Calandlaan/Lelylaan              52.355708   \n",
       "3  Nieuw-West  Calandlaan/Lelylaan              52.355708   \n",
       "4  Nieuw-West  Calandlaan/Lelylaan              52.355708   \n",
       "\n",
       "   Neighborhood Longitude                Venue  Venue Latitude  \\\n",
       "0                4.809697         Toko Bandung       52.354358   \n",
       "1                4.809697                Enfes       52.354057   \n",
       "2                4.809697  Sportcentrum Caland       52.354371   \n",
       "3                4.809697         De Meervaart       52.358970   \n",
       "4                4.809697              TK Maxx       52.359155   \n",
       "\n",
       "   Venue Longitude         Venue Category                  Venue Id  \n",
       "0         4.810843  Indonesian Restaurant  4deefc054765f83613cdba6f  \n",
       "1         4.810545     Turkish Restaurant  4f04af1f2fb6e1c99f3db0bb  \n",
       "2         4.807132   Gym / Fitness Center  4bf58dd8d48988d175941735  \n",
       "3         4.807311                Theater  4bf58dd8d48988d137941735  \n",
       "4         4.805335         Clothing Store  4bf58dd8d48988d103951735  "
      ]
     },
     "execution_count": 34,
     "metadata": {},
     "output_type": "execute_result"
    }
   ],
   "source": [
    "amsterdam_venues = getNearbyVenues(amsterdam_df, rad=500, limit=50)\n",
    "amsterdam_venues.head()"
   ]
  },
  {
   "cell_type": "markdown",
   "metadata": {},
   "source": [
    "We are saving these venue informations for further usage."
   ]
  },
  {
   "cell_type": "code",
   "execution_count": 20,
   "metadata": {},
   "outputs": [],
   "source": [
    "amsterdam_venues.to_csv('datasets/amsterdam_venues.csv', index=False)"
   ]
  },
  {
   "cell_type": "code",
   "execution_count": 21,
   "metadata": {},
   "outputs": [
    {
     "data": {
      "text/plain": [
       "(11674, 9)"
      ]
     },
     "execution_count": 21,
     "metadata": {},
     "output_type": "execute_result"
    }
   ],
   "source": [
    "amsterdam_venues.shape"
   ]
  },
  {
   "cell_type": "code",
   "execution_count": 25,
   "metadata": {},
   "outputs": [
    {
     "data": {
      "text/html": [
       "<div>\n",
       "<style scoped>\n",
       "    .dataframe tbody tr th:only-of-type {\n",
       "        vertical-align: middle;\n",
       "    }\n",
       "\n",
       "    .dataframe tbody tr th {\n",
       "        vertical-align: top;\n",
       "    }\n",
       "\n",
       "    .dataframe thead th {\n",
       "        text-align: right;\n",
       "    }\n",
       "</style>\n",
       "<table border=\"1\" class=\"dataframe\">\n",
       "  <thead>\n",
       "    <tr style=\"text-align: right;\">\n",
       "      <th></th>\n",
       "      <th>District</th>\n",
       "      <th>Neighbourhood</th>\n",
       "      <th>Neighborhood Latitude</th>\n",
       "      <th>Neighborhood Longitude</th>\n",
       "      <th>Venue</th>\n",
       "      <th>Venue Latitude</th>\n",
       "      <th>Venue Longitude</th>\n",
       "      <th>Venue Category</th>\n",
       "      <th>Venue Id</th>\n",
       "    </tr>\n",
       "  </thead>\n",
       "  <tbody>\n",
       "    <tr>\n",
       "      <th>0</th>\n",
       "      <td>Adalar</td>\n",
       "      <td>Burgazada</td>\n",
       "      <td>40.88</td>\n",
       "      <td>29.066944</td>\n",
       "      <td>Sait Faik Abasıyanık Müzesi</td>\n",
       "      <td>40.881015</td>\n",
       "      <td>29.067458</td>\n",
       "      <td>History Museum</td>\n",
       "      <td>4bf58dd8d48988d190941735</td>\n",
       "    </tr>\n",
       "    <tr>\n",
       "      <th>1</th>\n",
       "      <td>Adalar</td>\n",
       "      <td>Burgazada</td>\n",
       "      <td>40.88</td>\n",
       "      <td>29.066944</td>\n",
       "      <td>Adalar Cemevi Çay Bahçesi</td>\n",
       "      <td>40.879195</td>\n",
       "      <td>29.068156</td>\n",
       "      <td>Tea Room</td>\n",
       "      <td>4bf58dd8d48988d1dc931735</td>\n",
       "    </tr>\n",
       "    <tr>\n",
       "      <th>2</th>\n",
       "      <td>Adalar</td>\n",
       "      <td>Burgazada</td>\n",
       "      <td>40.88</td>\n",
       "      <td>29.066944</td>\n",
       "      <td>Four Letter Word</td>\n",
       "      <td>40.880573</td>\n",
       "      <td>29.068838</td>\n",
       "      <td>Café</td>\n",
       "      <td>4bf58dd8d48988d16d941735</td>\n",
       "    </tr>\n",
       "    <tr>\n",
       "      <th>3</th>\n",
       "      <td>Adalar</td>\n",
       "      <td>Burgazada</td>\n",
       "      <td>40.88</td>\n",
       "      <td>29.066944</td>\n",
       "      <td>Burgazada Sahil</td>\n",
       "      <td>40.881171</td>\n",
       "      <td>29.069600</td>\n",
       "      <td>Beach</td>\n",
       "      <td>4bf58dd8d48988d1e2941735</td>\n",
       "    </tr>\n",
       "    <tr>\n",
       "      <th>4</th>\n",
       "      <td>Adalar</td>\n",
       "      <td>Burgazada</td>\n",
       "      <td>40.88</td>\n",
       "      <td>29.066944</td>\n",
       "      <td>Sinem Dondurma</td>\n",
       "      <td>40.880984</td>\n",
       "      <td>29.069779</td>\n",
       "      <td>Ice Cream Shop</td>\n",
       "      <td>4bf58dd8d48988d1c9941735</td>\n",
       "    </tr>\n",
       "  </tbody>\n",
       "</table>\n",
       "</div>"
      ],
      "text/plain": [
       "  District Neighbourhood  Neighborhood Latitude  Neighborhood Longitude  \\\n",
       "0   Adalar     Burgazada                  40.88               29.066944   \n",
       "1   Adalar     Burgazada                  40.88               29.066944   \n",
       "2   Adalar     Burgazada                  40.88               29.066944   \n",
       "3   Adalar     Burgazada                  40.88               29.066944   \n",
       "4   Adalar     Burgazada                  40.88               29.066944   \n",
       "\n",
       "                         Venue  Venue Latitude  Venue Longitude  \\\n",
       "0  Sait Faik Abasıyanık Müzesi       40.881015        29.067458   \n",
       "1    Adalar Cemevi Çay Bahçesi       40.879195        29.068156   \n",
       "2             Four Letter Word       40.880573        29.068838   \n",
       "3              Burgazada Sahil       40.881171        29.069600   \n",
       "4               Sinem Dondurma       40.880984        29.069779   \n",
       "\n",
       "   Venue Category                  Venue Id  \n",
       "0  History Museum  4bf58dd8d48988d190941735  \n",
       "1        Tea Room  4bf58dd8d48988d1dc931735  \n",
       "2            Café  4bf58dd8d48988d16d941735  \n",
       "3           Beach  4bf58dd8d48988d1e2941735  \n",
       "4  Ice Cream Shop  4bf58dd8d48988d1c9941735  "
      ]
     },
     "execution_count": 25,
     "metadata": {},
     "output_type": "execute_result"
    }
   ],
   "source": [
    "istanbul_venues = getNearbyVenues(istanbul_df, rad=500, limit=50)\n",
    "\n",
    "istanbul_venues.head()"
   ]
  },
  {
   "cell_type": "code",
   "execution_count": 24,
   "metadata": {},
   "outputs": [],
   "source": [
    "istanbul_venues.to_csv('datasets/istanbul_venues.csv', index=False)"
   ]
  },
  {
   "cell_type": "code",
   "execution_count": 26,
   "metadata": {},
   "outputs": [
    {
     "data": {
      "text/plain": [
       "(18870, 9)"
      ]
     },
     "execution_count": 26,
     "metadata": {},
     "output_type": "execute_result"
    }
   ],
   "source": [
    "istanbul_venues.shape"
   ]
  },
  {
   "cell_type": "markdown",
   "metadata": {},
   "source": [
    "## Analysis <a name=\"analysis\"></a>"
   ]
  },
  {
   "cell_type": "markdown",
   "metadata": {},
   "source": [
    "Let's start our analysis. First, we will make some basic explanatory data analysis for each city individually."
   ]
  },
  {
   "cell_type": "markdown",
   "metadata": {},
   "source": [
    "### City of Amsterdam\n",
    "How many venues **each district of Amsterdam** has? "
   ]
  },
  {
   "cell_type": "code",
   "execution_count": 27,
   "metadata": {},
   "outputs": [
    {
     "data": {
      "text/html": [
       "<div>\n",
       "<style scoped>\n",
       "    .dataframe tbody tr th:only-of-type {\n",
       "        vertical-align: middle;\n",
       "    }\n",
       "\n",
       "    .dataframe tbody tr th {\n",
       "        vertical-align: top;\n",
       "    }\n",
       "\n",
       "    .dataframe thead th {\n",
       "        text-align: right;\n",
       "    }\n",
       "</style>\n",
       "<table border=\"1\" class=\"dataframe\">\n",
       "  <thead>\n",
       "    <tr style=\"text-align: right;\">\n",
       "      <th></th>\n",
       "      <th>District</th>\n",
       "      <th>Neighbourhood</th>\n",
       "      <th>Neighborhood Latitude</th>\n",
       "      <th>Neighborhood Longitude</th>\n",
       "      <th>Venue</th>\n",
       "      <th>Venue Latitude</th>\n",
       "      <th>Venue Longitude</th>\n",
       "      <th>Venue Category</th>\n",
       "      <th>Venue Id</th>\n",
       "    </tr>\n",
       "  </thead>\n",
       "  <tbody>\n",
       "    <tr>\n",
       "      <th>0</th>\n",
       "      <td>Centrum</td>\n",
       "      <td>3369</td>\n",
       "      <td>3369</td>\n",
       "      <td>3369</td>\n",
       "      <td>3369</td>\n",
       "      <td>3369</td>\n",
       "      <td>3369</td>\n",
       "      <td>3369</td>\n",
       "      <td>3369</td>\n",
       "    </tr>\n",
       "    <tr>\n",
       "      <th>1</th>\n",
       "      <td>Zuid</td>\n",
       "      <td>2709</td>\n",
       "      <td>2709</td>\n",
       "      <td>2709</td>\n",
       "      <td>2709</td>\n",
       "      <td>2709</td>\n",
       "      <td>2709</td>\n",
       "      <td>2709</td>\n",
       "      <td>2709</td>\n",
       "    </tr>\n",
       "    <tr>\n",
       "      <th>2</th>\n",
       "      <td>West</td>\n",
       "      <td>2537</td>\n",
       "      <td>2537</td>\n",
       "      <td>2537</td>\n",
       "      <td>2537</td>\n",
       "      <td>2537</td>\n",
       "      <td>2537</td>\n",
       "      <td>2537</td>\n",
       "      <td>2537</td>\n",
       "    </tr>\n",
       "    <tr>\n",
       "      <th>3</th>\n",
       "      <td>Oost</td>\n",
       "      <td>1588</td>\n",
       "      <td>1588</td>\n",
       "      <td>1588</td>\n",
       "      <td>1588</td>\n",
       "      <td>1588</td>\n",
       "      <td>1588</td>\n",
       "      <td>1588</td>\n",
       "      <td>1588</td>\n",
       "    </tr>\n",
       "    <tr>\n",
       "      <th>4</th>\n",
       "      <td>Nieuw-West</td>\n",
       "      <td>873</td>\n",
       "      <td>873</td>\n",
       "      <td>873</td>\n",
       "      <td>873</td>\n",
       "      <td>873</td>\n",
       "      <td>873</td>\n",
       "      <td>873</td>\n",
       "      <td>873</td>\n",
       "    </tr>\n",
       "    <tr>\n",
       "      <th>5</th>\n",
       "      <td>Noord</td>\n",
       "      <td>598</td>\n",
       "      <td>598</td>\n",
       "      <td>598</td>\n",
       "      <td>598</td>\n",
       "      <td>598</td>\n",
       "      <td>598</td>\n",
       "      <td>598</td>\n",
       "      <td>598</td>\n",
       "    </tr>\n",
       "  </tbody>\n",
       "</table>\n",
       "</div>"
      ],
      "text/plain": [
       "     District  Neighbourhood  Neighborhood Latitude  Neighborhood Longitude  \\\n",
       "0     Centrum           3369                   3369                    3369   \n",
       "1        Zuid           2709                   2709                    2709   \n",
       "2        West           2537                   2537                    2537   \n",
       "3        Oost           1588                   1588                    1588   \n",
       "4  Nieuw-West            873                    873                     873   \n",
       "5       Noord            598                    598                     598   \n",
       "\n",
       "   Venue  Venue Latitude  Venue Longitude  Venue Category  Venue Id  \n",
       "0   3369            3369             3369            3369      3369  \n",
       "1   2709            2709             2709            2709      2709  \n",
       "2   2537            2537             2537            2537      2537  \n",
       "3   1588            1588             1588            1588      1588  \n",
       "4    873             873              873             873       873  \n",
       "5    598             598              598             598       598  "
      ]
     },
     "execution_count": 27,
     "metadata": {},
     "output_type": "execute_result"
    }
   ],
   "source": [
    "amsterdam_venues.groupby('District').count().sort_values(by='Venue', ascending=False).reset_index()"
   ]
  },
  {
   "cell_type": "code",
   "execution_count": null,
   "metadata": {},
   "outputs": [],
   "source": [
    "map_amsterdam = folium.Map(location=[lat_amsterdam, long_amsterdam], zoom_start=12)\n",
    "amsterdam_districts_geo = r'datasets/amsterdam_districts.json'\n",
    "folium.Choropleth(\n",
    "    geo_data=amsterdam_districts_geo,\n",
    "    data=amsterdam_venues.groupby('District').count().sort_values(by='Venue', ascending=False).reset_index(),\n",
    "    columns=['District', 'Venue'],\n",
    "    key_on='feature.properties.Stadsdeel',\n",
    "    fill_color='YlOrRd', \n",
    "    fill_opacity=0.7, \n",
    "    line_opacity=0.2,\n",
    "    legend_name='Venue density of Amsterdam city').add_to(map_amsterdam)\n",
    "map_amsterdam"
   ]
  },
  {
   "cell_type": "markdown",
   "metadata": {},
   "source": [
    "<img src='images/amsterdam_density.jpg' alt='Venue density of Amsterdam city'></img>"
   ]
  },
  {
   "cell_type": "markdown",
   "metadata": {},
   "source": [
    "How many **unique category** they have?"
   ]
  },
  {
   "cell_type": "code",
   "execution_count": 29,
   "metadata": {},
   "outputs": [
    {
     "data": {
      "text/plain": [
       "342"
      ]
     },
     "execution_count": 29,
     "metadata": {},
     "output_type": "execute_result"
    }
   ],
   "source": [
    "# Total unique categories number\n",
    "amsterdam_venues['Venue Category'].nunique()"
   ]
  },
  {
   "cell_type": "code",
   "execution_count": 30,
   "metadata": {},
   "outputs": [
    {
     "data": {
      "text/plain": [
       "<matplotlib.axes._subplots.AxesSubplot at 0x23b53e43518>"
      ]
     },
     "execution_count": 30,
     "metadata": {},
     "output_type": "execute_result"
    },
    {
     "data": {
      "image/png": "[encoded data removed]",
      "text/plain": [
       "<Figure size 432x288 with 1 Axes>"
      ]
     },
     "metadata": {
      "needs_background": "light"
     },
     "output_type": "display_data"
    }
   ],
   "source": [
    "# Number of unique categories per district\n",
    "y = amsterdam_venues.groupby('District')['Venue Category'].nunique().sort_values(ascending=False)\n",
    "y.plot(kind='bar')"
   ]
  },
  {
   "cell_type": "markdown",
   "metadata": {},
   "source": [
    "Is there any neighbourhood with without any venue?"
   ]
  },
  {
   "cell_type": "code",
   "execution_count": 31,
   "metadata": {},
   "outputs": [
    {
     "data": {
      "text/plain": [
       "422"
      ]
     },
     "execution_count": 31,
     "metadata": {},
     "output_type": "execute_result"
    }
   ],
   "source": [
    "amsterdam_venues.groupby(['District', 'Neighbourhood']).count().shape[0]"
   ]
  },
  {
   "cell_type": "markdown",
   "metadata": {},
   "source": [
    "We know that Amsterdam city has 425 neighbourhoods, that means 3 neighbourhoods have no venues in radius 500m. Let's find them. "
   ]
  },
  {
   "cell_type": "code",
   "execution_count": 32,
   "metadata": {},
   "outputs": [
    {
     "data": {
      "text/html": [
       "<div>\n",
       "<style scoped>\n",
       "    .dataframe tbody tr th:only-of-type {\n",
       "        vertical-align: middle;\n",
       "    }\n",
       "\n",
       "    .dataframe tbody tr th {\n",
       "        vertical-align: top;\n",
       "    }\n",
       "\n",
       "    .dataframe thead th {\n",
       "        text-align: right;\n",
       "    }\n",
       "</style>\n",
       "<table border=\"1\" class=\"dataframe\">\n",
       "  <thead>\n",
       "    <tr style=\"text-align: right;\">\n",
       "      <th></th>\n",
       "      <th>District</th>\n",
       "      <th>Neighbourhood</th>\n",
       "    </tr>\n",
       "  </thead>\n",
       "  <tbody>\n",
       "    <tr>\n",
       "      <th>181</th>\n",
       "      <td>Noord</td>\n",
       "      <td>Ransdorp</td>\n",
       "    </tr>\n",
       "    <tr>\n",
       "      <th>214</th>\n",
       "      <td>Oost</td>\n",
       "      <td>Buiteneiland</td>\n",
       "    </tr>\n",
       "    <tr>\n",
       "      <th>236</th>\n",
       "      <td>Oost</td>\n",
       "      <td>Middeneiland Noordwest</td>\n",
       "    </tr>\n",
       "  </tbody>\n",
       "</table>\n",
       "</div>"
      ],
      "text/plain": [
       "    District           Neighbourhood\n",
       "181    Noord                Ransdorp\n",
       "214     Oost            Buiteneiland\n",
       "236     Oost  Middeneiland Noordwest"
      ]
     },
     "execution_count": 32,
     "metadata": {},
     "output_type": "execute_result"
    }
   ],
   "source": [
    "temp_df = amsterdam_df.groupby(['District', 'Neighbourhood']).count().reset_index().loc[:, ['District', 'Neighbourhood']]\n",
    "temp_df2 = amsterdam_venues.groupby(['District', 'Neighbourhood']).count().reset_index().loc[:, ['District', 'Neighbourhood']]\n",
    "temp_df3 = temp_df.append(temp_df2)\n",
    "temp_df3.drop_duplicates(keep=False)"
   ]
  },
  {
   "cell_type": "markdown",
   "metadata": {},
   "source": [
    "If we can not get venues info from the neighbourhoods we can not cluster them. That's why we will drop these rows from our datasets."
   ]
  },
  {
   "cell_type": "code",
   "execution_count": 33,
   "metadata": {},
   "outputs": [
    {
     "data": {
      "text/html": [
       "<div>\n",
       "<style scoped>\n",
       "    .dataframe tbody tr th:only-of-type {\n",
       "        vertical-align: middle;\n",
       "    }\n",
       "\n",
       "    .dataframe tbody tr th {\n",
       "        vertical-align: top;\n",
       "    }\n",
       "\n",
       "    .dataframe thead th {\n",
       "        text-align: right;\n",
       "    }\n",
       "</style>\n",
       "<table border=\"1\" class=\"dataframe\">\n",
       "  <thead>\n",
       "    <tr style=\"text-align: right;\">\n",
       "      <th></th>\n",
       "      <th>District</th>\n",
       "      <th>Neighbourhood</th>\n",
       "      <th>Latitude</th>\n",
       "      <th>Longitude</th>\n",
       "    </tr>\n",
       "  </thead>\n",
       "  <tbody>\n",
       "    <tr>\n",
       "      <th>178</th>\n",
       "      <td>Noord</td>\n",
       "      <td>Ransdorp</td>\n",
       "      <td>52.390767</td>\n",
       "      <td>5.004403</td>\n",
       "    </tr>\n",
       "    <tr>\n",
       "      <th>343</th>\n",
       "      <td>Oost</td>\n",
       "      <td>Middeneiland Noordwest</td>\n",
       "      <td>52.359801</td>\n",
       "      <td>5.012931</td>\n",
       "    </tr>\n",
       "    <tr>\n",
       "      <th>345</th>\n",
       "      <td>Oost</td>\n",
       "      <td>Buiteneiland</td>\n",
       "      <td>52.369115</td>\n",
       "      <td>5.019844</td>\n",
       "    </tr>\n",
       "  </tbody>\n",
       "</table>\n",
       "</div>"
      ],
      "text/plain": [
       "    District           Neighbourhood   Latitude  Longitude\n",
       "178    Noord                Ransdorp  52.390767   5.004403\n",
       "343     Oost  Middeneiland Noordwest  52.359801   5.012931\n",
       "345     Oost            Buiteneiland  52.369115   5.019844"
      ]
     },
     "execution_count": 33,
     "metadata": {},
     "output_type": "execute_result"
    }
   ],
   "source": [
    "neighlist = temp_df3.drop_duplicates(keep=False).Neighbourhood\n",
    "amsterdam_df.loc[amsterdam_df.Neighbourhood.isin(neighlist)]"
   ]
  },
  {
   "cell_type": "code",
   "execution_count": 34,
   "metadata": {},
   "outputs": [
    {
     "data": {
      "text/plain": [
       "(422, 4)"
      ]
     },
     "execution_count": 34,
     "metadata": {},
     "output_type": "execute_result"
    }
   ],
   "source": [
    "amsterdam_df.drop([178,343,345], inplace=True)\n",
    "amsterdam_df.reset_index(drop=True, inplace=True)\n",
    "amsterdam_df.shape"
   ]
  },
  {
   "cell_type": "code",
   "execution_count": 35,
   "metadata": {},
   "outputs": [
    {
     "data": {
      "text/html": [
       "<div>\n",
       "<style scoped>\n",
       "    .dataframe tbody tr th:only-of-type {\n",
       "        vertical-align: middle;\n",
       "    }\n",
       "\n",
       "    .dataframe tbody tr th {\n",
       "        vertical-align: top;\n",
       "    }\n",
       "\n",
       "    .dataframe thead th {\n",
       "        text-align: right;\n",
       "    }\n",
       "</style>\n",
       "<table border=\"1\" class=\"dataframe\">\n",
       "  <thead>\n",
       "    <tr style=\"text-align: right;\">\n",
       "      <th></th>\n",
       "      <th>District</th>\n",
       "      <th>Neighbourhood</th>\n",
       "      <th>Accessories Store</th>\n",
       "      <th>Advertising Agency</th>\n",
       "      <th>Afghan Restaurant</th>\n",
       "      <th>African Restaurant</th>\n",
       "      <th>American Restaurant</th>\n",
       "      <th>Antique Shop</th>\n",
       "      <th>Aquarium</th>\n",
       "      <th>Arcade</th>\n",
       "      <th>...</th>\n",
       "      <th>Vegetarian / Vegan Restaurant</th>\n",
       "      <th>Video Game Store</th>\n",
       "      <th>Vietnamese Restaurant</th>\n",
       "      <th>Whisky Bar</th>\n",
       "      <th>Wine Bar</th>\n",
       "      <th>Wine Shop</th>\n",
       "      <th>Women's Store</th>\n",
       "      <th>Yoga Studio</th>\n",
       "      <th>Zoo</th>\n",
       "      <th>Zoo Exhibit</th>\n",
       "    </tr>\n",
       "  </thead>\n",
       "  <tbody>\n",
       "    <tr>\n",
       "      <th>0</th>\n",
       "      <td>Nieuw-West</td>\n",
       "      <td>Calandlaan/Lelylaan</td>\n",
       "      <td>0</td>\n",
       "      <td>0</td>\n",
       "      <td>0</td>\n",
       "      <td>0</td>\n",
       "      <td>0</td>\n",
       "      <td>0</td>\n",
       "      <td>0</td>\n",
       "      <td>0</td>\n",
       "      <td>...</td>\n",
       "      <td>0</td>\n",
       "      <td>0</td>\n",
       "      <td>0</td>\n",
       "      <td>0</td>\n",
       "      <td>0</td>\n",
       "      <td>0</td>\n",
       "      <td>0</td>\n",
       "      <td>0</td>\n",
       "      <td>0</td>\n",
       "      <td>0</td>\n",
       "    </tr>\n",
       "    <tr>\n",
       "      <th>1</th>\n",
       "      <td>Nieuw-West</td>\n",
       "      <td>Calandlaan/Lelylaan</td>\n",
       "      <td>0</td>\n",
       "      <td>0</td>\n",
       "      <td>0</td>\n",
       "      <td>0</td>\n",
       "      <td>0</td>\n",
       "      <td>0</td>\n",
       "      <td>0</td>\n",
       "      <td>0</td>\n",
       "      <td>...</td>\n",
       "      <td>0</td>\n",
       "      <td>0</td>\n",
       "      <td>0</td>\n",
       "      <td>0</td>\n",
       "      <td>0</td>\n",
       "      <td>0</td>\n",
       "      <td>0</td>\n",
       "      <td>0</td>\n",
       "      <td>0</td>\n",
       "      <td>0</td>\n",
       "    </tr>\n",
       "    <tr>\n",
       "      <th>2</th>\n",
       "      <td>Nieuw-West</td>\n",
       "      <td>Calandlaan/Lelylaan</td>\n",
       "      <td>0</td>\n",
       "      <td>0</td>\n",
       "      <td>0</td>\n",
       "      <td>0</td>\n",
       "      <td>0</td>\n",
       "      <td>0</td>\n",
       "      <td>0</td>\n",
       "      <td>0</td>\n",
       "      <td>...</td>\n",
       "      <td>0</td>\n",
       "      <td>0</td>\n",
       "      <td>0</td>\n",
       "      <td>0</td>\n",
       "      <td>0</td>\n",
       "      <td>0</td>\n",
       "      <td>0</td>\n",
       "      <td>0</td>\n",
       "      <td>0</td>\n",
       "      <td>0</td>\n",
       "    </tr>\n",
       "    <tr>\n",
       "      <th>3</th>\n",
       "      <td>Nieuw-West</td>\n",
       "      <td>Calandlaan/Lelylaan</td>\n",
       "      <td>0</td>\n",
       "      <td>0</td>\n",
       "      <td>0</td>\n",
       "      <td>0</td>\n",
       "      <td>0</td>\n",
       "      <td>0</td>\n",
       "      <td>0</td>\n",
       "      <td>0</td>\n",
       "      <td>...</td>\n",
       "      <td>0</td>\n",
       "      <td>0</td>\n",
       "      <td>0</td>\n",
       "      <td>0</td>\n",
       "      <td>0</td>\n",
       "      <td>0</td>\n",
       "      <td>0</td>\n",
       "      <td>0</td>\n",
       "      <td>0</td>\n",
       "      <td>0</td>\n",
       "    </tr>\n",
       "    <tr>\n",
       "      <th>4</th>\n",
       "      <td>Nieuw-West</td>\n",
       "      <td>Calandlaan/Lelylaan</td>\n",
       "      <td>0</td>\n",
       "      <td>0</td>\n",
       "      <td>0</td>\n",
       "      <td>0</td>\n",
       "      <td>0</td>\n",
       "      <td>0</td>\n",
       "      <td>0</td>\n",
       "      <td>0</td>\n",
       "      <td>...</td>\n",
       "      <td>0</td>\n",
       "      <td>0</td>\n",
       "      <td>0</td>\n",
       "      <td>0</td>\n",
       "      <td>0</td>\n",
       "      <td>0</td>\n",
       "      <td>0</td>\n",
       "      <td>0</td>\n",
       "      <td>0</td>\n",
       "      <td>0</td>\n",
       "    </tr>\n",
       "  </tbody>\n",
       "</table>\n",
       "<p>5 rows × 344 columns</p>\n",
       "</div>"
      ],
      "text/plain": [
       "     District        Neighbourhood  Accessories Store  Advertising Agency  \\\n",
       "0  Nieuw-West  Calandlaan/Lelylaan                  0                   0   \n",
       "1  Nieuw-West  Calandlaan/Lelylaan                  0                   0   \n",
       "2  Nieuw-West  Calandlaan/Lelylaan                  0                   0   \n",
       "3  Nieuw-West  Calandlaan/Lelylaan                  0                   0   \n",
       "4  Nieuw-West  Calandlaan/Lelylaan                  0                   0   \n",
       "\n",
       "   Afghan Restaurant  African Restaurant  American Restaurant  Antique Shop  \\\n",
       "0                  0                   0                    0             0   \n",
       "1                  0                   0                    0             0   \n",
       "2                  0                   0                    0             0   \n",
       "3                  0                   0                    0             0   \n",
       "4                  0                   0                    0             0   \n",
       "\n",
       "   Aquarium  Arcade  ...  Vegetarian / Vegan Restaurant  Video Game Store  \\\n",
       "0         0       0  ...                              0                 0   \n",
       "1         0       0  ...                              0                 0   \n",
       "2         0       0  ...                              0                 0   \n",
       "3         0       0  ...                              0                 0   \n",
       "4         0       0  ...                              0                 0   \n",
       "\n",
       "   Vietnamese Restaurant  Whisky Bar  Wine Bar  Wine Shop  Women's Store  \\\n",
       "0                      0           0         0          0              0   \n",
       "1                      0           0         0          0              0   \n",
       "2                      0           0         0          0              0   \n",
       "3                      0           0         0          0              0   \n",
       "4                      0           0         0          0              0   \n",
       "\n",
       "   Yoga Studio  Zoo  Zoo Exhibit  \n",
       "0            0    0            0  \n",
       "1            0    0            0  \n",
       "2            0    0            0  \n",
       "3            0    0            0  \n",
       "4            0    0            0  \n",
       "\n",
       "[5 rows x 344 columns]"
      ]
     },
     "execution_count": 35,
     "metadata": {},
     "output_type": "execute_result"
    }
   ],
   "source": [
    "amsterdam_venues_onehotted = pd.get_dummies(amsterdam_venues[['Venue Category']], prefix=\"\", prefix_sep=\"\")\n",
    "amsterdam_venues_onehotted['District'] = amsterdam_venues['District']\n",
    "amsterdam_venues_onehotted['Neighbourhood'] = amsterdam_venues['Neighbourhood']\n",
    "\n",
    "column_order = ['District', 'Neighbourhood'] + list(amsterdam_venues_onehotted.columns[:-2])\n",
    "amsterdam_venues_onehotted = amsterdam_venues_onehotted[column_order]\n",
    "amsterdam_venues_onehotted.head()"
   ]
  },
  {
   "cell_type": "code",
   "execution_count": 36,
   "metadata": {},
   "outputs": [
    {
     "data": {
      "text/plain": [
       "(11674, 344)"
      ]
     },
     "execution_count": 36,
     "metadata": {},
     "output_type": "execute_result"
    }
   ],
   "source": [
    "amsterdam_venues_onehotted.shape"
   ]
  },
  {
   "cell_type": "code",
   "execution_count": 37,
   "metadata": {},
   "outputs": [
    {
     "data": {
      "text/html": [
       "<div>\n",
       "<style scoped>\n",
       "    .dataframe tbody tr th:only-of-type {\n",
       "        vertical-align: middle;\n",
       "    }\n",
       "\n",
       "    .dataframe tbody tr th {\n",
       "        vertical-align: top;\n",
       "    }\n",
       "\n",
       "    .dataframe thead th {\n",
       "        text-align: right;\n",
       "    }\n",
       "</style>\n",
       "<table border=\"1\" class=\"dataframe\">\n",
       "  <thead>\n",
       "    <tr style=\"text-align: right;\">\n",
       "      <th></th>\n",
       "      <th>District</th>\n",
       "      <th>Neighbourhood</th>\n",
       "      <th>Accessories Store</th>\n",
       "      <th>Advertising Agency</th>\n",
       "      <th>Afghan Restaurant</th>\n",
       "      <th>African Restaurant</th>\n",
       "      <th>American Restaurant</th>\n",
       "      <th>Antique Shop</th>\n",
       "      <th>Aquarium</th>\n",
       "      <th>Arcade</th>\n",
       "      <th>...</th>\n",
       "      <th>Vegetarian / Vegan Restaurant</th>\n",
       "      <th>Video Game Store</th>\n",
       "      <th>Vietnamese Restaurant</th>\n",
       "      <th>Whisky Bar</th>\n",
       "      <th>Wine Bar</th>\n",
       "      <th>Wine Shop</th>\n",
       "      <th>Women's Store</th>\n",
       "      <th>Yoga Studio</th>\n",
       "      <th>Zoo</th>\n",
       "      <th>Zoo Exhibit</th>\n",
       "    </tr>\n",
       "  </thead>\n",
       "  <tbody>\n",
       "    <tr>\n",
       "      <th>0</th>\n",
       "      <td>Centrum</td>\n",
       "      <td>Alexanderplein e.o.</td>\n",
       "      <td>0.0</td>\n",
       "      <td>0.0</td>\n",
       "      <td>0.00</td>\n",
       "      <td>0.02</td>\n",
       "      <td>0.0</td>\n",
       "      <td>0.0</td>\n",
       "      <td>0.02</td>\n",
       "      <td>0.0</td>\n",
       "      <td>...</td>\n",
       "      <td>0.0</td>\n",
       "      <td>0.0</td>\n",
       "      <td>0.0</td>\n",
       "      <td>0.0</td>\n",
       "      <td>0.02</td>\n",
       "      <td>0.0</td>\n",
       "      <td>0.00</td>\n",
       "      <td>0.02</td>\n",
       "      <td>0.02</td>\n",
       "      <td>0.24</td>\n",
       "    </tr>\n",
       "    <tr>\n",
       "      <th>1</th>\n",
       "      <td>Centrum</td>\n",
       "      <td>Amstelveldbuurt</td>\n",
       "      <td>0.0</td>\n",
       "      <td>0.0</td>\n",
       "      <td>0.00</td>\n",
       "      <td>0.00</td>\n",
       "      <td>0.0</td>\n",
       "      <td>0.0</td>\n",
       "      <td>0.00</td>\n",
       "      <td>0.0</td>\n",
       "      <td>...</td>\n",
       "      <td>0.0</td>\n",
       "      <td>0.0</td>\n",
       "      <td>0.0</td>\n",
       "      <td>0.0</td>\n",
       "      <td>0.00</td>\n",
       "      <td>0.0</td>\n",
       "      <td>0.00</td>\n",
       "      <td>0.00</td>\n",
       "      <td>0.00</td>\n",
       "      <td>0.00</td>\n",
       "    </tr>\n",
       "    <tr>\n",
       "      <th>2</th>\n",
       "      <td>Centrum</td>\n",
       "      <td>Anjeliersbuurt Noord</td>\n",
       "      <td>0.0</td>\n",
       "      <td>0.0</td>\n",
       "      <td>0.00</td>\n",
       "      <td>0.00</td>\n",
       "      <td>0.0</td>\n",
       "      <td>0.0</td>\n",
       "      <td>0.00</td>\n",
       "      <td>0.0</td>\n",
       "      <td>...</td>\n",
       "      <td>0.0</td>\n",
       "      <td>0.0</td>\n",
       "      <td>0.0</td>\n",
       "      <td>0.0</td>\n",
       "      <td>0.02</td>\n",
       "      <td>0.0</td>\n",
       "      <td>0.02</td>\n",
       "      <td>0.02</td>\n",
       "      <td>0.00</td>\n",
       "      <td>0.00</td>\n",
       "    </tr>\n",
       "    <tr>\n",
       "      <th>3</th>\n",
       "      <td>Centrum</td>\n",
       "      <td>Anjeliersbuurt Zuid</td>\n",
       "      <td>0.0</td>\n",
       "      <td>0.0</td>\n",
       "      <td>0.02</td>\n",
       "      <td>0.00</td>\n",
       "      <td>0.0</td>\n",
       "      <td>0.0</td>\n",
       "      <td>0.00</td>\n",
       "      <td>0.0</td>\n",
       "      <td>...</td>\n",
       "      <td>0.0</td>\n",
       "      <td>0.0</td>\n",
       "      <td>0.0</td>\n",
       "      <td>0.0</td>\n",
       "      <td>0.02</td>\n",
       "      <td>0.0</td>\n",
       "      <td>0.02</td>\n",
       "      <td>0.00</td>\n",
       "      <td>0.00</td>\n",
       "      <td>0.00</td>\n",
       "    </tr>\n",
       "    <tr>\n",
       "      <th>4</th>\n",
       "      <td>Centrum</td>\n",
       "      <td>BG-terrein e.o.</td>\n",
       "      <td>0.0</td>\n",
       "      <td>0.0</td>\n",
       "      <td>0.00</td>\n",
       "      <td>0.00</td>\n",
       "      <td>0.0</td>\n",
       "      <td>0.0</td>\n",
       "      <td>0.00</td>\n",
       "      <td>0.0</td>\n",
       "      <td>...</td>\n",
       "      <td>0.0</td>\n",
       "      <td>0.0</td>\n",
       "      <td>0.0</td>\n",
       "      <td>0.0</td>\n",
       "      <td>0.02</td>\n",
       "      <td>0.0</td>\n",
       "      <td>0.02</td>\n",
       "      <td>0.00</td>\n",
       "      <td>0.00</td>\n",
       "      <td>0.00</td>\n",
       "    </tr>\n",
       "  </tbody>\n",
       "</table>\n",
       "<p>5 rows × 344 columns</p>\n",
       "</div>"
      ],
      "text/plain": [
       "  District         Neighbourhood  Accessories Store  Advertising Agency  \\\n",
       "0  Centrum   Alexanderplein e.o.                0.0                 0.0   \n",
       "1  Centrum       Amstelveldbuurt                0.0                 0.0   \n",
       "2  Centrum  Anjeliersbuurt Noord                0.0                 0.0   \n",
       "3  Centrum   Anjeliersbuurt Zuid                0.0                 0.0   \n",
       "4  Centrum       BG-terrein e.o.                0.0                 0.0   \n",
       "\n",
       "   Afghan Restaurant  African Restaurant  American Restaurant  Antique Shop  \\\n",
       "0               0.00                0.02                  0.0           0.0   \n",
       "1               0.00                0.00                  0.0           0.0   \n",
       "2               0.00                0.00                  0.0           0.0   \n",
       "3               0.02                0.00                  0.0           0.0   \n",
       "4               0.00                0.00                  0.0           0.0   \n",
       "\n",
       "   Aquarium  Arcade  ...  Vegetarian / Vegan Restaurant  Video Game Store  \\\n",
       "0      0.02     0.0  ...                            0.0               0.0   \n",
       "1      0.00     0.0  ...                            0.0               0.0   \n",
       "2      0.00     0.0  ...                            0.0               0.0   \n",
       "3      0.00     0.0  ...                            0.0               0.0   \n",
       "4      0.00     0.0  ...                            0.0               0.0   \n",
       "\n",
       "   Vietnamese Restaurant  Whisky Bar  Wine Bar  Wine Shop  Women's Store  \\\n",
       "0                    0.0         0.0      0.02        0.0           0.00   \n",
       "1                    0.0         0.0      0.00        0.0           0.00   \n",
       "2                    0.0         0.0      0.02        0.0           0.02   \n",
       "3                    0.0         0.0      0.02        0.0           0.02   \n",
       "4                    0.0         0.0      0.02        0.0           0.02   \n",
       "\n",
       "   Yoga Studio   Zoo  Zoo Exhibit  \n",
       "0         0.02  0.02         0.24  \n",
       "1         0.00  0.00         0.00  \n",
       "2         0.02  0.00         0.00  \n",
       "3         0.00  0.00         0.00  \n",
       "4         0.00  0.00         0.00  \n",
       "\n",
       "[5 rows x 344 columns]"
      ]
     },
     "execution_count": 37,
     "metadata": {},
     "output_type": "execute_result"
    }
   ],
   "source": [
    "amsterdam_venues_grouped = amsterdam_venues_onehotted.groupby(['District', 'Neighbourhood']).mean().reset_index()\n",
    "amsterdam_venues_grouped.head()"
   ]
  },
  {
   "cell_type": "code",
   "execution_count": 38,
   "metadata": {},
   "outputs": [
    {
     "data": {
      "text/plain": [
       "(422, 344)"
      ]
     },
     "execution_count": 38,
     "metadata": {},
     "output_type": "execute_result"
    }
   ],
   "source": [
    "amsterdam_venues_grouped.shape"
   ]
  },
  {
   "cell_type": "markdown",
   "metadata": {},
   "source": [
    "Let's see what is top 10 venue categories in overall amsterdam."
   ]
  },
  {
   "cell_type": "code",
   "execution_count": 39,
   "metadata": {},
   "outputs": [
    {
     "data": {
      "text/plain": [
       "Restaurant            13.356539\n",
       "Bus Stop              11.194296\n",
       "Coffee Shop           11.122601\n",
       "Café                  10.820802\n",
       "Bar                   10.689614\n",
       "Hotel                 10.427713\n",
       "Park                   9.134961\n",
       "Supermarket            8.788215\n",
       "Italian Restaurant     7.894075\n",
       "Bakery                 6.571183\n",
       "dtype: float64"
      ]
     },
     "execution_count": 39,
     "metadata": {},
     "output_type": "execute_result"
    }
   ],
   "source": [
    "amsterdam_overall_top_10 = amsterdam_venues_grouped.iloc[:,2:].sum().sort_values(ascending=False)[:10]\n",
    "amsterdam_overall_top_10 = amsterdam_overall_top_10*100/amsterdam_overall_top_10.sum()\n",
    "amsterdam_overall_top_10"
   ]
  },
  {
   "cell_type": "markdown",
   "metadata": {},
   "source": [
    "### Istanbul city\n",
    "How many venues **each district of Istanbul** has?"
   ]
  },
  {
   "cell_type": "code",
   "execution_count": 42,
   "metadata": {},
   "outputs": [
    {
     "data": {
      "text/html": [
       "<div>\n",
       "<style scoped>\n",
       "    .dataframe tbody tr th:only-of-type {\n",
       "        vertical-align: middle;\n",
       "    }\n",
       "\n",
       "    .dataframe tbody tr th {\n",
       "        vertical-align: top;\n",
       "    }\n",
       "\n",
       "    .dataframe thead th {\n",
       "        text-align: right;\n",
       "    }\n",
       "</style>\n",
       "<table border=\"1\" class=\"dataframe\">\n",
       "  <thead>\n",
       "    <tr style=\"text-align: right;\">\n",
       "      <th></th>\n",
       "      <th>District</th>\n",
       "      <th>Neighbourhood</th>\n",
       "      <th>Neighborhood Latitude</th>\n",
       "      <th>Neighborhood Longitude</th>\n",
       "      <th>Venue</th>\n",
       "      <th>Venue Latitude</th>\n",
       "      <th>Venue Longitude</th>\n",
       "      <th>Venue Category</th>\n",
       "      <th>Venue Id</th>\n",
       "    </tr>\n",
       "  </thead>\n",
       "  <tbody>\n",
       "    <tr>\n",
       "      <th>0</th>\n",
       "      <td>Fatih</td>\n",
       "      <td>2647</td>\n",
       "      <td>2647</td>\n",
       "      <td>2647</td>\n",
       "      <td>2647</td>\n",
       "      <td>2647</td>\n",
       "      <td>2647</td>\n",
       "      <td>2647</td>\n",
       "      <td>2647</td>\n",
       "    </tr>\n",
       "    <tr>\n",
       "      <th>1</th>\n",
       "      <td>Beyoglu</td>\n",
       "      <td>1867</td>\n",
       "      <td>1867</td>\n",
       "      <td>1867</td>\n",
       "      <td>1867</td>\n",
       "      <td>1867</td>\n",
       "      <td>1867</td>\n",
       "      <td>1867</td>\n",
       "      <td>1867</td>\n",
       "    </tr>\n",
       "    <tr>\n",
       "      <th>2</th>\n",
       "      <td>Uskudar</td>\n",
       "      <td>1176</td>\n",
       "      <td>1176</td>\n",
       "      <td>1176</td>\n",
       "      <td>1176</td>\n",
       "      <td>1176</td>\n",
       "      <td>1176</td>\n",
       "      <td>1176</td>\n",
       "      <td>1176</td>\n",
       "    </tr>\n",
       "    <tr>\n",
       "      <th>3</th>\n",
       "      <td>Sisli</td>\n",
       "      <td>1132</td>\n",
       "      <td>1132</td>\n",
       "      <td>1132</td>\n",
       "      <td>1132</td>\n",
       "      <td>1132</td>\n",
       "      <td>1132</td>\n",
       "      <td>1132</td>\n",
       "      <td>1132</td>\n",
       "    </tr>\n",
       "    <tr>\n",
       "      <th>4</th>\n",
       "      <td>Umraniye</td>\n",
       "      <td>979</td>\n",
       "      <td>979</td>\n",
       "      <td>979</td>\n",
       "      <td>979</td>\n",
       "      <td>979</td>\n",
       "      <td>979</td>\n",
       "      <td>979</td>\n",
       "      <td>979</td>\n",
       "    </tr>\n",
       "  </tbody>\n",
       "</table>\n",
       "</div>"
      ],
      "text/plain": [
       "   District  Neighbourhood  Neighborhood Latitude  Neighborhood Longitude  \\\n",
       "0     Fatih           2647                   2647                    2647   \n",
       "1   Beyoglu           1867                   1867                    1867   \n",
       "2   Uskudar           1176                   1176                    1176   \n",
       "3     Sisli           1132                   1132                    1132   \n",
       "4  Umraniye            979                    979                     979   \n",
       "\n",
       "   Venue  Venue Latitude  Venue Longitude  Venue Category  Venue Id  \n",
       "0   2647            2647             2647            2647      2647  \n",
       "1   1867            1867             1867            1867      1867  \n",
       "2   1176            1176             1176            1176      1176  \n",
       "3   1132            1132             1132            1132      1132  \n",
       "4    979             979              979             979       979  "
      ]
     },
     "execution_count": 42,
     "metadata": {},
     "output_type": "execute_result"
    }
   ],
   "source": [
    "# It's a long list so we showed just top 5\n",
    "istanbul_venues.groupby('District').count().sort_values(by='Venue', ascending=False).reset_index().head()"
   ]
  },
  {
   "cell_type": "code",
   "execution_count": null,
   "metadata": {},
   "outputs": [],
   "source": [
    "map_istanbul = folium.Map(location=[lat_istanbul, long_istanbul], zoom_start=11)\n",
    "istanbul_districts_geo = f'datasets/istanbul_districts.json'\n",
    "\n",
    "\n",
    "folium.Choropleth(\n",
    "    geo_data=istanbul_districts_geo,\n",
    "    data=istanbul_venues.groupby('District').count().sort_values(by='Venue', ascending=False).reset_index(),\n",
    "    columns=['District', 'Venue'],\n",
    "    key_on='feature.properties.name_3',\n",
    "    fill_color='YlOrRd', \n",
    "    fill_opacity=0.7, \n",
    "    line_opacity=0.2,\n",
    "    legend_name='Venue density of Istanbul city').add_to(map_istanbul)\n",
    "map_istanbul"
   ]
  },
  {
   "cell_type": "markdown",
   "metadata": {},
   "source": [
    "<img src='images/istanbul_density.jpg' alt='Venue density of Istanbul'></img>"
   ]
  },
  {
   "cell_type": "markdown",
   "metadata": {},
   "source": [
    "Is there any neighbourhoods without any venue? But we should be carefull because there are some neighbourhoods with same name in different districts."
   ]
  },
  {
   "cell_type": "code",
   "execution_count": 44,
   "metadata": {},
   "outputs": [
    {
     "data": {
      "text/plain": [
       "449"
      ]
     },
     "execution_count": 44,
     "metadata": {},
     "output_type": "execute_result"
    }
   ],
   "source": [
    "len(istanbul_venues.groupby(['District', 'Neighbourhood'])['Neighbourhood'].nunique().index.levels[1])"
   ]
  },
  {
   "cell_type": "code",
   "execution_count": 45,
   "metadata": {},
   "outputs": [
    {
     "data": {
      "text/plain": [
       "(521, 6)"
      ]
     },
     "execution_count": 45,
     "metadata": {},
     "output_type": "execute_result"
    }
   ],
   "source": [
    "istanbul_venues.groupby(['District', 'Neighbourhood']).mean().reset_index().shape"
   ]
  },
  {
   "cell_type": "code",
   "execution_count": 46,
   "metadata": {},
   "outputs": [
    {
     "data": {
      "text/plain": [
       "72"
      ]
     },
     "execution_count": 46,
     "metadata": {},
     "output_type": "execute_result"
    }
   ],
   "source": [
    "521-449 "
   ]
  },
  {
   "cell_type": "markdown",
   "metadata": {},
   "source": [
    "As we can understand there are 72 neighbourhoods which has same name with other neighbourhoods in different district. And 521 shows us one neighbourhood has no venue. Let's find it!"
   ]
  },
  {
   "cell_type": "code",
   "execution_count": 47,
   "metadata": {},
   "outputs": [
    {
     "data": {
      "text/html": [
       "<div>\n",
       "<style scoped>\n",
       "    .dataframe tbody tr th:only-of-type {\n",
       "        vertical-align: middle;\n",
       "    }\n",
       "\n",
       "    .dataframe tbody tr th {\n",
       "        vertical-align: top;\n",
       "    }\n",
       "\n",
       "    .dataframe thead th {\n",
       "        text-align: right;\n",
       "    }\n",
       "</style>\n",
       "<table border=\"1\" class=\"dataframe\">\n",
       "  <thead>\n",
       "    <tr style=\"text-align: right;\">\n",
       "      <th></th>\n",
       "      <th>District</th>\n",
       "      <th>Neighbourhood</th>\n",
       "    </tr>\n",
       "  </thead>\n",
       "  <tbody>\n",
       "    <tr>\n",
       "      <th>106</th>\n",
       "      <td>Beykoz</td>\n",
       "      <td>Yavuz Selim</td>\n",
       "    </tr>\n",
       "  </tbody>\n",
       "</table>\n",
       "</div>"
      ],
      "text/plain": [
       "    District Neighbourhood\n",
       "106   Beykoz   Yavuz Selim"
      ]
     },
     "execution_count": 47,
     "metadata": {},
     "output_type": "execute_result"
    }
   ],
   "source": [
    "temp_df = istanbul_venues.groupby(['District', 'Neighbourhood']).mean().reset_index()\n",
    "temp_df2 = istanbul_df.groupby(['District', 'Neighbourhood']).mean().reset_index()\n",
    "temp_df3 = temp_df.loc[:, ['District', 'Neighbourhood']].append(temp_df2.loc[:, ['District', 'Neighbourhood']])\n",
    "temp_df3.drop_duplicates(keep=False)"
   ]
  },
  {
   "cell_type": "markdown",
   "metadata": {},
   "source": [
    "Yes, we found it. In Yavuz Selim neighbourhood of Beykoz district has no venue. We will again drop this row. First we should find the index of it."
   ]
  },
  {
   "cell_type": "code",
   "execution_count": 48,
   "metadata": {},
   "outputs": [
    {
     "data": {
      "text/html": [
       "<div>\n",
       "<style scoped>\n",
       "    .dataframe tbody tr th:only-of-type {\n",
       "        vertical-align: middle;\n",
       "    }\n",
       "\n",
       "    .dataframe tbody tr th {\n",
       "        vertical-align: top;\n",
       "    }\n",
       "\n",
       "    .dataframe thead th {\n",
       "        text-align: right;\n",
       "    }\n",
       "</style>\n",
       "<table border=\"1\" class=\"dataframe\">\n",
       "  <thead>\n",
       "    <tr style=\"text-align: right;\">\n",
       "      <th></th>\n",
       "      <th>District</th>\n",
       "      <th>Neighbourhood</th>\n",
       "      <th>Latitude</th>\n",
       "      <th>Longitude</th>\n",
       "    </tr>\n",
       "  </thead>\n",
       "  <tbody>\n",
       "    <tr>\n",
       "      <th>178</th>\n",
       "      <td>Beykoz</td>\n",
       "      <td>Yavuz Selim</td>\n",
       "      <td>41.073182</td>\n",
       "      <td>29.179765</td>\n",
       "    </tr>\n",
       "    <tr>\n",
       "      <th>299</th>\n",
       "      <td>Esenler</td>\n",
       "      <td>Yavuz Selim</td>\n",
       "      <td>41.037050</td>\n",
       "      <td>28.888078</td>\n",
       "    </tr>\n",
       "  </tbody>\n",
       "</table>\n",
       "</div>"
      ],
      "text/plain": [
       "    District Neighbourhood   Latitude  Longitude\n",
       "178   Beykoz   Yavuz Selim  41.073182  29.179765\n",
       "299  Esenler   Yavuz Selim  41.037050  28.888078"
      ]
     },
     "execution_count": 48,
     "metadata": {},
     "output_type": "execute_result"
    }
   ],
   "source": [
    "neigh = temp_df3.drop_duplicates(keep=False).Neighbourhood\n",
    "istanbul_df.loc[istanbul_df.Neighbourhood.isin(neigh)]"
   ]
  },
  {
   "cell_type": "markdown",
   "metadata": {},
   "source": [
    "As you see there are same neighbourhood name in different districts. We will drop at index 178. "
   ]
  },
  {
   "cell_type": "code",
   "execution_count": 49,
   "metadata": {},
   "outputs": [
    {
     "data": {
      "text/plain": [
       "(521, 4)"
      ]
     },
     "execution_count": 49,
     "metadata": {},
     "output_type": "execute_result"
    }
   ],
   "source": [
    "istanbul_df.drop([178], inplace=True)\n",
    "istanbul_df.reset_index(drop=True, inplace=True)\n",
    "istanbul_df.shape"
   ]
  },
  {
   "cell_type": "markdown",
   "metadata": {},
   "source": [
    "Now, we continue our analysis."
   ]
  },
  {
   "cell_type": "code",
   "execution_count": 50,
   "metadata": {},
   "outputs": [
    {
     "data": {
      "text/html": [
       "<div>\n",
       "<style scoped>\n",
       "    .dataframe tbody tr th:only-of-type {\n",
       "        vertical-align: middle;\n",
       "    }\n",
       "\n",
       "    .dataframe tbody tr th {\n",
       "        vertical-align: top;\n",
       "    }\n",
       "\n",
       "    .dataframe thead th {\n",
       "        text-align: right;\n",
       "    }\n",
       "</style>\n",
       "<table border=\"1\" class=\"dataframe\">\n",
       "  <thead>\n",
       "    <tr style=\"text-align: right;\">\n",
       "      <th></th>\n",
       "      <th>District</th>\n",
       "      <th>Neighbourhood</th>\n",
       "      <th>ATM</th>\n",
       "      <th>Accessories Store</th>\n",
       "      <th>Adult Boutique</th>\n",
       "      <th>Advertising Agency</th>\n",
       "      <th>Afghan Restaurant</th>\n",
       "      <th>African Restaurant</th>\n",
       "      <th>Airport</th>\n",
       "      <th>Airport Lounge</th>\n",
       "      <th>...</th>\n",
       "      <th>Waterfront</th>\n",
       "      <th>Wedding Hall</th>\n",
       "      <th>Whisky Bar</th>\n",
       "      <th>Wine Bar</th>\n",
       "      <th>Wine Shop</th>\n",
       "      <th>Winery</th>\n",
       "      <th>Wings Joint</th>\n",
       "      <th>Women's Store</th>\n",
       "      <th>Yoga Studio</th>\n",
       "      <th>Çöp Şiş Place</th>\n",
       "    </tr>\n",
       "  </thead>\n",
       "  <tbody>\n",
       "    <tr>\n",
       "      <th>0</th>\n",
       "      <td>Adalar</td>\n",
       "      <td>Burgazada</td>\n",
       "      <td>0</td>\n",
       "      <td>0</td>\n",
       "      <td>0</td>\n",
       "      <td>0</td>\n",
       "      <td>0</td>\n",
       "      <td>0</td>\n",
       "      <td>0</td>\n",
       "      <td>0</td>\n",
       "      <td>...</td>\n",
       "      <td>0</td>\n",
       "      <td>0</td>\n",
       "      <td>0</td>\n",
       "      <td>0</td>\n",
       "      <td>0</td>\n",
       "      <td>0</td>\n",
       "      <td>0</td>\n",
       "      <td>0</td>\n",
       "      <td>0</td>\n",
       "      <td>0</td>\n",
       "    </tr>\n",
       "    <tr>\n",
       "      <th>1</th>\n",
       "      <td>Adalar</td>\n",
       "      <td>Burgazada</td>\n",
       "      <td>0</td>\n",
       "      <td>0</td>\n",
       "      <td>0</td>\n",
       "      <td>0</td>\n",
       "      <td>0</td>\n",
       "      <td>0</td>\n",
       "      <td>0</td>\n",
       "      <td>0</td>\n",
       "      <td>...</td>\n",
       "      <td>0</td>\n",
       "      <td>0</td>\n",
       "      <td>0</td>\n",
       "      <td>0</td>\n",
       "      <td>0</td>\n",
       "      <td>0</td>\n",
       "      <td>0</td>\n",
       "      <td>0</td>\n",
       "      <td>0</td>\n",
       "      <td>0</td>\n",
       "    </tr>\n",
       "    <tr>\n",
       "      <th>2</th>\n",
       "      <td>Adalar</td>\n",
       "      <td>Burgazada</td>\n",
       "      <td>0</td>\n",
       "      <td>0</td>\n",
       "      <td>0</td>\n",
       "      <td>0</td>\n",
       "      <td>0</td>\n",
       "      <td>0</td>\n",
       "      <td>0</td>\n",
       "      <td>0</td>\n",
       "      <td>...</td>\n",
       "      <td>0</td>\n",
       "      <td>0</td>\n",
       "      <td>0</td>\n",
       "      <td>0</td>\n",
       "      <td>0</td>\n",
       "      <td>0</td>\n",
       "      <td>0</td>\n",
       "      <td>0</td>\n",
       "      <td>0</td>\n",
       "      <td>0</td>\n",
       "    </tr>\n",
       "    <tr>\n",
       "      <th>3</th>\n",
       "      <td>Adalar</td>\n",
       "      <td>Burgazada</td>\n",
       "      <td>0</td>\n",
       "      <td>0</td>\n",
       "      <td>0</td>\n",
       "      <td>0</td>\n",
       "      <td>0</td>\n",
       "      <td>0</td>\n",
       "      <td>0</td>\n",
       "      <td>0</td>\n",
       "      <td>...</td>\n",
       "      <td>0</td>\n",
       "      <td>0</td>\n",
       "      <td>0</td>\n",
       "      <td>0</td>\n",
       "      <td>0</td>\n",
       "      <td>0</td>\n",
       "      <td>0</td>\n",
       "      <td>0</td>\n",
       "      <td>0</td>\n",
       "      <td>0</td>\n",
       "    </tr>\n",
       "    <tr>\n",
       "      <th>4</th>\n",
       "      <td>Adalar</td>\n",
       "      <td>Burgazada</td>\n",
       "      <td>0</td>\n",
       "      <td>0</td>\n",
       "      <td>0</td>\n",
       "      <td>0</td>\n",
       "      <td>0</td>\n",
       "      <td>0</td>\n",
       "      <td>0</td>\n",
       "      <td>0</td>\n",
       "      <td>...</td>\n",
       "      <td>0</td>\n",
       "      <td>0</td>\n",
       "      <td>0</td>\n",
       "      <td>0</td>\n",
       "      <td>0</td>\n",
       "      <td>0</td>\n",
       "      <td>0</td>\n",
       "      <td>0</td>\n",
       "      <td>0</td>\n",
       "      <td>0</td>\n",
       "    </tr>\n",
       "  </tbody>\n",
       "</table>\n",
       "<p>5 rows × 468 columns</p>\n",
       "</div>"
      ],
      "text/plain": [
       "  District Neighbourhood  ATM  Accessories Store  Adult Boutique  \\\n",
       "0   Adalar     Burgazada    0                  0               0   \n",
       "1   Adalar     Burgazada    0                  0               0   \n",
       "2   Adalar     Burgazada    0                  0               0   \n",
       "3   Adalar     Burgazada    0                  0               0   \n",
       "4   Adalar     Burgazada    0                  0               0   \n",
       "\n",
       "   Advertising Agency  Afghan Restaurant  African Restaurant  Airport  \\\n",
       "0                   0                  0                   0        0   \n",
       "1                   0                  0                   0        0   \n",
       "2                   0                  0                   0        0   \n",
       "3                   0                  0                   0        0   \n",
       "4                   0                  0                   0        0   \n",
       "\n",
       "   Airport Lounge  ...  Waterfront  Wedding Hall  Whisky Bar  Wine Bar  \\\n",
       "0               0  ...           0             0           0         0   \n",
       "1               0  ...           0             0           0         0   \n",
       "2               0  ...           0             0           0         0   \n",
       "3               0  ...           0             0           0         0   \n",
       "4               0  ...           0             0           0         0   \n",
       "\n",
       "   Wine Shop  Winery  Wings Joint  Women's Store  Yoga Studio  Çöp Şiş Place  \n",
       "0          0       0            0              0            0              0  \n",
       "1          0       0            0              0            0              0  \n",
       "2          0       0            0              0            0              0  \n",
       "3          0       0            0              0            0              0  \n",
       "4          0       0            0              0            0              0  \n",
       "\n",
       "[5 rows x 468 columns]"
      ]
     },
     "execution_count": 50,
     "metadata": {},
     "output_type": "execute_result"
    }
   ],
   "source": [
    "istanbul_venues_onehotted = pd.get_dummies(istanbul_venues[['Venue Category']], prefix=\"\", prefix_sep=\"\")\n",
    "istanbul_venues_onehotted['District'] = istanbul_venues['District']\n",
    "istanbul_venues_onehotted['Neighbourhood'] = istanbul_venues['Neighbourhood']\n",
    "\n",
    "column_order = ['District', 'Neighbourhood'] + list(istanbul_venues_onehotted.columns[:-2])\n",
    "istanbul_venues_onehotted = istanbul_venues_onehotted[column_order]\n",
    "istanbul_venues_onehotted.head()"
   ]
  },
  {
   "cell_type": "code",
   "execution_count": 51,
   "metadata": {},
   "outputs": [
    {
     "data": {
      "text/plain": [
       "(18870, 468)"
      ]
     },
     "execution_count": 51,
     "metadata": {},
     "output_type": "execute_result"
    }
   ],
   "source": [
    "istanbul_venues_onehotted.shape"
   ]
  },
  {
   "cell_type": "code",
   "execution_count": 52,
   "metadata": {},
   "outputs": [
    {
     "data": {
      "text/html": [
       "<div>\n",
       "<style scoped>\n",
       "    .dataframe tbody tr th:only-of-type {\n",
       "        vertical-align: middle;\n",
       "    }\n",
       "\n",
       "    .dataframe tbody tr th {\n",
       "        vertical-align: top;\n",
       "    }\n",
       "\n",
       "    .dataframe thead th {\n",
       "        text-align: right;\n",
       "    }\n",
       "</style>\n",
       "<table border=\"1\" class=\"dataframe\">\n",
       "  <thead>\n",
       "    <tr style=\"text-align: right;\">\n",
       "      <th></th>\n",
       "      <th>District</th>\n",
       "      <th>Neighbourhood</th>\n",
       "      <th>ATM</th>\n",
       "      <th>Accessories Store</th>\n",
       "      <th>Adult Boutique</th>\n",
       "      <th>Advertising Agency</th>\n",
       "      <th>Afghan Restaurant</th>\n",
       "      <th>African Restaurant</th>\n",
       "      <th>Airport</th>\n",
       "      <th>Airport Lounge</th>\n",
       "      <th>...</th>\n",
       "      <th>Waterfront</th>\n",
       "      <th>Wedding Hall</th>\n",
       "      <th>Whisky Bar</th>\n",
       "      <th>Wine Bar</th>\n",
       "      <th>Wine Shop</th>\n",
       "      <th>Winery</th>\n",
       "      <th>Wings Joint</th>\n",
       "      <th>Women's Store</th>\n",
       "      <th>Yoga Studio</th>\n",
       "      <th>Çöp Şiş Place</th>\n",
       "    </tr>\n",
       "  </thead>\n",
       "  <tbody>\n",
       "    <tr>\n",
       "      <th>0</th>\n",
       "      <td>Adalar</td>\n",
       "      <td>Burgazada</td>\n",
       "      <td>0.0</td>\n",
       "      <td>0.0</td>\n",
       "      <td>0.0</td>\n",
       "      <td>0.0</td>\n",
       "      <td>0.0</td>\n",
       "      <td>0.0</td>\n",
       "      <td>0.0</td>\n",
       "      <td>0.0</td>\n",
       "      <td>...</td>\n",
       "      <td>0.00</td>\n",
       "      <td>0.0</td>\n",
       "      <td>0.0</td>\n",
       "      <td>0.0</td>\n",
       "      <td>0.0</td>\n",
       "      <td>0.0</td>\n",
       "      <td>0.0</td>\n",
       "      <td>0.0</td>\n",
       "      <td>0.0</td>\n",
       "      <td>0.0</td>\n",
       "    </tr>\n",
       "    <tr>\n",
       "      <th>1</th>\n",
       "      <td>Adalar</td>\n",
       "      <td>Heybeliada</td>\n",
       "      <td>0.0</td>\n",
       "      <td>0.0</td>\n",
       "      <td>0.0</td>\n",
       "      <td>0.0</td>\n",
       "      <td>0.0</td>\n",
       "      <td>0.0</td>\n",
       "      <td>0.0</td>\n",
       "      <td>0.0</td>\n",
       "      <td>...</td>\n",
       "      <td>0.02</td>\n",
       "      <td>0.0</td>\n",
       "      <td>0.0</td>\n",
       "      <td>0.0</td>\n",
       "      <td>0.0</td>\n",
       "      <td>0.0</td>\n",
       "      <td>0.0</td>\n",
       "      <td>0.0</td>\n",
       "      <td>0.0</td>\n",
       "      <td>0.0</td>\n",
       "    </tr>\n",
       "    <tr>\n",
       "      <th>2</th>\n",
       "      <td>Adalar</td>\n",
       "      <td>Kınalıada</td>\n",
       "      <td>0.0</td>\n",
       "      <td>0.0</td>\n",
       "      <td>0.0</td>\n",
       "      <td>0.0</td>\n",
       "      <td>0.0</td>\n",
       "      <td>0.0</td>\n",
       "      <td>0.0</td>\n",
       "      <td>0.0</td>\n",
       "      <td>...</td>\n",
       "      <td>0.00</td>\n",
       "      <td>0.0</td>\n",
       "      <td>0.0</td>\n",
       "      <td>0.0</td>\n",
       "      <td>0.0</td>\n",
       "      <td>0.0</td>\n",
       "      <td>0.0</td>\n",
       "      <td>0.0</td>\n",
       "      <td>0.0</td>\n",
       "      <td>0.0</td>\n",
       "    </tr>\n",
       "    <tr>\n",
       "      <th>3</th>\n",
       "      <td>Adalar</td>\n",
       "      <td>Maden</td>\n",
       "      <td>0.0</td>\n",
       "      <td>0.0</td>\n",
       "      <td>0.0</td>\n",
       "      <td>0.0</td>\n",
       "      <td>0.0</td>\n",
       "      <td>0.0</td>\n",
       "      <td>0.0</td>\n",
       "      <td>0.0</td>\n",
       "      <td>...</td>\n",
       "      <td>0.00</td>\n",
       "      <td>0.0</td>\n",
       "      <td>0.0</td>\n",
       "      <td>0.0</td>\n",
       "      <td>0.0</td>\n",
       "      <td>0.0</td>\n",
       "      <td>0.0</td>\n",
       "      <td>0.0</td>\n",
       "      <td>0.0</td>\n",
       "      <td>0.0</td>\n",
       "    </tr>\n",
       "    <tr>\n",
       "      <th>4</th>\n",
       "      <td>Adalar</td>\n",
       "      <td>Nizam</td>\n",
       "      <td>0.0</td>\n",
       "      <td>0.0</td>\n",
       "      <td>0.0</td>\n",
       "      <td>0.0</td>\n",
       "      <td>0.0</td>\n",
       "      <td>0.0</td>\n",
       "      <td>0.0</td>\n",
       "      <td>0.0</td>\n",
       "      <td>...</td>\n",
       "      <td>0.00</td>\n",
       "      <td>0.0</td>\n",
       "      <td>0.0</td>\n",
       "      <td>0.0</td>\n",
       "      <td>0.0</td>\n",
       "      <td>0.0</td>\n",
       "      <td>0.0</td>\n",
       "      <td>0.0</td>\n",
       "      <td>0.0</td>\n",
       "      <td>0.0</td>\n",
       "    </tr>\n",
       "  </tbody>\n",
       "</table>\n",
       "<p>5 rows × 468 columns</p>\n",
       "</div>"
      ],
      "text/plain": [
       "  District Neighbourhood  ATM  Accessories Store  Adult Boutique  \\\n",
       "0   Adalar     Burgazada  0.0                0.0             0.0   \n",
       "1   Adalar    Heybeliada  0.0                0.0             0.0   \n",
       "2   Adalar     Kınalıada  0.0                0.0             0.0   \n",
       "3   Adalar         Maden  0.0                0.0             0.0   \n",
       "4   Adalar         Nizam  0.0                0.0             0.0   \n",
       "\n",
       "   Advertising Agency  Afghan Restaurant  African Restaurant  Airport  \\\n",
       "0                 0.0                0.0                 0.0      0.0   \n",
       "1                 0.0                0.0                 0.0      0.0   \n",
       "2                 0.0                0.0                 0.0      0.0   \n",
       "3                 0.0                0.0                 0.0      0.0   \n",
       "4                 0.0                0.0                 0.0      0.0   \n",
       "\n",
       "   Airport Lounge  ...  Waterfront  Wedding Hall  Whisky Bar  Wine Bar  \\\n",
       "0             0.0  ...        0.00           0.0         0.0       0.0   \n",
       "1             0.0  ...        0.02           0.0         0.0       0.0   \n",
       "2             0.0  ...        0.00           0.0         0.0       0.0   \n",
       "3             0.0  ...        0.00           0.0         0.0       0.0   \n",
       "4             0.0  ...        0.00           0.0         0.0       0.0   \n",
       "\n",
       "   Wine Shop  Winery  Wings Joint  Women's Store  Yoga Studio  Çöp Şiş Place  \n",
       "0        0.0     0.0          0.0            0.0          0.0            0.0  \n",
       "1        0.0     0.0          0.0            0.0          0.0            0.0  \n",
       "2        0.0     0.0          0.0            0.0          0.0            0.0  \n",
       "3        0.0     0.0          0.0            0.0          0.0            0.0  \n",
       "4        0.0     0.0          0.0            0.0          0.0            0.0  \n",
       "\n",
       "[5 rows x 468 columns]"
      ]
     },
     "execution_count": 52,
     "metadata": {},
     "output_type": "execute_result"
    }
   ],
   "source": [
    "istanbul_venues_grouped = istanbul_venues_onehotted.groupby(['District', 'Neighbourhood']).mean().reset_index()\n",
    "istanbul_venues_grouped.head()"
   ]
  },
  {
   "cell_type": "code",
   "execution_count": 53,
   "metadata": {},
   "outputs": [
    {
     "data": {
      "text/plain": [
       "(521, 468)"
      ]
     },
     "execution_count": 53,
     "metadata": {},
     "output_type": "execute_result"
    }
   ],
   "source": [
    "istanbul_venues_grouped.shape"
   ]
  },
  {
   "cell_type": "code",
   "execution_count": 54,
   "metadata": {},
   "outputs": [
    {
     "data": {
      "text/plain": [
       "Café                    33.217034\n",
       "Turkish Restaurant      13.441335\n",
       "Restaurant              10.491628\n",
       "Bakery                   6.954454\n",
       "Coffee Shop              6.941785\n",
       "Park                     6.392711\n",
       "Hotel                    6.368963\n",
       "Gym                      6.368741\n",
       "Dessert Shop             5.339183\n",
       "Gym / Fitness Center     4.484167\n",
       "dtype: float64"
      ]
     },
     "execution_count": 54,
     "metadata": {},
     "output_type": "execute_result"
    }
   ],
   "source": [
    "istanbul_overall_top_10 = istanbul_venues_grouped.iloc[:,2:].sum().sort_values(ascending=False)[:10]\n",
    "istanbul_overall_top_10 = istanbul_overall_top_10*100/istanbul_overall_top_10.sum()\n",
    "istanbul_overall_top_10"
   ]
  },
  {
   "cell_type": "markdown",
   "metadata": {},
   "source": [
    "Lets visualize them together."
   ]
  },
  {
   "cell_type": "code",
   "execution_count": 55,
   "metadata": {},
   "outputs": [
    {
     "data": {
      "image/png": "[encoded data removed]",
      "text/plain": [
       "<Figure size 1080x432 with 2 Axes>"
      ]
     },
     "metadata": {
      "needs_background": "light"
     },
     "output_type": "display_data"
    }
   ],
   "source": [
    "fig, (ax1, ax2) = plt.subplots(1, 2, figsize=(15,6))\n",
    "fig.subplots_adjust(wspace=1)\n",
    "sns.set(style=\"whitegrid\")\n",
    "sns.barplot(amsterdam_overall_top_10.values, amsterdam_overall_top_10.index, ax=ax1)\n",
    "ax1.set_xlabel('% distribution of top-10 venues')\n",
    "ax1.set_title(\"City of Amsterdam\")\n",
    "sns.barplot(istanbul_overall_top_10.values, istanbul_overall_top_10.index, ax=ax2)\n",
    "ax2.set_xlabel('% distribution of top-10 venues')\n",
    "ax2.set_title(\"Istanbul city\")\n",
    "plt.show()"
   ]
  },
  {
   "cell_type": "markdown",
   "metadata": {},
   "source": [
    "Now, we will define a function in order to get most common venue categories."
   ]
  },
  {
   "cell_type": "code",
   "execution_count": 56,
   "metadata": {},
   "outputs": [],
   "source": [
    "def return_most_common_venue_categories(row, num_top_venues):\n",
    "    row_categories = row.iloc[2:]\n",
    "    row_categories_sorted = row_categories.sort_values(ascending=False)\n",
    "    return row_categories_sorted.index.values[0:num_top_venues]\n",
    "\n",
    "def create_most_common_venue_dataframe(df, top_num):\n",
    "    indicators = ['st', 'nd', 'rd']\n",
    "\n",
    "    # create columns according to number of top venues\n",
    "    column_names = ['District', 'Neighbourhood']\n",
    "    for ind in np.arange(top_num):\n",
    "        try:\n",
    "            column_names.append('{}{} Venue'.format(ind+1, indicators[ind]))\n",
    "        except:\n",
    "            column_names.append('{}th Venue'.format(ind+1))\n",
    "\n",
    "    # create a new dataframe\n",
    "    df_sorted = pd.DataFrame(columns=column_names)\n",
    "    df_sorted['District'] = df['District']\n",
    "    df_sorted['Neighbourhood'] = df['Neighbourhood']\n",
    "\n",
    "    for ind in np.arange(df.shape[0]):\n",
    "        df_sorted.iloc[ind, 2:] = return_most_common_venue_categories(df.iloc[ind, :], top_num)\n",
    "        \n",
    "    return df_sorted"
   ]
  },
  {
   "cell_type": "markdown",
   "metadata": {},
   "source": [
    "Now, we will create new dataframes and display the top 30 venues for each city.\n",
    "First, city of Amsterdam;"
   ]
  },
  {
   "cell_type": "code",
   "execution_count": 57,
   "metadata": {},
   "outputs": [],
   "source": [
    "amsterdam_most_common = create_most_common_venue_dataframe(amsterdam_venues_grouped, top_num=30)"
   ]
  },
  {
   "cell_type": "code",
   "execution_count": 58,
   "metadata": {},
   "outputs": [
    {
     "data": {
      "text/html": [
       "<div>\n",
       "<style scoped>\n",
       "    .dataframe tbody tr th:only-of-type {\n",
       "        vertical-align: middle;\n",
       "    }\n",
       "\n",
       "    .dataframe tbody tr th {\n",
       "        vertical-align: top;\n",
       "    }\n",
       "\n",
       "    .dataframe thead th {\n",
       "        text-align: right;\n",
       "    }\n",
       "</style>\n",
       "<table border=\"1\" class=\"dataframe\">\n",
       "  <thead>\n",
       "    <tr style=\"text-align: right;\">\n",
       "      <th></th>\n",
       "      <th>District</th>\n",
       "      <th>Neighbourhood</th>\n",
       "      <th>1st Venue</th>\n",
       "      <th>2nd Venue</th>\n",
       "      <th>3rd Venue</th>\n",
       "      <th>4th Venue</th>\n",
       "      <th>5th Venue</th>\n",
       "      <th>6th Venue</th>\n",
       "      <th>7th Venue</th>\n",
       "      <th>8th Venue</th>\n",
       "      <th>...</th>\n",
       "      <th>21th Venue</th>\n",
       "      <th>22th Venue</th>\n",
       "      <th>23th Venue</th>\n",
       "      <th>24th Venue</th>\n",
       "      <th>25th Venue</th>\n",
       "      <th>26th Venue</th>\n",
       "      <th>27th Venue</th>\n",
       "      <th>28th Venue</th>\n",
       "      <th>29th Venue</th>\n",
       "      <th>30th Venue</th>\n",
       "    </tr>\n",
       "  </thead>\n",
       "  <tbody>\n",
       "    <tr>\n",
       "      <th>0</th>\n",
       "      <td>Centrum</td>\n",
       "      <td>Alexanderplein e.o.</td>\n",
       "      <td>Zoo Exhibit</td>\n",
       "      <td>Restaurant</td>\n",
       "      <td>Café</td>\n",
       "      <td>Supermarket</td>\n",
       "      <td>Theater</td>\n",
       "      <td>Bar</td>\n",
       "      <td>Hotel</td>\n",
       "      <td>Museum</td>\n",
       "      <td>...</td>\n",
       "      <td>Tapas Restaurant</td>\n",
       "      <td>Aquarium</td>\n",
       "      <td>Hookah Bar</td>\n",
       "      <td>Turkish Restaurant</td>\n",
       "      <td>Hostel</td>\n",
       "      <td>African Restaurant</td>\n",
       "      <td>Wine Bar</td>\n",
       "      <td>Park</td>\n",
       "      <td>Zoo</td>\n",
       "      <td>Yoga Studio</td>\n",
       "    </tr>\n",
       "    <tr>\n",
       "      <th>1</th>\n",
       "      <td>Centrum</td>\n",
       "      <td>Amstelveldbuurt</td>\n",
       "      <td>Coffee Shop</td>\n",
       "      <td>French Restaurant</td>\n",
       "      <td>Bar</td>\n",
       "      <td>Plaza</td>\n",
       "      <td>Art Museum</td>\n",
       "      <td>Italian Restaurant</td>\n",
       "      <td>Greek Restaurant</td>\n",
       "      <td>Marijuana Dispensary</td>\n",
       "      <td>...</td>\n",
       "      <td>Cheese Shop</td>\n",
       "      <td>Theater</td>\n",
       "      <td>Spa</td>\n",
       "      <td>Spanish Restaurant</td>\n",
       "      <td>Japanese Restaurant</td>\n",
       "      <td>Sandwich Place</td>\n",
       "      <td>Butcher</td>\n",
       "      <td>Hookah Bar</td>\n",
       "      <td>Salad Place</td>\n",
       "      <td>Dessert Shop</td>\n",
       "    </tr>\n",
       "    <tr>\n",
       "      <th>2</th>\n",
       "      <td>Centrum</td>\n",
       "      <td>Anjeliersbuurt Noord</td>\n",
       "      <td>Bar</td>\n",
       "      <td>Italian Restaurant</td>\n",
       "      <td>Sandwich Place</td>\n",
       "      <td>Café</td>\n",
       "      <td>Bistro</td>\n",
       "      <td>Spanish Restaurant</td>\n",
       "      <td>Thai Restaurant</td>\n",
       "      <td>Salad Place</td>\n",
       "      <td>...</td>\n",
       "      <td>Pizza Place</td>\n",
       "      <td>Comfort Food Restaurant</td>\n",
       "      <td>Tapas Restaurant</td>\n",
       "      <td>Creperie</td>\n",
       "      <td>Hotel</td>\n",
       "      <td>Indian Restaurant</td>\n",
       "      <td>Yoga Studio</td>\n",
       "      <td>Women's Store</td>\n",
       "      <td>Ice Cream Shop</td>\n",
       "      <td>Indonesian Restaurant</td>\n",
       "    </tr>\n",
       "    <tr>\n",
       "      <th>3</th>\n",
       "      <td>Centrum</td>\n",
       "      <td>Anjeliersbuurt Zuid</td>\n",
       "      <td>Bar</td>\n",
       "      <td>Café</td>\n",
       "      <td>Italian Restaurant</td>\n",
       "      <td>Hotel</td>\n",
       "      <td>Sandwich Place</td>\n",
       "      <td>Thai Restaurant</td>\n",
       "      <td>Pizza Place</td>\n",
       "      <td>Bistro</td>\n",
       "      <td>...</td>\n",
       "      <td>Indonesian Restaurant</td>\n",
       "      <td>Food &amp; Drink Shop</td>\n",
       "      <td>Women's Store</td>\n",
       "      <td>Afghan Restaurant</td>\n",
       "      <td>Wine Bar</td>\n",
       "      <td>Historic Site</td>\n",
       "      <td>Hostel</td>\n",
       "      <td>Ice Cream Shop</td>\n",
       "      <td>Art Museum</td>\n",
       "      <td>Indian Restaurant</td>\n",
       "    </tr>\n",
       "    <tr>\n",
       "      <th>4</th>\n",
       "      <td>Centrum</td>\n",
       "      <td>BG-terrein e.o.</td>\n",
       "      <td>Hotel</td>\n",
       "      <td>Breakfast Spot</td>\n",
       "      <td>Café</td>\n",
       "      <td>Bar</td>\n",
       "      <td>Marijuana Dispensary</td>\n",
       "      <td>Bookstore</td>\n",
       "      <td>Cocktail Bar</td>\n",
       "      <td>Chinese Restaurant</td>\n",
       "      <td>...</td>\n",
       "      <td>Sandwich Place</td>\n",
       "      <td>Wine Bar</td>\n",
       "      <td>Bakery</td>\n",
       "      <td>Clothing Store</td>\n",
       "      <td>Women's Store</td>\n",
       "      <td>Seafood Restaurant</td>\n",
       "      <td>Thai Restaurant</td>\n",
       "      <td>Italian Restaurant</td>\n",
       "      <td>Cosmetics Shop</td>\n",
       "      <td>Indie Theater</td>\n",
       "    </tr>\n",
       "  </tbody>\n",
       "</table>\n",
       "<p>5 rows × 32 columns</p>\n",
       "</div>"
      ],
      "text/plain": [
       "  District         Neighbourhood    1st Venue           2nd Venue  \\\n",
       "0  Centrum   Alexanderplein e.o.  Zoo Exhibit          Restaurant   \n",
       "1  Centrum       Amstelveldbuurt  Coffee Shop   French Restaurant   \n",
       "2  Centrum  Anjeliersbuurt Noord          Bar  Italian Restaurant   \n",
       "3  Centrum   Anjeliersbuurt Zuid          Bar                Café   \n",
       "4  Centrum       BG-terrein e.o.        Hotel      Breakfast Spot   \n",
       "\n",
       "            3rd Venue    4th Venue             5th Venue           6th Venue  \\\n",
       "0                Café  Supermarket               Theater                 Bar   \n",
       "1                 Bar        Plaza            Art Museum  Italian Restaurant   \n",
       "2      Sandwich Place         Café                Bistro  Spanish Restaurant   \n",
       "3  Italian Restaurant        Hotel        Sandwich Place     Thai Restaurant   \n",
       "4                Café          Bar  Marijuana Dispensary           Bookstore   \n",
       "\n",
       "          7th Venue             8th Venue  ...             21th Venue  \\\n",
       "0             Hotel                Museum  ...       Tapas Restaurant   \n",
       "1  Greek Restaurant  Marijuana Dispensary  ...            Cheese Shop   \n",
       "2   Thai Restaurant           Salad Place  ...            Pizza Place   \n",
       "3       Pizza Place                Bistro  ...  Indonesian Restaurant   \n",
       "4      Cocktail Bar    Chinese Restaurant  ...         Sandwich Place   \n",
       "\n",
       "                22th Venue        23th Venue          24th Venue  \\\n",
       "0                 Aquarium        Hookah Bar  Turkish Restaurant   \n",
       "1                  Theater               Spa  Spanish Restaurant   \n",
       "2  Comfort Food Restaurant  Tapas Restaurant            Creperie   \n",
       "3        Food & Drink Shop     Women's Store   Afghan Restaurant   \n",
       "4                 Wine Bar            Bakery      Clothing Store   \n",
       "\n",
       "            25th Venue          26th Venue       27th Venue  \\\n",
       "0               Hostel  African Restaurant         Wine Bar   \n",
       "1  Japanese Restaurant      Sandwich Place          Butcher   \n",
       "2                Hotel   Indian Restaurant      Yoga Studio   \n",
       "3             Wine Bar       Historic Site           Hostel   \n",
       "4        Women's Store  Seafood Restaurant  Thai Restaurant   \n",
       "\n",
       "           28th Venue      29th Venue             30th Venue  \n",
       "0                Park             Zoo            Yoga Studio  \n",
       "1          Hookah Bar     Salad Place           Dessert Shop  \n",
       "2       Women's Store  Ice Cream Shop  Indonesian Restaurant  \n",
       "3      Ice Cream Shop      Art Museum      Indian Restaurant  \n",
       "4  Italian Restaurant  Cosmetics Shop          Indie Theater  \n",
       "\n",
       "[5 rows x 32 columns]"
      ]
     },
     "execution_count": 58,
     "metadata": {},
     "output_type": "execute_result"
    }
   ],
   "source": [
    "amsterdam_most_common.head()"
   ]
  },
  {
   "cell_type": "markdown",
   "metadata": {},
   "source": [
    "Now, Istanbul city;"
   ]
  },
  {
   "cell_type": "code",
   "execution_count": 59,
   "metadata": {},
   "outputs": [],
   "source": [
    "istanbul_most_common = create_most_common_venue_dataframe(istanbul_venues_grouped, top_num=30)"
   ]
  },
  {
   "cell_type": "code",
   "execution_count": 60,
   "metadata": {},
   "outputs": [
    {
     "data": {
      "text/html": [
       "<div>\n",
       "<style scoped>\n",
       "    .dataframe tbody tr th:only-of-type {\n",
       "        vertical-align: middle;\n",
       "    }\n",
       "\n",
       "    .dataframe tbody tr th {\n",
       "        vertical-align: top;\n",
       "    }\n",
       "\n",
       "    .dataframe thead th {\n",
       "        text-align: right;\n",
       "    }\n",
       "</style>\n",
       "<table border=\"1\" class=\"dataframe\">\n",
       "  <thead>\n",
       "    <tr style=\"text-align: right;\">\n",
       "      <th></th>\n",
       "      <th>District</th>\n",
       "      <th>Neighbourhood</th>\n",
       "      <th>1st Venue</th>\n",
       "      <th>2nd Venue</th>\n",
       "      <th>3rd Venue</th>\n",
       "      <th>4th Venue</th>\n",
       "      <th>5th Venue</th>\n",
       "      <th>6th Venue</th>\n",
       "      <th>7th Venue</th>\n",
       "      <th>8th Venue</th>\n",
       "      <th>...</th>\n",
       "      <th>21th Venue</th>\n",
       "      <th>22th Venue</th>\n",
       "      <th>23th Venue</th>\n",
       "      <th>24th Venue</th>\n",
       "      <th>25th Venue</th>\n",
       "      <th>26th Venue</th>\n",
       "      <th>27th Venue</th>\n",
       "      <th>28th Venue</th>\n",
       "      <th>29th Venue</th>\n",
       "      <th>30th Venue</th>\n",
       "    </tr>\n",
       "  </thead>\n",
       "  <tbody>\n",
       "    <tr>\n",
       "      <th>0</th>\n",
       "      <td>Adalar</td>\n",
       "      <td>Burgazada</td>\n",
       "      <td>Seafood Restaurant</td>\n",
       "      <td>Café</td>\n",
       "      <td>Beach</td>\n",
       "      <td>Boat or Ferry</td>\n",
       "      <td>Pier</td>\n",
       "      <td>Bakery</td>\n",
       "      <td>Restaurant</td>\n",
       "      <td>Hotel</td>\n",
       "      <td>...</td>\n",
       "      <td>Plaza</td>\n",
       "      <td>History Museum</td>\n",
       "      <td>Ice Cream Shop</td>\n",
       "      <td>Fish &amp; Chips Shop</td>\n",
       "      <td>Duty-free Shop</td>\n",
       "      <td>Eastern European Restaurant</td>\n",
       "      <td>Film Studio</td>\n",
       "      <td>Electronics Store</td>\n",
       "      <td>Farmers Market</td>\n",
       "      <td>Fabric Shop</td>\n",
       "    </tr>\n",
       "    <tr>\n",
       "      <th>1</th>\n",
       "      <td>Adalar</td>\n",
       "      <td>Heybeliada</td>\n",
       "      <td>Café</td>\n",
       "      <td>Seafood Restaurant</td>\n",
       "      <td>Turkish Restaurant</td>\n",
       "      <td>Bakery</td>\n",
       "      <td>Fast Food Restaurant</td>\n",
       "      <td>Beach</td>\n",
       "      <td>Bed &amp; Breakfast</td>\n",
       "      <td>Dessert Shop</td>\n",
       "      <td>...</td>\n",
       "      <td>Snack Place</td>\n",
       "      <td>Soccer Stadium</td>\n",
       "      <td>Pool</td>\n",
       "      <td>Hotel</td>\n",
       "      <td>Harbor / Marina</td>\n",
       "      <td>Plaza</td>\n",
       "      <td>Waterfront</td>\n",
       "      <td>History Museum</td>\n",
       "      <td>Historic Site</td>\n",
       "      <td>Duty-free Shop</td>\n",
       "    </tr>\n",
       "    <tr>\n",
       "      <th>2</th>\n",
       "      <td>Adalar</td>\n",
       "      <td>Kınalıada</td>\n",
       "      <td>Café</td>\n",
       "      <td>Seafood Restaurant</td>\n",
       "      <td>Beach</td>\n",
       "      <td>Dessert Shop</td>\n",
       "      <td>Breakfast Spot</td>\n",
       "      <td>Ice Cream Shop</td>\n",
       "      <td>Kebab Restaurant</td>\n",
       "      <td>Buffet</td>\n",
       "      <td>...</td>\n",
       "      <td>Mediterranean Restaurant</td>\n",
       "      <td>Shopping Mall</td>\n",
       "      <td>Steakhouse</td>\n",
       "      <td>Pie Shop</td>\n",
       "      <td>Bakery</td>\n",
       "      <td>Soccer Stadium</td>\n",
       "      <td>Greek Restaurant</td>\n",
       "      <td>Hotel</td>\n",
       "      <td>Costume Shop</td>\n",
       "      <td>Cuban Restaurant</td>\n",
       "    </tr>\n",
       "    <tr>\n",
       "      <th>3</th>\n",
       "      <td>Adalar</td>\n",
       "      <td>Maden</td>\n",
       "      <td>Hotel</td>\n",
       "      <td>Historic Site</td>\n",
       "      <td>Beach</td>\n",
       "      <td>Café</td>\n",
       "      <td>History Museum</td>\n",
       "      <td>Bed &amp; Breakfast</td>\n",
       "      <td>BBQ Joint</td>\n",
       "      <td>Road</td>\n",
       "      <td>...</td>\n",
       "      <td>Donut Shop</td>\n",
       "      <td>Exhibit</td>\n",
       "      <td>Event Space</td>\n",
       "      <td>Fabric Shop</td>\n",
       "      <td>Factory</td>\n",
       "      <td>Falafel Restaurant</td>\n",
       "      <td>Farm</td>\n",
       "      <td>Farmers Market</td>\n",
       "      <td>Fast Food Restaurant</td>\n",
       "      <td>Film Studio</td>\n",
       "    </tr>\n",
       "    <tr>\n",
       "      <th>4</th>\n",
       "      <td>Adalar</td>\n",
       "      <td>Nizam</td>\n",
       "      <td>Beach</td>\n",
       "      <td>Harbor / Marina</td>\n",
       "      <td>Bed &amp; Breakfast</td>\n",
       "      <td>Mountain</td>\n",
       "      <td>BBQ Joint</td>\n",
       "      <td>Cafeteria</td>\n",
       "      <td>Breakfast Spot</td>\n",
       "      <td>Hotel</td>\n",
       "      <td>...</td>\n",
       "      <td>Snack Place</td>\n",
       "      <td>Hostel</td>\n",
       "      <td>Event Service</td>\n",
       "      <td>Event Space</td>\n",
       "      <td>Entertainment Service</td>\n",
       "      <td>English Restaurant</td>\n",
       "      <td>Electronics Store</td>\n",
       "      <td>Çöp Şiş Place</td>\n",
       "      <td>Exhibit</td>\n",
       "      <td>Fabric Shop</td>\n",
       "    </tr>\n",
       "  </tbody>\n",
       "</table>\n",
       "<p>5 rows × 32 columns</p>\n",
       "</div>"
      ],
      "text/plain": [
       "  District Neighbourhood           1st Venue           2nd Venue  \\\n",
       "0   Adalar     Burgazada  Seafood Restaurant                Café   \n",
       "1   Adalar    Heybeliada                Café  Seafood Restaurant   \n",
       "2   Adalar     Kınalıada                Café  Seafood Restaurant   \n",
       "3   Adalar         Maden               Hotel       Historic Site   \n",
       "4   Adalar         Nizam               Beach     Harbor / Marina   \n",
       "\n",
       "            3rd Venue      4th Venue             5th Venue        6th Venue  \\\n",
       "0               Beach  Boat or Ferry                  Pier           Bakery   \n",
       "1  Turkish Restaurant         Bakery  Fast Food Restaurant            Beach   \n",
       "2               Beach   Dessert Shop        Breakfast Spot   Ice Cream Shop   \n",
       "3               Beach           Café        History Museum  Bed & Breakfast   \n",
       "4     Bed & Breakfast       Mountain             BBQ Joint        Cafeteria   \n",
       "\n",
       "          7th Venue     8th Venue  ...                21th Venue  \\\n",
       "0        Restaurant         Hotel  ...                     Plaza   \n",
       "1   Bed & Breakfast  Dessert Shop  ...               Snack Place   \n",
       "2  Kebab Restaurant        Buffet  ...  Mediterranean Restaurant   \n",
       "3         BBQ Joint          Road  ...                Donut Shop   \n",
       "4    Breakfast Spot         Hotel  ...               Snack Place   \n",
       "\n",
       "       22th Venue      23th Venue         24th Venue             25th Venue  \\\n",
       "0  History Museum  Ice Cream Shop  Fish & Chips Shop         Duty-free Shop   \n",
       "1  Soccer Stadium            Pool              Hotel        Harbor / Marina   \n",
       "2   Shopping Mall      Steakhouse           Pie Shop                 Bakery   \n",
       "3         Exhibit     Event Space        Fabric Shop                Factory   \n",
       "4          Hostel   Event Service        Event Space  Entertainment Service   \n",
       "\n",
       "                    26th Venue         27th Venue         28th Venue  \\\n",
       "0  Eastern European Restaurant        Film Studio  Electronics Store   \n",
       "1                        Plaza         Waterfront     History Museum   \n",
       "2               Soccer Stadium   Greek Restaurant              Hotel   \n",
       "3           Falafel Restaurant               Farm     Farmers Market   \n",
       "4           English Restaurant  Electronics Store      Çöp Şiş Place   \n",
       "\n",
       "             29th Venue        30th Venue  \n",
       "0        Farmers Market       Fabric Shop  \n",
       "1         Historic Site    Duty-free Shop  \n",
       "2          Costume Shop  Cuban Restaurant  \n",
       "3  Fast Food Restaurant       Film Studio  \n",
       "4               Exhibit       Fabric Shop  \n",
       "\n",
       "[5 rows x 32 columns]"
      ]
     },
     "execution_count": 60,
     "metadata": {},
     "output_type": "execute_result"
    }
   ],
   "source": [
    "istanbul_most_common.head()"
   ]
  },
  {
   "cell_type": "markdown",
   "metadata": {},
   "source": [
    "### Final step of analysis\n",
    "In this step we will merge our dataframes and we will apply k-means algorithm in order to find similarity.\n",
    "We should find the best k values by ...."
   ]
  },
  {
   "cell_type": "code",
   "execution_count": 61,
   "metadata": {},
   "outputs": [],
   "source": [
    "# Before adding dataframes we will add city column\n",
    "amsterdam_venues_grouped.insert(0, column='City', value=\"Amsterdam\")\n",
    "istanbul_venues_grouped.insert(0, column='City', value=\"Istanbul\")"
   ]
  },
  {
   "cell_type": "code",
   "execution_count": 62,
   "metadata": {},
   "outputs": [
    {
     "data": {
      "text/plain": [
       "(943, 517)"
      ]
     },
     "execution_count": 62,
     "metadata": {},
     "output_type": "execute_result"
    }
   ],
   "source": [
    "all_venues_grouped = amsterdam_venues_grouped.append(istanbul_venues_grouped, sort=False)\n",
    "all_venues_grouped.shape"
   ]
  },
  {
   "cell_type": "code",
   "execution_count": 64,
   "metadata": {},
   "outputs": [
    {
     "data": {
      "text/plain": [
       "True"
      ]
     },
     "execution_count": 64,
     "metadata": {},
     "output_type": "execute_result"
    }
   ],
   "source": [
    "all_venues_grouped.isnull().sum().any()"
   ]
  },
  {
   "cell_type": "markdown",
   "metadata": {},
   "source": [
    "We will fill Nan values with 0."
   ]
  },
  {
   "cell_type": "code",
   "execution_count": 65,
   "metadata": {},
   "outputs": [],
   "source": [
    "all_venues_grouped.fillna(value=0, inplace = True)"
   ]
  },
  {
   "cell_type": "markdown",
   "metadata": {},
   "source": [
    "For determining the optimal number of clusters we will use elbow method. "
   ]
  },
  {
   "cell_type": "code",
   "execution_count": 66,
   "metadata": {},
   "outputs": [],
   "source": [
    "X = all_venues_grouped.iloc[:, 3:]"
   ]
  },
  {
   "cell_type": "code",
   "execution_count": 68,
   "metadata": {},
   "outputs": [
    {
     "data": {
      "image/png": "[encoded data removed]",
      "text/plain": [
       "<Figure size 432x288 with 1 Axes>"
      ]
     },
     "metadata": {},
     "output_type": "display_data"
    }
   ],
   "source": [
    "from sklearn.cluster import KMeans\n",
    "\n",
    "sum_of_squared_distances = []\n",
    "kRange = range(1, 15)\n",
    "\n",
    "for k in kRange:\n",
    "    kmeans = KMeans(n_clusters=k, random_state=0).fit(X)\n",
    "    sum_of_squared_distances.append(kmeans.inertia_)\n",
    "    \n",
    "plt.plot(kRange, sum_of_squared_distances, 'bx-')\n",
    "plt.xlabel('k')\n",
    "plt.ylabel('Sum_of_squared_distances')\n",
    "plt.title('Elbow Method For Optimal k')\n",
    "plt.show()"
   ]
  },
  {
   "cell_type": "markdown",
   "metadata": {},
   "source": [
    "The most significant bend is at 12. That's why we choose k as 12."
   ]
  },
  {
   "cell_type": "code",
   "execution_count": 69,
   "metadata": {},
   "outputs": [],
   "source": [
    "k = 12\n",
    "kmeans = KMeans(n_clusters=k, random_state=0).fit(X)"
   ]
  },
  {
   "cell_type": "code",
   "execution_count": 70,
   "metadata": {},
   "outputs": [
    {
     "data": {
      "text/plain": [
       "(943,)"
      ]
     },
     "execution_count": 70,
     "metadata": {},
     "output_type": "execute_result"
    }
   ],
   "source": [
    "kmeans.labels_.shape"
   ]
  },
  {
   "cell_type": "code",
   "execution_count": 71,
   "metadata": {},
   "outputs": [
    {
     "data": {
      "text/html": [
       "<div>\n",
       "<style scoped>\n",
       "    .dataframe tbody tr th:only-of-type {\n",
       "        vertical-align: middle;\n",
       "    }\n",
       "\n",
       "    .dataframe tbody tr th {\n",
       "        vertical-align: top;\n",
       "    }\n",
       "\n",
       "    .dataframe thead th {\n",
       "        text-align: right;\n",
       "    }\n",
       "</style>\n",
       "<table border=\"1\" class=\"dataframe\">\n",
       "  <thead>\n",
       "    <tr style=\"text-align: right;\">\n",
       "      <th></th>\n",
       "      <th>City</th>\n",
       "      <th>District</th>\n",
       "      <th>Neighbourhood</th>\n",
       "      <th>Cluster_Labels</th>\n",
       "      <th>Accessories Store</th>\n",
       "      <th>Advertising Agency</th>\n",
       "      <th>Afghan Restaurant</th>\n",
       "      <th>African Restaurant</th>\n",
       "      <th>American Restaurant</th>\n",
       "      <th>Antique Shop</th>\n",
       "      <th>...</th>\n",
       "      <th>Video Store</th>\n",
       "      <th>Volleyball Court</th>\n",
       "      <th>Warehouse Store</th>\n",
       "      <th>Watch Shop</th>\n",
       "      <th>Water Park</th>\n",
       "      <th>Waterfront</th>\n",
       "      <th>Wedding Hall</th>\n",
       "      <th>Winery</th>\n",
       "      <th>Wings Joint</th>\n",
       "      <th>Çöp Şiş Place</th>\n",
       "    </tr>\n",
       "  </thead>\n",
       "  <tbody>\n",
       "    <tr>\n",
       "      <th>0</th>\n",
       "      <td>Amsterdam</td>\n",
       "      <td>Centrum</td>\n",
       "      <td>Alexanderplein e.o.</td>\n",
       "      <td>6</td>\n",
       "      <td>0.0</td>\n",
       "      <td>0.0</td>\n",
       "      <td>0.00</td>\n",
       "      <td>0.02</td>\n",
       "      <td>0.0</td>\n",
       "      <td>0.0</td>\n",
       "      <td>...</td>\n",
       "      <td>0.0</td>\n",
       "      <td>0.0</td>\n",
       "      <td>0.0</td>\n",
       "      <td>0.0</td>\n",
       "      <td>0.0</td>\n",
       "      <td>0.0</td>\n",
       "      <td>0.0</td>\n",
       "      <td>0.0</td>\n",
       "      <td>0.0</td>\n",
       "      <td>0.0</td>\n",
       "    </tr>\n",
       "    <tr>\n",
       "      <th>1</th>\n",
       "      <td>Amsterdam</td>\n",
       "      <td>Centrum</td>\n",
       "      <td>Amstelveldbuurt</td>\n",
       "      <td>6</td>\n",
       "      <td>0.0</td>\n",
       "      <td>0.0</td>\n",
       "      <td>0.00</td>\n",
       "      <td>0.00</td>\n",
       "      <td>0.0</td>\n",
       "      <td>0.0</td>\n",
       "      <td>...</td>\n",
       "      <td>0.0</td>\n",
       "      <td>0.0</td>\n",
       "      <td>0.0</td>\n",
       "      <td>0.0</td>\n",
       "      <td>0.0</td>\n",
       "      <td>0.0</td>\n",
       "      <td>0.0</td>\n",
       "      <td>0.0</td>\n",
       "      <td>0.0</td>\n",
       "      <td>0.0</td>\n",
       "    </tr>\n",
       "    <tr>\n",
       "      <th>2</th>\n",
       "      <td>Amsterdam</td>\n",
       "      <td>Centrum</td>\n",
       "      <td>Anjeliersbuurt Noord</td>\n",
       "      <td>6</td>\n",
       "      <td>0.0</td>\n",
       "      <td>0.0</td>\n",
       "      <td>0.00</td>\n",
       "      <td>0.00</td>\n",
       "      <td>0.0</td>\n",
       "      <td>0.0</td>\n",
       "      <td>...</td>\n",
       "      <td>0.0</td>\n",
       "      <td>0.0</td>\n",
       "      <td>0.0</td>\n",
       "      <td>0.0</td>\n",
       "      <td>0.0</td>\n",
       "      <td>0.0</td>\n",
       "      <td>0.0</td>\n",
       "      <td>0.0</td>\n",
       "      <td>0.0</td>\n",
       "      <td>0.0</td>\n",
       "    </tr>\n",
       "    <tr>\n",
       "      <th>3</th>\n",
       "      <td>Amsterdam</td>\n",
       "      <td>Centrum</td>\n",
       "      <td>Anjeliersbuurt Zuid</td>\n",
       "      <td>6</td>\n",
       "      <td>0.0</td>\n",
       "      <td>0.0</td>\n",
       "      <td>0.02</td>\n",
       "      <td>0.00</td>\n",
       "      <td>0.0</td>\n",
       "      <td>0.0</td>\n",
       "      <td>...</td>\n",
       "      <td>0.0</td>\n",
       "      <td>0.0</td>\n",
       "      <td>0.0</td>\n",
       "      <td>0.0</td>\n",
       "      <td>0.0</td>\n",
       "      <td>0.0</td>\n",
       "      <td>0.0</td>\n",
       "      <td>0.0</td>\n",
       "      <td>0.0</td>\n",
       "      <td>0.0</td>\n",
       "    </tr>\n",
       "    <tr>\n",
       "      <th>4</th>\n",
       "      <td>Amsterdam</td>\n",
       "      <td>Centrum</td>\n",
       "      <td>BG-terrein e.o.</td>\n",
       "      <td>6</td>\n",
       "      <td>0.0</td>\n",
       "      <td>0.0</td>\n",
       "      <td>0.00</td>\n",
       "      <td>0.00</td>\n",
       "      <td>0.0</td>\n",
       "      <td>0.0</td>\n",
       "      <td>...</td>\n",
       "      <td>0.0</td>\n",
       "      <td>0.0</td>\n",
       "      <td>0.0</td>\n",
       "      <td>0.0</td>\n",
       "      <td>0.0</td>\n",
       "      <td>0.0</td>\n",
       "      <td>0.0</td>\n",
       "      <td>0.0</td>\n",
       "      <td>0.0</td>\n",
       "      <td>0.0</td>\n",
       "    </tr>\n",
       "  </tbody>\n",
       "</table>\n",
       "<p>5 rows × 518 columns</p>\n",
       "</div>"
      ],
      "text/plain": [
       "        City District         Neighbourhood  Cluster_Labels  \\\n",
       "0  Amsterdam  Centrum   Alexanderplein e.o.               6   \n",
       "1  Amsterdam  Centrum       Amstelveldbuurt               6   \n",
       "2  Amsterdam  Centrum  Anjeliersbuurt Noord               6   \n",
       "3  Amsterdam  Centrum   Anjeliersbuurt Zuid               6   \n",
       "4  Amsterdam  Centrum       BG-terrein e.o.               6   \n",
       "\n",
       "   Accessories Store  Advertising Agency  Afghan Restaurant  \\\n",
       "0                0.0                 0.0               0.00   \n",
       "1                0.0                 0.0               0.00   \n",
       "2                0.0                 0.0               0.00   \n",
       "3                0.0                 0.0               0.02   \n",
       "4                0.0                 0.0               0.00   \n",
       "\n",
       "   African Restaurant  American Restaurant  Antique Shop  ...  Video Store  \\\n",
       "0                0.02                  0.0           0.0  ...          0.0   \n",
       "1                0.00                  0.0           0.0  ...          0.0   \n",
       "2                0.00                  0.0           0.0  ...          0.0   \n",
       "3                0.00                  0.0           0.0  ...          0.0   \n",
       "4                0.00                  0.0           0.0  ...          0.0   \n",
       "\n",
       "   Volleyball Court  Warehouse Store  Watch Shop  Water Park  Waterfront  \\\n",
       "0               0.0              0.0         0.0         0.0         0.0   \n",
       "1               0.0              0.0         0.0         0.0         0.0   \n",
       "2               0.0              0.0         0.0         0.0         0.0   \n",
       "3               0.0              0.0         0.0         0.0         0.0   \n",
       "4               0.0              0.0         0.0         0.0         0.0   \n",
       "\n",
       "   Wedding Hall  Winery  Wings Joint  Çöp Şiş Place  \n",
       "0           0.0     0.0          0.0            0.0  \n",
       "1           0.0     0.0          0.0            0.0  \n",
       "2           0.0     0.0          0.0            0.0  \n",
       "3           0.0     0.0          0.0            0.0  \n",
       "4           0.0     0.0          0.0            0.0  \n",
       "\n",
       "[5 rows x 518 columns]"
      ]
     },
     "execution_count": 71,
     "metadata": {},
     "output_type": "execute_result"
    }
   ],
   "source": [
    "all_venues_grouped.insert(3, column='Cluster_Labels', value=kmeans.labels_)\n",
    "all_venues_grouped.head()"
   ]
  },
  {
   "cell_type": "markdown",
   "metadata": {},
   "source": [
    "Now we will divide this datasets and insert the label into orginal datasets and after that we will visualize clusters on the map."
   ]
  },
  {
   "cell_type": "code",
   "execution_count": 72,
   "metadata": {},
   "outputs": [],
   "source": [
    "amsterdam_clusters = all_venues_grouped.loc[all_venues_grouped.City == \"Amsterdam\", ['District', 'Neighbourhood', 'Cluster_Labels']]\n",
    "istanbul_clusters = all_venues_grouped.loc[all_venues_grouped.City == \"Istanbul\", ['District', 'Neighbourhood', 'Cluster_Labels']]"
   ]
  },
  {
   "cell_type": "code",
   "execution_count": 73,
   "metadata": {},
   "outputs": [
    {
     "data": {
      "text/html": [
       "<div>\n",
       "<style scoped>\n",
       "    .dataframe tbody tr th:only-of-type {\n",
       "        vertical-align: middle;\n",
       "    }\n",
       "\n",
       "    .dataframe tbody tr th {\n",
       "        vertical-align: top;\n",
       "    }\n",
       "\n",
       "    .dataframe thead th {\n",
       "        text-align: right;\n",
       "    }\n",
       "</style>\n",
       "<table border=\"1\" class=\"dataframe\">\n",
       "  <thead>\n",
       "    <tr style=\"text-align: right;\">\n",
       "      <th></th>\n",
       "      <th>District</th>\n",
       "      <th>Neighbourhood</th>\n",
       "      <th>Latitude</th>\n",
       "      <th>Longitude</th>\n",
       "      <th>Cluster_Labels</th>\n",
       "      <th>1st Venue</th>\n",
       "      <th>2nd Venue</th>\n",
       "      <th>3rd Venue</th>\n",
       "      <th>4th Venue</th>\n",
       "      <th>5th Venue</th>\n",
       "      <th>...</th>\n",
       "      <th>21th Venue</th>\n",
       "      <th>22th Venue</th>\n",
       "      <th>23th Venue</th>\n",
       "      <th>24th Venue</th>\n",
       "      <th>25th Venue</th>\n",
       "      <th>26th Venue</th>\n",
       "      <th>27th Venue</th>\n",
       "      <th>28th Venue</th>\n",
       "      <th>29th Venue</th>\n",
       "      <th>30th Venue</th>\n",
       "    </tr>\n",
       "  </thead>\n",
       "  <tbody>\n",
       "    <tr>\n",
       "      <th>0</th>\n",
       "      <td>Nieuw-West</td>\n",
       "      <td>Calandlaan/Lelylaan</td>\n",
       "      <td>52.355708</td>\n",
       "      <td>4.809697</td>\n",
       "      <td>4</td>\n",
       "      <td>Shopping Mall</td>\n",
       "      <td>Bus Stop</td>\n",
       "      <td>Theater</td>\n",
       "      <td>Drugstore</td>\n",
       "      <td>Gym</td>\n",
       "      <td>...</td>\n",
       "      <td>Farmers Market</td>\n",
       "      <td>Fast Food Restaurant</td>\n",
       "      <td>Fish Market</td>\n",
       "      <td>Fish &amp; Chips Shop</td>\n",
       "      <td>Falafel Restaurant</td>\n",
       "      <td>Eastern European Restaurant</td>\n",
       "      <td>Farm</td>\n",
       "      <td>Fabric Shop</td>\n",
       "      <td>Zoo Exhibit</td>\n",
       "      <td>Dutch Restaurant</td>\n",
       "    </tr>\n",
       "    <tr>\n",
       "      <th>1</th>\n",
       "      <td>Nieuw-West</td>\n",
       "      <td>Osdorp Zuidoost</td>\n",
       "      <td>52.353736</td>\n",
       "      <td>4.811344</td>\n",
       "      <td>4</td>\n",
       "      <td>Flower Shop</td>\n",
       "      <td>Bus Stop</td>\n",
       "      <td>Gym / Fitness Center</td>\n",
       "      <td>Indonesian Restaurant</td>\n",
       "      <td>Turkish Restaurant</td>\n",
       "      <td>...</td>\n",
       "      <td>Food</td>\n",
       "      <td>Food &amp; Drink Shop</td>\n",
       "      <td>Food Court</td>\n",
       "      <td>Electronics Store</td>\n",
       "      <td>Dumpling Restaurant</td>\n",
       "      <td>Dutch Restaurant</td>\n",
       "      <td>Food Stand</td>\n",
       "      <td>Creperie</td>\n",
       "      <td>Cruise</td>\n",
       "      <td>Cupcake Shop</td>\n",
       "    </tr>\n",
       "    <tr>\n",
       "      <th>2</th>\n",
       "      <td>Nieuw-West</td>\n",
       "      <td>Osdorp Midden Noord</td>\n",
       "      <td>52.362078</td>\n",
       "      <td>4.791792</td>\n",
       "      <td>4</td>\n",
       "      <td>Bakery</td>\n",
       "      <td>Supermarket</td>\n",
       "      <td>Hotel</td>\n",
       "      <td>Italian Restaurant</td>\n",
       "      <td>Hobby Shop</td>\n",
       "      <td>...</td>\n",
       "      <td>Flower Shop</td>\n",
       "      <td>Fondue Restaurant</td>\n",
       "      <td>Food</td>\n",
       "      <td>Food &amp; Drink Shop</td>\n",
       "      <td>Fast Food Restaurant</td>\n",
       "      <td>Dutch Restaurant</td>\n",
       "      <td>Food Service</td>\n",
       "      <td>Dumpling Restaurant</td>\n",
       "      <td>Creperie</td>\n",
       "      <td>Cruise</td>\n",
       "    </tr>\n",
       "    <tr>\n",
       "      <th>3</th>\n",
       "      <td>Nieuw-West</td>\n",
       "      <td>Osdorp Midden Zuid</td>\n",
       "      <td>52.358838</td>\n",
       "      <td>4.793781</td>\n",
       "      <td>4</td>\n",
       "      <td>Supermarket</td>\n",
       "      <td>Turkish Restaurant</td>\n",
       "      <td>Italian Restaurant</td>\n",
       "      <td>Pharmacy</td>\n",
       "      <td>Dessert Shop</td>\n",
       "      <td>...</td>\n",
       "      <td>Falafel Restaurant</td>\n",
       "      <td>Farm</td>\n",
       "      <td>Farmers Market</td>\n",
       "      <td>Eastern European Restaurant</td>\n",
       "      <td>Fast Food Restaurant</td>\n",
       "      <td>Fish &amp; Chips Shop</td>\n",
       "      <td>Fish Market</td>\n",
       "      <td>Flea Market</td>\n",
       "      <td>Electronics Store</td>\n",
       "      <td>Doner Restaurant</td>\n",
       "    </tr>\n",
       "    <tr>\n",
       "      <th>4</th>\n",
       "      <td>Nieuw-West</td>\n",
       "      <td>Zuidwestkwadrant Osdorp Noord</td>\n",
       "      <td>52.355523</td>\n",
       "      <td>4.795597</td>\n",
       "      <td>4</td>\n",
       "      <td>Supermarket</td>\n",
       "      <td>Turkish Restaurant</td>\n",
       "      <td>Mediterranean Restaurant</td>\n",
       "      <td>BBQ Joint</td>\n",
       "      <td>Park</td>\n",
       "      <td>...</td>\n",
       "      <td>Fish &amp; Chips Shop</td>\n",
       "      <td>Ethiopian Restaurant</td>\n",
       "      <td>Fish Market</td>\n",
       "      <td>Flea Market</td>\n",
       "      <td>Flower Shop</td>\n",
       "      <td>Fondue Restaurant</td>\n",
       "      <td>Event Space</td>\n",
       "      <td>Dutch Restaurant</td>\n",
       "      <td>Empanada Restaurant</td>\n",
       "      <td>Discount Store</td>\n",
       "    </tr>\n",
       "  </tbody>\n",
       "</table>\n",
       "<p>5 rows × 35 columns</p>\n",
       "</div>"
      ],
      "text/plain": [
       "     District                  Neighbourhood   Latitude  Longitude  \\\n",
       "0  Nieuw-West            Calandlaan/Lelylaan  52.355708   4.809697   \n",
       "1  Nieuw-West                Osdorp Zuidoost  52.353736   4.811344   \n",
       "2  Nieuw-West            Osdorp Midden Noord  52.362078   4.791792   \n",
       "3  Nieuw-West             Osdorp Midden Zuid  52.358838   4.793781   \n",
       "4  Nieuw-West  Zuidwestkwadrant Osdorp Noord  52.355523   4.795597   \n",
       "\n",
       "   Cluster_Labels      1st Venue           2nd Venue  \\\n",
       "0               4  Shopping Mall            Bus Stop   \n",
       "1               4    Flower Shop            Bus Stop   \n",
       "2               4         Bakery         Supermarket   \n",
       "3               4    Supermarket  Turkish Restaurant   \n",
       "4               4    Supermarket  Turkish Restaurant   \n",
       "\n",
       "                  3rd Venue              4th Venue           5th Venue  ...  \\\n",
       "0                   Theater              Drugstore                 Gym  ...   \n",
       "1      Gym / Fitness Center  Indonesian Restaurant  Turkish Restaurant  ...   \n",
       "2                     Hotel     Italian Restaurant          Hobby Shop  ...   \n",
       "3        Italian Restaurant               Pharmacy        Dessert Shop  ...   \n",
       "4  Mediterranean Restaurant              BBQ Joint                Park  ...   \n",
       "\n",
       "           21th Venue            22th Venue      23th Venue  \\\n",
       "0      Farmers Market  Fast Food Restaurant     Fish Market   \n",
       "1                Food     Food & Drink Shop      Food Court   \n",
       "2         Flower Shop     Fondue Restaurant            Food   \n",
       "3  Falafel Restaurant                  Farm  Farmers Market   \n",
       "4   Fish & Chips Shop  Ethiopian Restaurant     Fish Market   \n",
       "\n",
       "                    24th Venue            25th Venue  \\\n",
       "0            Fish & Chips Shop    Falafel Restaurant   \n",
       "1            Electronics Store   Dumpling Restaurant   \n",
       "2            Food & Drink Shop  Fast Food Restaurant   \n",
       "3  Eastern European Restaurant  Fast Food Restaurant   \n",
       "4                  Flea Market           Flower Shop   \n",
       "\n",
       "                    26th Venue    27th Venue           28th Venue  \\\n",
       "0  Eastern European Restaurant          Farm          Fabric Shop   \n",
       "1             Dutch Restaurant    Food Stand             Creperie   \n",
       "2             Dutch Restaurant  Food Service  Dumpling Restaurant   \n",
       "3            Fish & Chips Shop   Fish Market          Flea Market   \n",
       "4            Fondue Restaurant   Event Space     Dutch Restaurant   \n",
       "\n",
       "            29th Venue        30th Venue  \n",
       "0          Zoo Exhibit  Dutch Restaurant  \n",
       "1               Cruise      Cupcake Shop  \n",
       "2             Creperie            Cruise  \n",
       "3    Electronics Store  Doner Restaurant  \n",
       "4  Empanada Restaurant    Discount Store  \n",
       "\n",
       "[5 rows x 35 columns]"
      ]
     },
     "execution_count": 73,
     "metadata": {},
     "output_type": "execute_result"
    }
   ],
   "source": [
    "amsterdam_most_common_clustered = pd.merge(amsterdam_clusters, amsterdam_most_common, on=['District', 'Neighbourhood'], how='left')\n",
    "amsterdam_merged = pd.merge(amsterdam_df, amsterdam_most_common_clustered, on=['District', 'Neighbourhood'], how='left')\n",
    "amsterdam_merged.head()"
   ]
  },
  {
   "cell_type": "code",
   "execution_count": 74,
   "metadata": {},
   "outputs": [
    {
     "data": {
      "text/html": [
       "<div>\n",
       "<style scoped>\n",
       "    .dataframe tbody tr th:only-of-type {\n",
       "        vertical-align: middle;\n",
       "    }\n",
       "\n",
       "    .dataframe tbody tr th {\n",
       "        vertical-align: top;\n",
       "    }\n",
       "\n",
       "    .dataframe thead th {\n",
       "        text-align: right;\n",
       "    }\n",
       "</style>\n",
       "<table border=\"1\" class=\"dataframe\">\n",
       "  <thead>\n",
       "    <tr style=\"text-align: right;\">\n",
       "      <th></th>\n",
       "      <th>District</th>\n",
       "      <th>Neighbourhood</th>\n",
       "      <th>Latitude</th>\n",
       "      <th>Longitude</th>\n",
       "      <th>Cluster_Labels</th>\n",
       "      <th>1st Venue</th>\n",
       "      <th>2nd Venue</th>\n",
       "      <th>3rd Venue</th>\n",
       "      <th>4th Venue</th>\n",
       "      <th>5th Venue</th>\n",
       "      <th>...</th>\n",
       "      <th>21th Venue</th>\n",
       "      <th>22th Venue</th>\n",
       "      <th>23th Venue</th>\n",
       "      <th>24th Venue</th>\n",
       "      <th>25th Venue</th>\n",
       "      <th>26th Venue</th>\n",
       "      <th>27th Venue</th>\n",
       "      <th>28th Venue</th>\n",
       "      <th>29th Venue</th>\n",
       "      <th>30th Venue</th>\n",
       "    </tr>\n",
       "  </thead>\n",
       "  <tbody>\n",
       "    <tr>\n",
       "      <th>0</th>\n",
       "      <td>Adalar</td>\n",
       "      <td>Burgazada</td>\n",
       "      <td>40.880000</td>\n",
       "      <td>29.066944</td>\n",
       "      <td>2</td>\n",
       "      <td>Seafood Restaurant</td>\n",
       "      <td>Café</td>\n",
       "      <td>Beach</td>\n",
       "      <td>Boat or Ferry</td>\n",
       "      <td>Pier</td>\n",
       "      <td>...</td>\n",
       "      <td>Plaza</td>\n",
       "      <td>History Museum</td>\n",
       "      <td>Ice Cream Shop</td>\n",
       "      <td>Fish &amp; Chips Shop</td>\n",
       "      <td>Duty-free Shop</td>\n",
       "      <td>Eastern European Restaurant</td>\n",
       "      <td>Film Studio</td>\n",
       "      <td>Electronics Store</td>\n",
       "      <td>Farmers Market</td>\n",
       "      <td>Fabric Shop</td>\n",
       "    </tr>\n",
       "    <tr>\n",
       "      <th>1</th>\n",
       "      <td>Adalar</td>\n",
       "      <td>Heybeliada</td>\n",
       "      <td>40.877974</td>\n",
       "      <td>29.095299</td>\n",
       "      <td>2</td>\n",
       "      <td>Café</td>\n",
       "      <td>Seafood Restaurant</td>\n",
       "      <td>Turkish Restaurant</td>\n",
       "      <td>Bakery</td>\n",
       "      <td>Fast Food Restaurant</td>\n",
       "      <td>...</td>\n",
       "      <td>Snack Place</td>\n",
       "      <td>Soccer Stadium</td>\n",
       "      <td>Pool</td>\n",
       "      <td>Hotel</td>\n",
       "      <td>Harbor / Marina</td>\n",
       "      <td>Plaza</td>\n",
       "      <td>Waterfront</td>\n",
       "      <td>History Museum</td>\n",
       "      <td>Historic Site</td>\n",
       "      <td>Duty-free Shop</td>\n",
       "    </tr>\n",
       "    <tr>\n",
       "      <th>2</th>\n",
       "      <td>Adalar</td>\n",
       "      <td>Kınalıada</td>\n",
       "      <td>40.909070</td>\n",
       "      <td>29.053205</td>\n",
       "      <td>3</td>\n",
       "      <td>Café</td>\n",
       "      <td>Seafood Restaurant</td>\n",
       "      <td>Beach</td>\n",
       "      <td>Dessert Shop</td>\n",
       "      <td>Breakfast Spot</td>\n",
       "      <td>...</td>\n",
       "      <td>Mediterranean Restaurant</td>\n",
       "      <td>Shopping Mall</td>\n",
       "      <td>Steakhouse</td>\n",
       "      <td>Pie Shop</td>\n",
       "      <td>Bakery</td>\n",
       "      <td>Soccer Stadium</td>\n",
       "      <td>Greek Restaurant</td>\n",
       "      <td>Hotel</td>\n",
       "      <td>Costume Shop</td>\n",
       "      <td>Cuban Restaurant</td>\n",
       "    </tr>\n",
       "    <tr>\n",
       "      <th>3</th>\n",
       "      <td>Adalar</td>\n",
       "      <td>Maden</td>\n",
       "      <td>40.858320</td>\n",
       "      <td>29.123072</td>\n",
       "      <td>0</td>\n",
       "      <td>Hotel</td>\n",
       "      <td>Historic Site</td>\n",
       "      <td>Beach</td>\n",
       "      <td>Café</td>\n",
       "      <td>History Museum</td>\n",
       "      <td>...</td>\n",
       "      <td>Donut Shop</td>\n",
       "      <td>Exhibit</td>\n",
       "      <td>Event Space</td>\n",
       "      <td>Fabric Shop</td>\n",
       "      <td>Factory</td>\n",
       "      <td>Falafel Restaurant</td>\n",
       "      <td>Farm</td>\n",
       "      <td>Farmers Market</td>\n",
       "      <td>Fast Food Restaurant</td>\n",
       "      <td>Film Studio</td>\n",
       "    </tr>\n",
       "    <tr>\n",
       "      <th>4</th>\n",
       "      <td>Adalar</td>\n",
       "      <td>Nizam</td>\n",
       "      <td>40.863169</td>\n",
       "      <td>29.116381</td>\n",
       "      <td>6</td>\n",
       "      <td>Beach</td>\n",
       "      <td>Harbor / Marina</td>\n",
       "      <td>Bed &amp; Breakfast</td>\n",
       "      <td>Mountain</td>\n",
       "      <td>BBQ Joint</td>\n",
       "      <td>...</td>\n",
       "      <td>Snack Place</td>\n",
       "      <td>Hostel</td>\n",
       "      <td>Event Service</td>\n",
       "      <td>Event Space</td>\n",
       "      <td>Entertainment Service</td>\n",
       "      <td>English Restaurant</td>\n",
       "      <td>Electronics Store</td>\n",
       "      <td>Çöp Şiş Place</td>\n",
       "      <td>Exhibit</td>\n",
       "      <td>Fabric Shop</td>\n",
       "    </tr>\n",
       "  </tbody>\n",
       "</table>\n",
       "<p>5 rows × 35 columns</p>\n",
       "</div>"
      ],
      "text/plain": [
       "  District Neighbourhood   Latitude  Longitude  Cluster_Labels  \\\n",
       "0   Adalar     Burgazada  40.880000  29.066944               2   \n",
       "1   Adalar    Heybeliada  40.877974  29.095299               2   \n",
       "2   Adalar     Kınalıada  40.909070  29.053205               3   \n",
       "3   Adalar         Maden  40.858320  29.123072               0   \n",
       "4   Adalar         Nizam  40.863169  29.116381               6   \n",
       "\n",
       "            1st Venue           2nd Venue           3rd Venue      4th Venue  \\\n",
       "0  Seafood Restaurant                Café               Beach  Boat or Ferry   \n",
       "1                Café  Seafood Restaurant  Turkish Restaurant         Bakery   \n",
       "2                Café  Seafood Restaurant               Beach   Dessert Shop   \n",
       "3               Hotel       Historic Site               Beach           Café   \n",
       "4               Beach     Harbor / Marina     Bed & Breakfast       Mountain   \n",
       "\n",
       "              5th Venue  ...                21th Venue      22th Venue  \\\n",
       "0                  Pier  ...                     Plaza  History Museum   \n",
       "1  Fast Food Restaurant  ...               Snack Place  Soccer Stadium   \n",
       "2        Breakfast Spot  ...  Mediterranean Restaurant   Shopping Mall   \n",
       "3        History Museum  ...                Donut Shop         Exhibit   \n",
       "4             BBQ Joint  ...               Snack Place          Hostel   \n",
       "\n",
       "       23th Venue         24th Venue             25th Venue  \\\n",
       "0  Ice Cream Shop  Fish & Chips Shop         Duty-free Shop   \n",
       "1            Pool              Hotel        Harbor / Marina   \n",
       "2      Steakhouse           Pie Shop                 Bakery   \n",
       "3     Event Space        Fabric Shop                Factory   \n",
       "4   Event Service        Event Space  Entertainment Service   \n",
       "\n",
       "                    26th Venue         27th Venue         28th Venue  \\\n",
       "0  Eastern European Restaurant        Film Studio  Electronics Store   \n",
       "1                        Plaza         Waterfront     History Museum   \n",
       "2               Soccer Stadium   Greek Restaurant              Hotel   \n",
       "3           Falafel Restaurant               Farm     Farmers Market   \n",
       "4           English Restaurant  Electronics Store      Çöp Şiş Place   \n",
       "\n",
       "             29th Venue        30th Venue  \n",
       "0        Farmers Market       Fabric Shop  \n",
       "1         Historic Site    Duty-free Shop  \n",
       "2          Costume Shop  Cuban Restaurant  \n",
       "3  Fast Food Restaurant       Film Studio  \n",
       "4               Exhibit       Fabric Shop  \n",
       "\n",
       "[5 rows x 35 columns]"
      ]
     },
     "execution_count": 74,
     "metadata": {},
     "output_type": "execute_result"
    }
   ],
   "source": [
    "istanbul_most_common_clustered = pd.merge(istanbul_clusters, istanbul_most_common, on=['District', 'Neighbourhood'], how='left')\n",
    "istanbul_merged = pd.merge(istanbul_df, istanbul_most_common_clustered, on=['District', 'Neighbourhood'], how='left')\n",
    "istanbul_merged.head()"
   ]
  },
  {
   "cell_type": "markdown",
   "metadata": {},
   "source": [
    "### Visualization of clusters"
   ]
  },
  {
   "cell_type": "code",
   "execution_count": 75,
   "metadata": {},
   "outputs": [],
   "source": [
    "# set color scheme for the clusters\n",
    "x = np.arange(k)\n",
    "ys = [i + x + (i*x)**2 for i in range(k)]\n",
    "colors_array = cm.rainbow(np.linspace(0, 1, len(ys)))\n",
    "rainbow = [colors.rgb2hex(i) for i in colors_array]\n",
    "\n",
    "def show_clusters(df, lat, long, z_start):\n",
    "    map_clusters = folium.Map(location=[lat, long], zoom_start=z_start)\n",
    "\n",
    "    for lat, lon, neigh, dist, cluster in zip(df['Latitude'], df['Longitude'], df['Neighbourhood'], df['District'], df['Cluster_Labels']):\n",
    "        lbl = '{}, {}, Cluster {}'.format(neigh, dist, cluster)\n",
    "        label = folium.Popup(lbl, parse_html=True)\n",
    "        folium.CircleMarker(\n",
    "            [lat, lon],\n",
    "            radius=5,\n",
    "            popup=label,\n",
    "            color=rainbow[cluster-1],\n",
    "            fill=True,\n",
    "            fill_color=rainbow[cluster-1],\n",
    "            fill_opacity=0.7).add_to(map_clusters)\n",
    "\n",
    "    return map_clusters"
   ]
  },
  {
   "cell_type": "markdown",
   "metadata": {},
   "source": [
    "Now we will show **all clusters** on the map."
   ]
  },
  {
   "cell_type": "code",
   "execution_count": null,
   "metadata": {},
   "outputs": [],
   "source": [
    "show_clusters(amsterdam_merged, lat_amsterdam, long_amsterdam, 12)"
   ]
  },
  {
   "cell_type": "markdown",
   "metadata": {},
   "source": [
    "<img src='images/amsterdam_clusters.jpg' alt='All clusters of Amsterdam city'></img>"
   ]
  },
  {
   "cell_type": "code",
   "execution_count": null,
   "metadata": {
    "scrolled": false
   },
   "outputs": [],
   "source": [
    "show_clusters(istanbul_merged, lat_istanbul, long_istanbul, 12)"
   ]
  },
  {
   "cell_type": "markdown",
   "metadata": {},
   "source": [
    "<img src='images/istanbul_clusters.jpg' alt='All clusters of Istanbul'></img>"
   ]
  },
  {
   "cell_type": "markdown",
   "metadata": {},
   "source": [
    "We choose cluster 0, because you live in that cluster in your home city. "
   ]
  },
  {
   "cell_type": "code",
   "execution_count": 78,
   "metadata": {},
   "outputs": [
    {
     "data": {
      "text/plain": [
       "(38, 35)"
      ]
     },
     "execution_count": 78,
     "metadata": {},
     "output_type": "execute_result"
    }
   ],
   "source": [
    "cluster_0 = amsterdam_merged.loc[amsterdam_merged.Cluster_Labels==0]\n",
    "cluster_0.shape"
   ]
  },
  {
   "cell_type": "markdown",
   "metadata": {},
   "source": [
    "As the next step we will focus on turkish venues on cluster 0. To do that we define functions."
   ]
  },
  {
   "cell_type": "code",
   "execution_count": 79,
   "metadata": {},
   "outputs": [],
   "source": [
    "def how_many_turkish(venue_list):\n",
    "    turkish_words = ['Borek', 'Cigkofte', 'Doner', 'Gozleme', 'Kofte', 'Kokoreç', 'Kumpir', 'Kumru', \n",
    "                     'Manti', 'Meyhane', 'Pide', 'Pilavcı', 'Söğüş', 'Tantuni', 'Turkish', 'Çöp Şiş']\n",
    "    turkish = False\n",
    "    cnt = 0\n",
    "    for r in turkish_words:\n",
    "        for venue in venue_list:\n",
    "            if r in venue:\n",
    "                cnt += 1\n",
    "                turkish = True\n",
    "            else:\n",
    "                turkish = False\n",
    "    return cnt\n",
    "\n",
    "def analyze_turkish(df_to_analyze):\n",
    "    df = df_to_analyze.reset_index(drop=True).T\n",
    "    for column in df.columns.values:\n",
    "        try:\n",
    "            df.loc['Turkish_count', column] = how_many_turkish(df.iloc[5:35, column])\n",
    "        except:\n",
    "            print(column)\n",
    "    return df.T"
   ]
  },
  {
   "cell_type": "code",
   "execution_count": 80,
   "metadata": {},
   "outputs": [],
   "source": [
    "def show_analised(df, lat, long, z_start):\n",
    "    map_clusters = folium.Map(location=[lat, long], zoom_start=z_start)\n",
    "    \n",
    "    df = df.loc[df.Turkish_count > 0]\n",
    "    for lat, lon, neigh, dist, cluster, turkish in zip(df['Latitude'], df['Longitude'], df['Neighbourhood'], \n",
    "                                                       df['District'], df['Cluster_Labels'], df['Turkish_count']):\n",
    "            lbl = '{}, {}, count {}'.format(neigh, dist, turkish)\n",
    "            label = folium.Popup(lbl, parse_html=True)\n",
    "            folium.CircleMarker(\n",
    "                [lat, lon],\n",
    "                radius=5,\n",
    "                popup=label,\n",
    "                color=rainbow[turkish-1],\n",
    "                fill=True,\n",
    "                fill_color=rainbow[turkish-1],\n",
    "                fill_opacity=0.7).add_to(map_clusters)\n",
    "\n",
    "    return map_clusters"
   ]
  },
  {
   "cell_type": "markdown",
   "metadata": {},
   "source": [
    "With functions we created we calculate now many turkish venues has each neighbourhood in cluster 0. And we choose the neighbourhoods which has at least one turkish venue. "
   ]
  },
  {
   "cell_type": "code",
   "execution_count": 81,
   "metadata": {},
   "outputs": [
    {
     "data": {
      "text/html": [
       "<div>\n",
       "<style scoped>\n",
       "    .dataframe tbody tr th:only-of-type {\n",
       "        vertical-align: middle;\n",
       "    }\n",
       "\n",
       "    .dataframe tbody tr th {\n",
       "        vertical-align: top;\n",
       "    }\n",
       "\n",
       "    .dataframe thead th {\n",
       "        text-align: right;\n",
       "    }\n",
       "</style>\n",
       "<table border=\"1\" class=\"dataframe\">\n",
       "  <thead>\n",
       "    <tr style=\"text-align: right;\">\n",
       "      <th></th>\n",
       "      <th>District</th>\n",
       "      <th>Neighbourhood</th>\n",
       "      <th>Latitude</th>\n",
       "      <th>Longitude</th>\n",
       "      <th>Cluster_Labels</th>\n",
       "      <th>1st Venue</th>\n",
       "      <th>2nd Venue</th>\n",
       "      <th>3rd Venue</th>\n",
       "      <th>4th Venue</th>\n",
       "      <th>5th Venue</th>\n",
       "      <th>...</th>\n",
       "      <th>22th Venue</th>\n",
       "      <th>23th Venue</th>\n",
       "      <th>24th Venue</th>\n",
       "      <th>25th Venue</th>\n",
       "      <th>26th Venue</th>\n",
       "      <th>27th Venue</th>\n",
       "      <th>28th Venue</th>\n",
       "      <th>29th Venue</th>\n",
       "      <th>30th Venue</th>\n",
       "      <th>Turkish_count</th>\n",
       "    </tr>\n",
       "  </thead>\n",
       "  <tbody>\n",
       "    <tr>\n",
       "      <th>2</th>\n",
       "      <td>Nieuw-West</td>\n",
       "      <td>Lucas/Andreasziekenhuis e.o.</td>\n",
       "      <td>52.3712</td>\n",
       "      <td>4.8387</td>\n",
       "      <td>0</td>\n",
       "      <td>Gym / Fitness Center</td>\n",
       "      <td>Restaurant</td>\n",
       "      <td>Hotel</td>\n",
       "      <td>Nightclub</td>\n",
       "      <td>Tennis Court</td>\n",
       "      <td>...</td>\n",
       "      <td>Farmers Market</td>\n",
       "      <td>Ethiopian Restaurant</td>\n",
       "      <td>Event Space</td>\n",
       "      <td>Dumpling Restaurant</td>\n",
       "      <td>Exhibit</td>\n",
       "      <td>Fabric Shop</td>\n",
       "      <td>Dutch Restaurant</td>\n",
       "      <td>Doner Restaurant</td>\n",
       "      <td>Drugstore</td>\n",
       "      <td>1</td>\n",
       "    </tr>\n",
       "    <tr>\n",
       "      <th>4</th>\n",
       "      <td>Nieuw-West</td>\n",
       "      <td>Andreasterrein</td>\n",
       "      <td>52.355</td>\n",
       "      <td>4.84572</td>\n",
       "      <td>0</td>\n",
       "      <td>Hotel</td>\n",
       "      <td>Coffee Shop</td>\n",
       "      <td>Snack Place</td>\n",
       "      <td>Middle Eastern Restaurant</td>\n",
       "      <td>Café</td>\n",
       "      <td>...</td>\n",
       "      <td>Deli / Bodega</td>\n",
       "      <td>Dance Studio</td>\n",
       "      <td>Farm</td>\n",
       "      <td>Farmers Market</td>\n",
       "      <td>Fast Food Restaurant</td>\n",
       "      <td>Fish &amp; Chips Shop</td>\n",
       "      <td>Event Space</td>\n",
       "      <td>Fish Market</td>\n",
       "      <td>Flea Market</td>\n",
       "      <td>1</td>\n",
       "    </tr>\n",
       "    <tr>\n",
       "      <th>25</th>\n",
       "      <td>Zuid</td>\n",
       "      <td>Kop Zuidas</td>\n",
       "      <td>52.3377</td>\n",
       "      <td>4.89464</td>\n",
       "      <td>0</td>\n",
       "      <td>Hotel</td>\n",
       "      <td>Gym / Fitness Center</td>\n",
       "      <td>Plaza</td>\n",
       "      <td>Antique Shop</td>\n",
       "      <td>Seafood Restaurant</td>\n",
       "      <td>...</td>\n",
       "      <td>Fast Food Restaurant</td>\n",
       "      <td>Fish &amp; Chips Shop</td>\n",
       "      <td>Fish Market</td>\n",
       "      <td>Flea Market</td>\n",
       "      <td>Flower Shop</td>\n",
       "      <td>Eastern European Restaurant</td>\n",
       "      <td>Doner Restaurant</td>\n",
       "      <td>Dumpling Restaurant</td>\n",
       "      <td>Department Store</td>\n",
       "      <td>1</td>\n",
       "    </tr>\n",
       "    <tr>\n",
       "      <th>30</th>\n",
       "      <td>Nieuw-West</td>\n",
       "      <td>Teleport</td>\n",
       "      <td>52.3901</td>\n",
       "      <td>4.83204</td>\n",
       "      <td>0</td>\n",
       "      <td>Hotel</td>\n",
       "      <td>Train Station</td>\n",
       "      <td>Gastropub</td>\n",
       "      <td>Platform</td>\n",
       "      <td>Coffee Shop</td>\n",
       "      <td>...</td>\n",
       "      <td>Movie Theater</td>\n",
       "      <td>Concert Hall</td>\n",
       "      <td>Convenience Store</td>\n",
       "      <td>Pizza Place</td>\n",
       "      <td>Exhibit</td>\n",
       "      <td>Falafel Restaurant</td>\n",
       "      <td>Event Space</td>\n",
       "      <td>Farm</td>\n",
       "      <td>Ethiopian Restaurant</td>\n",
       "      <td>1</td>\n",
       "    </tr>\n",
       "  </tbody>\n",
       "</table>\n",
       "<p>4 rows × 36 columns</p>\n",
       "</div>"
      ],
      "text/plain": [
       "      District                 Neighbourhood Latitude Longitude  \\\n",
       "2   Nieuw-West  Lucas/Andreasziekenhuis e.o.  52.3712    4.8387   \n",
       "4   Nieuw-West                Andreasterrein   52.355   4.84572   \n",
       "25        Zuid                    Kop Zuidas  52.3377   4.89464   \n",
       "30  Nieuw-West                      Teleport  52.3901   4.83204   \n",
       "\n",
       "   Cluster_Labels             1st Venue             2nd Venue    3rd Venue  \\\n",
       "2               0  Gym / Fitness Center            Restaurant        Hotel   \n",
       "4               0                 Hotel           Coffee Shop  Snack Place   \n",
       "25              0                 Hotel  Gym / Fitness Center        Plaza   \n",
       "30              0                 Hotel         Train Station    Gastropub   \n",
       "\n",
       "                    4th Venue           5th Venue  ...            22th Venue  \\\n",
       "2                   Nightclub        Tennis Court  ...        Farmers Market   \n",
       "4   Middle Eastern Restaurant                Café  ...         Deli / Bodega   \n",
       "25               Antique Shop  Seafood Restaurant  ...  Fast Food Restaurant   \n",
       "30                   Platform         Coffee Shop  ...         Movie Theater   \n",
       "\n",
       "              23th Venue         24th Venue           25th Venue  \\\n",
       "2   Ethiopian Restaurant        Event Space  Dumpling Restaurant   \n",
       "4           Dance Studio               Farm       Farmers Market   \n",
       "25     Fish & Chips Shop        Fish Market          Flea Market   \n",
       "30          Concert Hall  Convenience Store          Pizza Place   \n",
       "\n",
       "              26th Venue                   27th Venue        28th Venue  \\\n",
       "2                Exhibit                  Fabric Shop  Dutch Restaurant   \n",
       "4   Fast Food Restaurant            Fish & Chips Shop       Event Space   \n",
       "25           Flower Shop  Eastern European Restaurant  Doner Restaurant   \n",
       "30               Exhibit           Falafel Restaurant       Event Space   \n",
       "\n",
       "             29th Venue            30th Venue Turkish_count  \n",
       "2      Doner Restaurant             Drugstore             1  \n",
       "4           Fish Market           Flea Market             1  \n",
       "25  Dumpling Restaurant      Department Store             1  \n",
       "30                 Farm  Ethiopian Restaurant             1  \n",
       "\n",
       "[4 rows x 36 columns]"
      ]
     },
     "execution_count": 81,
     "metadata": {},
     "output_type": "execute_result"
    }
   ],
   "source": [
    "cluster_0_analised = analyze_turkish(amsterdam_merged.loc[amsterdam_merged.Cluster_Labels==0])\n",
    "cluster_0_analised.loc[cluster_0_analised.Turkish_count > 0]"
   ]
  },
  {
   "cell_type": "markdown",
   "metadata": {},
   "source": [
    "Apparently just 4 neighbourhoods met our condition. We will show them on the map but first we will show all the neighbourhoods in cluster 0. That means these locations are similar with your home town."
   ]
  },
  {
   "cell_type": "code",
   "execution_count": null,
   "metadata": {},
   "outputs": [],
   "source": [
    "show_clusters(cluster_0, lat_amsterdam, long_amsterdam, 13)"
   ]
  },
  {
   "cell_type": "markdown",
   "metadata": {},
   "source": [
    "<img src='images/amsterdam_cluster_0.jpg' alt='Cluster 0 in Amsterdam city'></img>"
   ]
  },
  {
   "cell_type": "markdown",
   "metadata": {},
   "source": [
    "Now let's show the locations of 4 neighbourhood. "
   ]
  },
  {
   "cell_type": "code",
   "execution_count": null,
   "metadata": {},
   "outputs": [],
   "source": [
    "show_analised(cluster_0_analised, lat_amsterdam, long_amsterdam, 13)"
   ]
  },
  {
   "cell_type": "markdown",
   "metadata": {},
   "source": [
    "<img src='images/amsterdam_cluster_0_analised.jpg' alt='Suggested Neighbourhoods of Amsterdam city'></img>"
   ]
  },
  {
   "cell_type": "markdown",
   "metadata": {},
   "source": [
    "## Results and Discussion <a name=\"results\"></a>"
   ]
  },
  {
   "cell_type": "markdown",
   "metadata": {},
   "source": [
    "Our analysis has three parts. Most of our effort was on the first part which is creating proper datasets to analyse.\n",
    "\n",
    "We were generated istanbul neighbourhood locations data using geocoding from Google API. Later, We used Foursquare API to get venues info. We interested in venues which are in 500m range and we limited informations with max 50 venues. \n",
    "\n",
    "In second part, we tried to find similarity between neighbourhoods related to venue informations in vicinity. We have collected venues informatios seperately but then we combine these informations into one dataframe. In this way, we analyzed all neighbourhoods in both cities and clustered them.\n",
    "\n",
    "We selected top 30 venues for each neighbourhood based on venues' densties and we choose the same cluster with those of home town. Then, the third part has begun. We directed our attention to find turkish venues in top 30 venues of our selected cluster. As a result of these parts, we reached 4 neighbourhoods that has not only in the same cluster but also has turkish venues."
   ]
  },
  {
   "cell_type": "markdown",
   "metadata": {},
   "source": [
    "## Conclusion <a name=\"conclusion\"></a>"
   ]
  },
  {
   "cell_type": "markdown",
   "metadata": {},
   "source": [
    "Purpose of this project was to identify neighbourhoods in similar with your home town and keep your adaptation period as short as possible. For a newcomer the hardest thing to find similar taste of your culture in vicinity.By getting venues information from Foursquare data we have first clustered neighbourhoods, and then by filtering the collection of locations which is similar to home town regarding existing turkish venues in vicinity we reached 4 neighbourhoods locations. We presented them on the map.\n",
    "\n",
    "You can decide optimal neighbourhood location to move on based on our analysis.  "
   ]
  }
 ],
 "metadata": {
  "kernelspec": {
   "display_name": "Python 3",
   "language": "python",
   "name": "python3"
  },
  "language_info": {
   "codemirror_mode": {
    "name": "ipython",
    "version": 3
   },
   "file_extension": ".py",
   "mimetype": "text/x-python",
   "name": "python",
   "nbconvert_exporter": "python",
   "pygments_lexer": "ipython3",
   "version": "3.7.3"
  }
 },
 "nbformat": 4,
 "nbformat_minor": 2
}
